{
 "cells": [
  {
   "cell_type": "code",
   "execution_count": 1,
   "metadata": {},
   "outputs": [],
   "source": [
    "import math\n",
    "import numpy as np"
   ]
  },
  {
   "cell_type": "markdown",
   "metadata": {},
   "source": [
    "# Summary at the bottom\n",
    "\n",
    "Functions below define dictionaries for the fuel type and its Gallons of Gasoline Equivalent"
   ]
  },
  {
   "cell_type": "code",
   "execution_count": 2,
   "metadata": {},
   "outputs": [],
   "source": [
    "def GGEDictionary(A='',B=''):\n",
    "\n",
    "    '''\n",
    "    Generates Dictionary with basic GGEs for Gasoline, Diesel, E85, Hydrogen, and Electricity.\n",
    "    \n",
    "    Input: Function takes key 'A' and value B to add to the dictionary if one other technology wants to be examined\n",
    "    \n",
    "    Output: GGE Dictionary\n",
    "    \n",
    "    '''\n",
    "    \n",
    "    GGE = dict()\n",
    "    \n",
    "    Gasoline = {'Gasoline': 1.0} #gallons\n",
    "    Diesel = {'Diesel': 1.155} #gallons\n",
    "    E85 = {'E85': 0.734} #gallons\n",
    "    Hydrogen = {'Hydrogen': 1.019} #kg\n",
    "    Lithium = {'Lithium': 0.031} #kWh\n",
    "    Update = {A: B}\n",
    "    \n",
    "    GGE.update(Gasoline)\n",
    "    GGE.update(Diesel)\n",
    "    GGE.update(E85)\n",
    "    GGE.update(Hydrogen)\n",
    "    GGE.update(Lithium)\n",
    "    \n",
    "    if A =='' and B == '':\n",
    "        return GGE\n",
    "    else:\n",
    "        GGE.update(Update)\n",
    "        return GGE\n",
    "\n",
    "GGE_Dictionary = GGEDictionary()"
   ]
  },
  {
   "cell_type": "code",
   "execution_count": 3,
   "metadata": {},
   "outputs": [],
   "source": [
    "def CostForUnitDictionary(A = '', B = ''):\n",
    "    \n",
    "    '''\n",
    "    Generates a dictionary of the $/Unit for different fuel technologies\n",
    "    \n",
    "    Input: Function takes key 'A' and value B to add to the dictionary if one other technology wants to be examined\n",
    "    \n",
    "    Output: Cost per Unit Dictionary\n",
    "    \n",
    "    '''\n",
    "    \n",
    "    Cost = dict()\n",
    "    \n",
    "    Gasoline = {'Gasoline': 2.231} \n",
    "    Diesel = {'Diesel': 2.41 } \n",
    "    E85 = {'E85': 1.71 }\n",
    "    Hydrogen = {'Hydrogen': 13.99}\n",
    "    Lithium = {'Lithium': 0.0426}\n",
    "    Update = {A: B}\n",
    "    \n",
    "    Cost.update(Gasoline)\n",
    "    Cost.update(Diesel)\n",
    "    Cost.update(E85)\n",
    "    Cost.update(Hydrogen)\n",
    "    Cost.update(Lithium)\n",
    "    \n",
    "    if A =='' and B == '':\n",
    "        return Cost\n",
    "    else:\n",
    "        Cost.update(Update)\n",
    "        return Cost\n",
    "    \n",
    "Dollars_Per_Unit_Dictionary = CostForUnitDictionary()"
   ]
  },
  {
   "cell_type": "markdown",
   "metadata": {},
   "source": [
    "Function below returns gallons of gasoline equivalent units of desired fuel from the UIUC fleet"
   ]
  },
  {
   "cell_type": "code",
   "execution_count": 4,
   "metadata": {},
   "outputs": [],
   "source": [
    "def FuelEquivalent(Fuel, Dictionary):\n",
    "    \n",
    "    '''\n",
    "    INPUT: 1) Fuel Type you wish to know the equivalence\n",
    "           2) Dictionary containing the GGE for each type\n",
    "           \n",
    "    OUTPUT: Amount of units of the selected fuel that is equivalent to what is being used by Unleaded, Diesel, and E85 in the system.\n",
    "    \n",
    "    '''\n",
    "    \n",
    "    \n",
    "    FuelData = 'FuelData.csv'\n",
    "    \n",
    "    with open(FuelData,'r') as i:\n",
    "        fueldata = i.readlines()\n",
    "    \n",
    "    lines = list()\n",
    "    \n",
    "    for line in fueldata:\n",
    "        lines.append(line.split(','))\n",
    "        \n",
    "    counter = 0\n",
    "        \n",
    "    for line in lines:\n",
    "        if line[6] == 'Asset':\n",
    "            continue\n",
    "        else:\n",
    "            if line[16].split(' ')[2] == 'UNLEADED':\n",
    "                \n",
    "                counter += Dictionary['Gasoline'] * (float(line[16].split(' ')[0]))\n",
    "                \n",
    "            elif line[16].split(' ')[2] == 'DIESEL':\n",
    "                \n",
    "                counter += Dictionary['Diesel'] * (float(line[16].split(' ')[0]))\n",
    "            \n",
    "            elif line[16].split(' ')[2] == 'E85':\n",
    "                \n",
    "                counter += Dictionary['E85'] * (float(line[16].split(' ')[0]))\n",
    "                \n",
    "    if Fuel == 'Gasoline':\n",
    "        \n",
    "        return round(counter,2)\n",
    "    \n",
    "    elif Fuel == 'Diesel':\n",
    "        \n",
    "        Factor = counter / Dictionary['Diesel']\n",
    "        \n",
    "        return round(Factor,2)\n",
    "    \n",
    "    elif Fuel == 'E85':\n",
    "        \n",
    "        Factor = counter / Dictionary['E85']\n",
    "        \n",
    "        return round(Factor,2)\n",
    "    \n",
    "    elif Fuel == 'Hydrogen':\n",
    "        \n",
    "        Factor = counter / Dictionary['Hydrogen']\n",
    "        \n",
    "        return round(Factor,2)\n",
    "    \n",
    "    elif Fuel == 'Lithium':\n",
    "        \n",
    "        Factor = counter / Dictionary['Lithium']\n",
    "        \n",
    "        return round(Factor,2)\n",
    "    \n",
    "    else:\n",
    "        \n",
    "        return print('Fuel type not supported. Please use either a string for \"Gasoline\", \"Diesel\", \"E85\", \"Hydrogen\", or \"Lithium\".')"
   ]
  },
  {
   "cell_type": "markdown",
   "metadata": {},
   "source": [
    "Function below returns cost if fuel for UIUC fleet was replaced with that type"
   ]
  },
  {
   "cell_type": "code",
   "execution_count": 5,
   "metadata": {
    "scrolled": true
   },
   "outputs": [],
   "source": [
    "def FuelEquivalentCost(Fuel, FuelCostDictionary):\n",
    "    \n",
    "    '''\n",
    "    Input: 1) Fuel Type String\n",
    "           2) Fuel Amount\n",
    "           3) Dictionary with Fuel Costs\n",
    "    \n",
    "    Output: Total Cost of Fuel Type for 2019\n",
    "    \n",
    "    '''\n",
    "    \n",
    "    Fuel_Amount = FuelEquivalent(Fuel,GGE_Dictionary)\n",
    "    \n",
    "    return round(Fuel_Amount * FuelCostDictionary[Fuel],2)"
   ]
  },
  {
   "cell_type": "markdown",
   "metadata": {},
   "source": [
    "The function below generates a dictionary of the fuel technology type and its equivalent CO2 emissions."
   ]
  },
  {
   "cell_type": "code",
   "execution_count": 6,
   "metadata": {},
   "outputs": [],
   "source": [
    "def CO2Equivalent(A = '', B = ''):\n",
    "    \n",
    "    '''\n",
    "    Generates a dictionary linking each fuel technology with its CO2 equivalent per unit\n",
    "    \n",
    "    Input: Function takes key 'A' and value B to add to the dictionary if one other technology wants to be examined\n",
    "    \n",
    "    Output: A dictionary linking the fuel technology to its CO2 equivalent in kg\n",
    "    \n",
    "    '''\n",
    "    \n",
    "    CO2 = dict()\n",
    "    \n",
    "    Gasoline = {'Gasoline': 8.89}\n",
    "    Diesel = {'Diesel': 10.16}\n",
    "    E85 = {'E85': 5.75 * 0.85 + 8.89 * 0.15}\n",
    "    Hydrogen = {'Hydrogen': 0}\n",
    "    Lithium = {'Lithium': 0}\n",
    "    \n",
    "    CO2.update(Gasoline)\n",
    "    CO2.update(Diesel)\n",
    "    CO2.update(E85)\n",
    "    CO2.update(Hydrogen)\n",
    "    CO2.update(Lithium)\n",
    "    \n",
    "    return CO2\n",
    "\n",
    "CO2_Dictionary = CO2Equivalent()"
   ]
  },
  {
   "cell_type": "markdown",
   "metadata": {},
   "source": [
    "The function below calculates the amount of CO2 produced had the university used only that fuel type"
   ]
  },
  {
   "cell_type": "code",
   "execution_count": 7,
   "metadata": {},
   "outputs": [],
   "source": [
    "def CO2Emissions(Fuel):\n",
    "    \n",
    "    '''\n",
    "    Input: 1) String of fuel technology type to be analyzed ('Gasoline', 'Diesel', 'E85', 'Hydrogen', 'Lithium')\n",
    "    \n",
    "    Output: The amount of CO2 in kg produced by the UIUC fleet in 2019 had it only used that fuel type\n",
    "    \n",
    "    '''\n",
    "    \n",
    "    Fuel_Amount = FuelEquivalent(Fuel,GGE_Dictionary)\n",
    "    \n",
    "    \n",
    "    \n",
    "    return round(Fuel_Amount * (CO2_Dictionary[Fuel]),2)"
   ]
  },
  {
   "cell_type": "markdown",
   "metadata": {},
   "source": [
    "# Summary\n",
    "\n",
    "Values are not confirmed yet for the GGE and Prices (looking for the most accurate data)\n",
    "\n",
    "Lithium-Ion Battery information is hard to come by, will keep searching (seems to be rated only at miles per gallon of gasoline equivalent\n",
    "\n",
    "<br>\n",
    "\n",
    "__Uncertainties:__\n",
    "\n",
    "1) All values for price per unit fuel seem to be varying from source to source with hydrogen and Lithium especially hard to find\n",
    "\n",
    "2) Coding errors/mistakes?\n",
    "\n",
    "3) Calculating GGE and \\$/GGE incorrectly maybe?\n",
    "\n",
    "4) Electic vehicle emissions\n",
    "\n",
    "5) E85 emissions per gallon (approximated)\n",
    "\n",
    "<br>\n",
    "\n",
    "__Still To Do:__\n",
    "\n",
    "1) Electric vehicle emissions\n",
    "\n",
    "<br>"
   ]
  },
  {
   "cell_type": "markdown",
   "metadata": {},
   "source": [
    "# Sources\n",
    "\n",
    "https://www.eia.gov/environment/emissions/co2_vol_mass.php   $\\rightarrow $ CO2 Factors for Gasoline and Diesel\n",
    "\n",
    "https://epact.energy.gov/fuel-conversion-factors    $\\rightarrow $ GGE for Gasoline, Diesel, E85 and Hydrogen\n",
    "\n",
    "https://www.epa.gov/sites/production/files/2015-07/documents/emission-factors_2014.pdf $\\rightarrow $ CO2 Factor for 100% Ethanol (used 85% * Ethanol CO2 Factor + 15% Gasoline CO2 Factor as an E85 approximation (could not find one))\n",
    "\n",
    "https://epact.energy.gov/fuel-conversion-factors    $\\rightarrow $ GGE for electricity\n",
    "\n",
    "https://www.elevateenergy.org/wp/wp-content/uploads/Hourly-Pricing-and-EVs-050714.pdf  $\\rightarrow $ Electricity cost per kWh\n",
    "\n",
    "Electricity emissions?\n",
    "\n",
    "https://gasprices.aaa.com/state-gas-price-averages/     $\\rightarrow$ Illinois Gasoline, Diesel prices\n",
    "\n",
    "https://cafcp.org/content/cost-refill#:~:text=Long%20Answer%3A,cost%20of%20%240.21%20per%20mile.   $\\rightarrow$ Hydrogen cost in California\n",
    "\n",
    "<br>\n"
   ]
  },
  {
   "cell_type": "code",
   "execution_count": 8,
   "metadata": {},
   "outputs": [
    {
     "name": "stdout",
     "output_type": "stream",
     "text": [
      "One gallon of Gasoline is equivalent to 1.0 gallons of Gasoline.\n",
      "One gallon of Diesel is equivalent to 1.155 gallons of Gasoline.\n",
      "One gallon of E85 is equivalent to 0.734 gallons of Gasoline.\n",
      "One kg of Hydrogen is equivalent to 1.019 gallons of Gasoline.\n",
      "One kWh of Electricity is equivalent to 0.031 gallons of Gasoline.\n"
     ]
    }
   ],
   "source": [
    "print('One gallon of Gasoline is equivalent to {} gallons of Gasoline.'.format(GGE_Dictionary['Gasoline']))\n",
    "print('One gallon of Diesel is equivalent to {} gallons of Gasoline.'.format(GGE_Dictionary['Diesel']))\n",
    "print('One gallon of E85 is equivalent to {} gallons of Gasoline.'.format(GGE_Dictionary['E85']))\n",
    "print('One kg of Hydrogen is equivalent to {} gallons of Gasoline.'.format(GGE_Dictionary['Hydrogen']))\n",
    "print('One kWh of Electricity is equivalent to {} gallons of Gasoline.'.format(GGE_Dictionary['Lithium']))"
   ]
  },
  {
   "cell_type": "code",
   "execution_count": 9,
   "metadata": {},
   "outputs": [
    {
     "name": "stdout",
     "output_type": "stream",
     "text": [
      "The cost of one GGE in Gasoline is $2.23.\n",
      "The cost of one GGE in Diesel is $2.09.\n",
      "The cost of one GGE in E85 is $2.33.\n",
      "The cost of one GGE in Hydrogen is $13.73.\n",
      "The cost of one GGE in Electricity is $1.37.\n"
     ]
    }
   ],
   "source": [
    "print('The cost of one GGE in Gasoline is ${}.'.format(round(Dollars_Per_Unit_Dictionary['Gasoline'] / GGE_Dictionary['Gasoline'],2)))\n",
    "print('The cost of one GGE in Diesel is ${}.'.format(round(Dollars_Per_Unit_Dictionary['Diesel'] / GGE_Dictionary['Diesel'],2)))\n",
    "print('The cost of one GGE in E85 is ${}.'.format(round(Dollars_Per_Unit_Dictionary['E85'] / GGE_Dictionary['E85'],2)))\n",
    "print('The cost of one GGE in Hydrogen is ${}.'.format(round(Dollars_Per_Unit_Dictionary['Hydrogen'] / GGE_Dictionary['Hydrogen'],2)))\n",
    "print('The cost of one GGE in Electricity is ${}.'.format(round(Dollars_Per_Unit_Dictionary['Lithium'] / GGE_Dictionary['Lithium'],2)))"
   ]
  },
  {
   "cell_type": "markdown",
   "metadata": {},
   "source": [
    "This below box is what the demand would have been in 2019 had UIUC used that fuel type to replace all other fuels."
   ]
  },
  {
   "cell_type": "code",
   "execution_count": 10,
   "metadata": {},
   "outputs": [
    {
     "name": "stdout",
     "output_type": "stream",
     "text": [
      "The UIUC Fleet would have demanded 129290.62 gal of Gasoline in 2019.\n",
      "The UIUC Fleet would have demanded 111939.93 gal of Diesel in 2019.\n",
      "The UIUC Fleet would have demanded 176145.26 gal of E85 in 2019.\n",
      "The UIUC Fleet would have demanded 126879.90 kg of Hydrogen in 2019.\n",
      "The UIUC Fleet would have demanded 4170665.09 kWh of Electricity in 2019.\n"
     ]
    }
   ],
   "source": [
    "print('The UIUC Fleet would have demanded',FuelEquivalent('Gasoline',GGE_Dictionary),'gal of Gasoline in 2019.')\n",
    "print('The UIUC Fleet would have demanded',FuelEquivalent('Diesel',GGE_Dictionary),'gal of Diesel in 2019.')\n",
    "print('The UIUC Fleet would have demanded',FuelEquivalent('E85',GGE_Dictionary),'gal of E85 in 2019.')\n",
    "print('The UIUC Fleet would have demanded',str(FuelEquivalent('Hydrogen',GGE_Dictionary))+'0','kg of Hydrogen in 2019.')\n",
    "print('The UIUC Fleet would have demanded',FuelEquivalent('Lithium',GGE_Dictionary),'kWh of Electricity in 2019.')\n"
   ]
  },
  {
   "cell_type": "markdown",
   "metadata": {},
   "source": [
    "This would have cost the university:"
   ]
  },
  {
   "cell_type": "code",
   "execution_count": 11,
   "metadata": {},
   "outputs": [
    {
     "name": "stdout",
     "output_type": "stream",
     "text": [
      "$288447.370 in Gasoline.\n",
      "$269775.23 in Diesel.\n",
      "$301208.39 in E85.\n",
      "$1775049.80 in Hydrogen.\n",
      "$177670.33 in Electricty.\n"
     ]
    }
   ],
   "source": [
    "print('${}0 in Gasoline.'.format(round(FuelEquivalent('Gasoline',GGE_Dictionary) * Dollars_Per_Unit_Dictionary['Gasoline'],2)))\n",
    "print('${} in Diesel.'.format(round(FuelEquivalent('Diesel',GGE_Dictionary) * Dollars_Per_Unit_Dictionary['Diesel'],2)))\n",
    "print('${} in E85.'.format(round(FuelEquivalent('E85',GGE_Dictionary) * Dollars_Per_Unit_Dictionary['E85'],2)))\n",
    "print('${}0 in Hydrogen.'.format(round(FuelEquivalent('Hydrogen',GGE_Dictionary) * Dollars_Per_Unit_Dictionary['Hydrogen'],2)))\n",
    "print('${} in Electricty.'.format(round(FuelEquivalent('Lithium',GGE_Dictionary) * Dollars_Per_Unit_Dictionary['Lithium'],2)))"
   ]
  },
  {
   "cell_type": "markdown",
   "metadata": {},
   "source": [
    "And created a CO2 output of:"
   ]
  },
  {
   "cell_type": "code",
   "execution_count": 12,
   "metadata": {},
   "outputs": [
    {
     "name": "stdout",
     "output_type": "stream",
     "text": [
      "1149393.61 kg of CO2 from Gasoline.\n",
      "1137309.69 kg of CO2 from Diesel.\n",
      "1095799.66 kg of CO2 from E85.\n",
      "0.0 kg of CO2 from Hydrogen.\n",
      "0.0 kg of CO2 from Electricity.\n"
     ]
    }
   ],
   "source": [
    "print('{} kg of CO2 from Gasoline.'.format(round(CO2Emissions('Gasoline'),2)))\n",
    "print('{} kg of CO2 from Diesel.'.format(round(CO2Emissions('Diesel'),2)))\n",
    "print('{} kg of CO2 from E85.'.format(round(CO2Emissions('E85'),2)))\n",
    "print('{} kg of CO2 from Hydrogen.'.format(round(CO2Emissions('Hydrogen'),2)))\n",
    "print('{} kg of CO2 from Electricity.'.format(round(CO2Emissions('Lithium'),2)))"
   ]
  }
 ],
 "metadata": {
  "kernelspec": {
   "display_name": "Python 3",
   "language": "python",
   "name": "python3"
  },
  "language_info": {
   "codemirror_mode": {
    "name": "ipython",
    "version": 3
   },
   "file_extension": ".py",
   "mimetype": "text/x-python",
   "name": "python",
   "nbconvert_exporter": "python",
   "pygments_lexer": "ipython3",
   "version": "3.7.3"
  }
 },
 "nbformat": 4,
 "nbformat_minor": 2
}
