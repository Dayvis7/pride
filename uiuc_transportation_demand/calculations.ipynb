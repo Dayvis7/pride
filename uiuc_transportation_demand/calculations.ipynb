{
 "cells": [
  {
   "cell_type": "code",
   "execution_count": 1,
   "metadata": {},
   "outputs": [],
   "source": [
    "from functions import units\n",
    "from functions import gge_dictionary\n",
    "from functions import unit_cost_dictionary\n",
    "from functions import gge_cost_dictionary\n",
    "from functions import fuel_equivalent\n",
    "from functions import fuel_equivalent_cost\n",
    "from functions import co2_equivalent\n",
    "from functions import co2_emissions"
   ]
  },
  {
   "cell_type": "markdown",
   "metadata": {},
   "source": [
    "# Summary\n",
    "\n",
    "Values are not confirmed yet for the GGE and Prices (looking for the most accurate data)\n",
    "\n",
    "Lithium-Ion Battery information is hard to come by, will keep searching (seems to be rated only at miles per gallon of gasoline equivalent\n",
    "\n",
    "<br>\n",
    "\n",
    "__Uncertainties:__\n",
    "\n",
    "1) All values for price per unit fuel seem to be varying from source to source with hydrogen and Lithium especially hard to find\n",
    "\n",
    "2) Coding errors/mistakes?\n",
    "\n",
    "3) Calculating GGE and \\$/GGE incorrectly maybe?\n",
    "\n",
    "4) Electic vehicle emissions\n",
    "\n",
    "5) E85 emissions per gallon (approximated)\n",
    "\n",
    "<br>\n",
    "\n",
    "__Still To Do:__\n",
    "\n",
    "1) Electric vehicle emissions (cannot find data)\n",
    "\n",
    "<br>"
   ]
  },
  {
   "cell_type": "markdown",
   "metadata": {},
   "source": [
    "# Sources\n",
    "\n",
    "https://www.eia.gov/environment/emissions/co2_vol_mass.php   $\\rightarrow $ CO2 Factors for Gasoline and Diesel\n",
    "\n",
    "https://epact.energy.gov/fuel-conversion-factors    $\\rightarrow $ GGE for Gasoline, Diesel, E85 and Hydrogen\n",
    "\n",
    "https://www.epa.gov/sites/production/files/2015-07/documents/emission-factors_2014.pdf $\\rightarrow $ CO2 Factor for 100% Ethanol (used 85% * Ethanol CO2 Factor + 15% Gasoline CO2 Factor as an E85 approximation (could not find one))\n",
    "\n",
    "https://epact.energy.gov/fuel-conversion-factors    $\\rightarrow $ GGE for electricity\n",
    "\n",
    "https://www.elevateenergy.org/wp/wp-content/uploads/Hourly-Pricing-and-EVs-050714.pdf  $\\rightarrow $ Electricity cost per kWh\n",
    "\n",
    "Electricity emissions?\n",
    "\n",
    "https://gasprices.aaa.com/state-gas-price-averages/     $\\rightarrow$ Illinois Gasoline, Diesel prices\n",
    "\n",
    "https://cafcp.org/content/cost-refill#:~:text=Long%20Answer%3A,cost%20of%20%240.21%20per%20mile.   $\\rightarrow$ Hydrogen cost in California\n",
    "\n",
    "<br>\n"
   ]
  },
  {
   "cell_type": "code",
   "execution_count": 2,
   "metadata": {},
   "outputs": [
    {
     "name": "stdout",
     "output_type": "stream",
     "text": [
      "One gallon of Gasoline is equivalent to 1.0 gallons of Gasoline.\n",
      "One gallon of Diesel is equivalent to 1.155 gallons of Gasoline.\n",
      "One gallon of E85 is equivalent to 0.734 gallons of Gasoline.\n",
      "One kg of Hydrogen is equivalent to 1.019 gallons of Gasoline.\n",
      "One kWh of Electricity is equivalent to 0.031 gallons of Gasoline.\n"
     ]
    }
   ],
   "source": [
    "for fuel in gge_dictionary():\n",
    "    print(f\"One {units()[fuel]} of {fuel} is equivalent to {gge_dictionary()[fuel]} gallons of Gasoline.\")"
   ]
  },
  {
   "cell_type": "code",
   "execution_count": 3,
   "metadata": {},
   "outputs": [
    {
     "name": "stdout",
     "output_type": "stream",
     "text": [
      "The cost of one gallon of Gasoline in Gasoline equivalents is $2.23.\n",
      "The cost of one gallon of Gasoline in Diesel equivalents is $2.09.\n",
      "The cost of one gallon of Gasoline in E85 equivalents is $2.33.\n",
      "The cost of one gallon of Gasoline in Hydrogen equivalents is $13.73.\n",
      "The cost of one gallon of Gasoline in Electricity equivalents is $1.37.\n"
     ]
    }
   ],
   "source": [
    "for fuel in gge_dictionary():\n",
    "    print(f\"The cost of one gallon of Gasoline in {fuel} equivalents is ${round(gge_cost_dictionary()[fuel],2)}.\")"
   ]
  },
  {
   "cell_type": "markdown",
   "metadata": {},
   "source": [
    "This below box is what the demand would have been in 2019 had UIUC used that fuel type to replace all other fuels."
   ]
  },
  {
   "cell_type": "code",
   "execution_count": 4,
   "metadata": {},
   "outputs": [
    {
     "name": "stdout",
     "output_type": "stream",
     "text": [
      "The UIUC Fleet would have demanded 129290.62 gallons of Gasoline in 2019.\n",
      "The UIUC Fleet would have demanded 111939.93 gallons of Diesel in 2019.\n",
      "The UIUC Fleet would have demanded 176145.26 gallons of E85 in 2019.\n",
      "The UIUC Fleet would have demanded 126880 kgs of Hydrogen in 2019.\n",
      "The UIUC Fleet would have demanded 4170665 kWhs of Electricity in 2019.\n"
     ]
    }
   ],
   "source": [
    "for fuel in gge_dictionary():\n",
    "    print(f\"The UIUC Fleet would have demanded {fuel_equivalent(fuel)} {units()[fuel]}s of {fuel} in 2019.\")"
   ]
  },
  {
   "cell_type": "markdown",
   "metadata": {},
   "source": [
    "This would have cost the university:"
   ]
  },
  {
   "cell_type": "code",
   "execution_count": 5,
   "metadata": {},
   "outputs": [
    {
     "name": "stdout",
     "output_type": "stream",
     "text": [
      "$288318.08 in Gasoline.\n",
      "$269775.23 in Diesel.\n",
      "$301208.39 in E85.\n",
      "$1775051.2 in Hydrogen.\n",
      "$177670.33 in Electricity.\n"
     ]
    }
   ],
   "source": [
    "for fuel in gge_dictionary():\n",
    "    print(f\"${fuel_equivalent_cost(fuel)} in {fuel}.\")"
   ]
  },
  {
   "cell_type": "markdown",
   "metadata": {},
   "source": [
    "And created a CO2 output of:"
   ]
  },
  {
   "cell_type": "code",
   "execution_count": 6,
   "metadata": {},
   "outputs": [
    {
     "name": "stdout",
     "output_type": "stream",
     "text": [
      "1149393.61 kg of CO2 from Gasoline.\n",
      "1137309.69 kg of CO2 from Diesel.\n",
      "1095799.66 kg of CO2 from E85.\n",
      "0 kg of CO2 from Hydrogen.\n",
      "0 kg of CO2 from Electricity.\n"
     ]
    }
   ],
   "source": [
    "for fuel in gge_dictionary():\n",
    "    print(f\"{co2_emissions(fuel)} kg of CO2 from {fuel}.\")"
   ]
  }
 ],
 "metadata": {
  "kernelspec": {
   "display_name": "Python 3",
   "language": "python",
   "name": "python3"
  },
  "language_info": {
   "codemirror_mode": {
    "name": "ipython",
    "version": 3
   },
   "file_extension": ".py",
   "mimetype": "text/x-python",
   "name": "python",
   "nbconvert_exporter": "python",
   "pygments_lexer": "ipython3",
   "version": "3.7.3"
  }
 },
 "nbformat": 4,
 "nbformat_minor": 2
}
