{
 "cells": [
  {
   "cell_type": "markdown",
   "metadata": {},
   "source": [
    "Low temperature Electrolysis: 1 kg/h H2 = 70 kWe\n",
    "\n",
    "Theoretical value = 39.45 kWe\n",
    "\n",
    "Hight temperature Electrolysis(1050K=780C): 1 kg/h H2 = 51.02 kWe + 10.66 kWth\n",
    "\n",
    "Theoretical value = 33.72 kWe\n",
    "\n",
    "https://www1.eere.energy.gov/solar/pdfs/doctor.pdf"
   ]
  },
  {
   "cell_type": "code",
   "execution_count": null,
   "metadata": {},
   "outputs": [],
   "source": []
  },
  {
   "cell_type": "markdown",
   "metadata": {},
   "source": [
    "100 SLPH H2. Standard liter T=0C, P=1bar, rho = 0.088 kg/m3\n",
    "100 SL * 1e-3 * 0.088 = 8.8 g\n",
    "\n",
    "https://www.hydrogen.energy.gov/pdfs/review05/pd24_herring.pdf\n"
   ]
  },
  {
   "cell_type": "code",
   "execution_count": 3,
   "metadata": {},
   "outputs": [
    {
     "data": {
      "text/plain": [
       "0.0088"
      ]
     },
     "execution_count": 3,
     "metadata": {},
     "output_type": "execute_result"
    }
   ],
   "source": [
    "def SLPH_to_kgph(quant):\n",
    "    # [standard liter/h to kg/h]\n",
    "    return quant*1e-3*0.088\n",
    "\n",
    "SLPH_to_kgph(100)"
   ]
  },
  {
   "cell_type": "markdown",
   "metadata": {},
   "source": [
    "600 MWth gas cooled reactor could produce 2.5 kg/s of H2.\n",
    "\n",
    "https://www.energy.gov/sites/prod/files/2014/08/f18/fcto_2014_electrolytic_h2_wkshp_obrien1.pdf"
   ]
  },
  {
   "cell_type": "code",
   "execution_count": 4,
   "metadata": {},
   "outputs": [
    {
     "data": {
      "text/plain": [
       "2.4515024642450327"
      ]
     },
     "execution_count": 4,
     "metadata": {},
     "output_type": "execute_result"
    }
   ],
   "source": [
    "def SCFD_to_kgph(quant):\n",
    "    # [standard cft/d to kg/s]\n",
    "    return quant/35.3147/3600/24*0.088\n",
    "\n",
    "SCFD_to_kgph(85e6)"
   ]
  },
  {
   "cell_type": "markdown",
   "metadata": {},
   "source": [
    "https://pubs.rsc.org/en/content/articlelanding/2008/jm/b718822f/unauth#!divAbstract"
   ]
  },
  {
   "cell_type": "code",
   "execution_count": null,
   "metadata": {},
   "outputs": [],
   "source": []
  },
  {
   "cell_type": "markdown",
   "metadata": {},
   "source": [
    "https://www.sciencedirect.com/science/article/pii/S0378775311024384"
   ]
  },
  {
   "cell_type": "code",
   "execution_count": null,
   "metadata": {},
   "outputs": [],
   "source": []
  }
 ],
 "metadata": {
  "kernelspec": {
   "display_name": "Python 3",
   "language": "python",
   "name": "python3"
  },
  "language_info": {
   "codemirror_mode": {
    "name": "ipython",
    "version": 3
   },
   "file_extension": ".py",
   "mimetype": "text/x-python",
   "name": "python",
   "nbconvert_exporter": "python",
   "pygments_lexer": "ipython3",
   "version": "3.6.7"
  }
 },
 "nbformat": 4,
 "nbformat_minor": 4
}
