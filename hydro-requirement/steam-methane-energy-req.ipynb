{
 "cells": [
  {
   "cell_type": "markdown",
   "metadata": {},
   "source": [
    "# Steam-Methane Reforming\n",
    "\n",
    "Steam Methane Reforming (SMR) Reaction (800-870C and 20-30 atm):\n",
    "\n",
    "$CH_4 + H_2O \\rightarrow 3H_2 + CO, \\Delta H^{\\circ} = 225.4$ kJ/mol\n",
    "\n",
    "Water Gas Shift (WGS) Reaction:\n",
    "\n",
    "$CO + H_2O \\rightarrow H_2 + CO_2, \\Delta H^{\\circ} = -42$ kJ/mol\n",
    "\n",
    "<cite data-cite=\"6356110/MUGW5263\"></cite>\n",
    "https://linkinghub.elsevier.com/retrieve/pii/B9780444641274000148"
   ]
  },
  {
   "cell_type": "code",
   "execution_count": 1,
   "metadata": {},
   "outputs": [
    {
     "data": {
      "text/plain": [
       "496.031746031746"
      ]
     },
     "execution_count": 1,
     "metadata": {},
     "output_type": "execute_result"
    }
   ],
   "source": [
    "mh2 = 1  # hydrogen mass [kg]\n",
    "Mh = 1.008  # hydrogen molar mass [g/mol]\n",
    "nomolh2 = mh2*1e3/2/Mh  # number of h2 mols\n",
    "nomolh2"
   ]
  },
  {
   "cell_type": "code",
   "execution_count": 2,
   "metadata": {},
   "outputs": [
    {
     "data": {
      "text/plain": [
       "31.0570987654321"
      ]
     },
     "execution_count": 2,
     "metadata": {},
     "output_type": "execute_result"
    }
   ],
   "source": [
    "dG = 225.4  # E[kJ/mol] required to split the H2O molecule\n",
    "E = dG * nomolh2  # E[kJ] to produce 1kg of H2\n",
    "E = E/3600  # E [kWh]\n",
    "E"
   ]
  },
  {
   "cell_type": "markdown",
   "metadata": {},
   "source": [
    "That's the thermal energy required to do the chemical conversion, we need to add the thermal energy to produce the steam.\n",
    "\n",
    "What's the steam pressure and temperature necessary for the steam methane reforming?\n",
    "P = 20-30 atm, P$_{ave}$ = 25 atm\n",
    "T = 900 C"
   ]
  },
  {
   "cell_type": "code",
   "execution_count": null,
   "metadata": {},
   "outputs": [],
   "source": []
  },
  {
   "cell_type": "markdown",
   "metadata": {},
   "source": [
    "### Mass Balance"
   ]
  },
  {
   "cell_type": "code",
   "execution_count": 3,
   "metadata": {},
   "outputs": [
    {
     "name": "stdout",
     "output_type": "stream",
     "text": [
      "CH4 mass:  0.8903543099476555\n",
      "Hydrogen mass:  0.22380976170255285\n",
      "Water mass:  2.0\n"
     ]
    }
   ],
   "source": [
    "mw = 1  # mass of water [kg]\n",
    "Mw = 18.0153  # water molar mass [g/mol]\n",
    "nomolw = mw*1e3/Mw  # Number of mols of H_2O\n",
    "\n",
    "Mc = 16.04  # ch4 molar mass [g/mol]\n",
    "mc = nomolw*Mc/1e3  # ch4 mass [kg]\n",
    "\n",
    "print(\"CH4 mass: \", mc)\n",
    "\n",
    "nomolh2 = 3*nomolw  # Number of mols of H_2 produced\n",
    "nomolco = nomolw  # Number of mols of CO produced\n",
    "\n",
    "nomolh2 = nomolh2 + nomolco  # Number of mols produced after both reactions\n",
    "mh = nomolh2*Mh/1e3\n",
    "\n",
    "print(\"Hydrogen mass: \", mh)\n",
    "\n",
    "mw = mw + nomolco*Mw/1e3  # mass of water\n",
    "print(\"Water mass: \", mw)"
   ]
  },
  {
   "cell_type": "code",
   "execution_count": 4,
   "metadata": {},
   "outputs": [
    {
     "data": {
      "text/plain": [
       "8.936160714285714"
      ]
     },
     "execution_count": 4,
     "metadata": {},
     "output_type": "execute_result"
    }
   ],
   "source": [
    "mw/mh #mass of water required for 1kg of Hydrogen"
   ]
  },
  {
   "cell_type": "markdown",
   "metadata": {},
   "source": [
    "# Real numbers:\n",
    "\n",
    "Air Liquide:\n",
    "https://www.engineering-airliquide.com/steam-methane-reforming-hydrogen-production\n",
    "\n",
    "E = 12.3 - 13.2 MJ/Nm$^3$\n",
    "Steam production = 0.4 - 1.2 kg/Nm3\n",
    "Capacity = 10e3 - 200e3 Nm3/h (small plants: 10e3 - 40e3 Nm3/h)"
   ]
  },
  {
   "cell_type": "code",
   "execution_count": 7,
   "metadata": {},
   "outputs": [
    {
     "name": "stdout",
     "output_type": "stream",
     "text": [
      "Specific energy:  42.16269841269841 kWh/kg H2\n"
     ]
    }
   ],
   "source": [
    "E = (12.3+13.2)/2*1e3  # [kJ/Nm3]\n",
    "E = E/3600/0.084  #kWh/kg\n",
    "print(\"Specific energy: \", E, \"kWh/kg H2\")"
   ]
  },
  {
   "cell_type": "code",
   "execution_count": 10,
   "metadata": {},
   "outputs": [
    {
     "name": "stdout",
     "output_type": "stream",
     "text": [
      "Water mass necessary:  9.523809523809524 kg/kg of H2\n"
     ]
    }
   ],
   "source": [
    "w = (0.4+1.2)/2  #kg/Nm3 H2\n",
    "w = w/0.084\n",
    "print(\"Water mass necessary: \", w, \"kg/kg H2\")"
   ]
  },
  {
   "cell_type": "code",
   "execution_count": 13,
   "metadata": {},
   "outputs": [
    {
     "name": "stdout",
     "output_type": "stream",
     "text": [
      "3360.0 kg of H2/h\n"
     ]
    }
   ],
   "source": [
    "cap = 40e3  # Nm3/h\n",
    "cap = cap*0.084  #kg/h\n",
    "print(cap, \"kg of H2/h\")"
   ]
  },
  {
   "cell_type": "code",
   "execution_count": null,
   "metadata": {},
   "outputs": [],
   "source": []
  }
 ],
 "metadata": {
  "cite2c": {
   "citations": {
    "6356110/MUGW5263": {
     "id": "6356110/MUGW5263",
     "title": "Vozniuk et al. - 2019 - Spinel Mixed Oxides for Chemical-Loop Reforming F.pdf",
     "type": "article"
    }
   }
  },
  "kernelspec": {
   "display_name": "Python 3",
   "language": "python",
   "name": "python3"
  },
  "language_info": {
   "codemirror_mode": {
    "name": "ipython",
    "version": 3
   },
   "file_extension": ".py",
   "mimetype": "text/x-python",
   "name": "python",
   "nbconvert_exporter": "python",
   "pygments_lexer": "ipython3",
   "version": "3.7.6"
  }
 },
 "nbformat": 4,
 "nbformat_minor": 2
}
