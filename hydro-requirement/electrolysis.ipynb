{
 "cells": [
  {
   "cell_type": "markdown",
   "metadata": {},
   "source": [
    "# Required energy for electrolysis"
   ]
  },
  {
   "cell_type": "markdown",
   "metadata": {},
   "source": [
    "Gibbs energy of the reaction at ambient temperature: $\\Delta G$ = 237 kJ/mol\n",
    "\n",
    "Electrolysis follows the reaction:\n",
    "\n",
    "$H_2O \\rightarrow H_2 + \\frac{1}{2} O_2$.\n",
    "\n",
    "http://www.helmeth.eu/index.php/technologies/high-temperature-electrolysis-cell-soec"
   ]
  },
  {
   "cell_type": "code",
   "execution_count": 7,
   "metadata": {},
   "outputs": [
    {
     "data": {
      "text/plain": [
       "55.50837343813314"
      ]
     },
     "execution_count": 7,
     "metadata": {},
     "output_type": "execute_result"
    }
   ],
   "source": [
    "mw = 1  # mass of water [kg]\n",
    "Mw = 18.0153  # water molar mass [g/mol]\n",
    "nomolw = mw*1e3/Mw  # Number of mols of H_2O produced\n",
    "nomolh2 = nomolw  # Number of mols of H_2 produced\n",
    "nomolh2"
   ]
  },
  {
   "cell_type": "code",
   "execution_count": 14,
   "metadata": {},
   "outputs": [
    {
     "data": {
      "text/plain": [
       "0.11190488085127642"
      ]
     },
     "execution_count": 14,
     "metadata": {},
     "output_type": "execute_result"
    }
   ],
   "source": [
    "Mh = 1.008  # hydrogen (H) molar mass [g/mol]\n",
    "mh2 = nomolh2*2*Mh/1000  # hydrogen (H_2) mass produced\n",
    "mh2"
   ]
  },
  {
   "cell_type": "code",
   "execution_count": 15,
   "metadata": {},
   "outputs": [
    {
     "data": {
      "text/plain": [
       "8.936160714285714"
      ]
     },
     "execution_count": 15,
     "metadata": {},
     "output_type": "execute_result"
    }
   ],
   "source": [
    "mw = 1/mh2  # mass of water required to produce 1 kg of H_2\n",
    "mw"
   ]
  },
  {
   "cell_type": "code",
   "execution_count": null,
   "metadata": {},
   "outputs": [],
   "source": [
    "density of H_2"
   ]
  }
 ],
 "metadata": {
  "kernelspec": {
   "display_name": "Python 3",
   "language": "python",
   "name": "python3"
  },
  "language_info": {
   "codemirror_mode": {
    "name": "ipython",
    "version": 3
   },
   "file_extension": ".py",
   "mimetype": "text/x-python",
   "name": "python",
   "nbconvert_exporter": "python",
   "pygments_lexer": "ipython3",
   "version": "3.6.7"
  }
 },
 "nbformat": 4,
 "nbformat_minor": 2
}
