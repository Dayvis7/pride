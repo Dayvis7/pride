{
 "cells": [
  {
   "cell_type": "markdown",
   "metadata": {},
   "source": [
    "One option is to produce hydrogen when there is an excess of electricity production. That hydrogen could feed a gas turbine to inject electricity into the grid.\n",
    "\n",
    "https://inldigitallibrary.inl.gov/sites/sti/sti/4480292.pdf\n",
    "\n",
    "Two cases of grid-connected systems:\n",
    "* Wind2H2 NREL and Xcel Energy: 50 kW hydrogen fueled internal combustion generator.\n",
    "* Sotavento's wind farm (Spain): 55-kW combustion generator.\n",
    "\n",
    "https://ieeexplore.ieee.org/stamp/stamp.jsp?tp=&arnumber=5898382\n",
    "\n",
    "#### Questions:\n",
    "\n",
    "NOx emissions of the hydrogen-fired turbine.\n",
    "* How much NOx is produced?\n",
    "* Why? Where doesn the N como from? The air?\n",
    "\n",
    "How much energy does it produce?"
   ]
  },
  {
   "cell_type": "code",
   "execution_count": null,
   "metadata": {},
   "outputs": [],
   "source": []
  }
 ],
 "metadata": {
  "kernelspec": {
   "display_name": "Python 3",
   "language": "python",
   "name": "python3"
  },
  "language_info": {
   "codemirror_mode": {
    "name": "ipython",
    "version": 3
   },
   "file_extension": ".py",
   "mimetype": "text/x-python",
   "name": "python",
   "nbconvert_exporter": "python",
   "pygments_lexer": "ipython3",
   "version": "3.6.7"
  }
 },
 "nbformat": 4,
 "nbformat_minor": 2
}
