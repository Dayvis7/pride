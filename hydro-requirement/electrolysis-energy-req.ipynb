{
 "cells": [
  {
   "cell_type": "markdown",
   "metadata": {},
   "source": [
    "# Electrolysis\n",
    "\n",
    "Electrolysis follows the reaction:\n",
    "\n",
    "$H_2O \\rightarrow H_2 + \\frac{1}{2} O_2$.\n",
    "\n",
    "$\\Delta$H = $\\Delta$G + T$\\Delta$S\n",
    "\n",
    "$\\Delta H$(25$^\\circ$C) = 285.84 kJ/mol, \n",
    "$\\Delta G$(25$^\\circ$C) = 237.2 kJ/mol, \n",
    "$\\Delta S$(25$^\\circ$C) = 0.1631 kJ/mol/K\n",
    "\n",
    "http://www.helmeth.eu/index.php/technologies/high-temperature-electrolysis-cell-soec\n",
    "\n",
    "https://ieeexplore.ieee.org/abstract/document/5898382"
   ]
  },
  {
   "cell_type": "markdown",
   "metadata": {},
   "source": [
    "### Energy balance"
   ]
  },
  {
   "cell_type": "code",
   "execution_count": 3,
   "metadata": {},
   "outputs": [
    {
     "name": "stdout",
     "output_type": "stream",
     "text": [
      "Electrical energy required to produce 1kg of H2:  39.38492063492063 kWh\n"
     ]
    }
   ],
   "source": [
    "dH = 285.84  # [kJ/mol]\n",
    "dH = dH/3600/(2*1.008*1e-3)\n",
    "print(\"Electrical energy required to produce 1kg of H2: \", dH, \"kWh\")"
   ]
  },
  {
   "cell_type": "markdown",
   "metadata": {},
   "source": [
    "### Mass balance"
   ]
  },
  {
   "cell_type": "code",
   "execution_count": 16,
   "metadata": {},
   "outputs": [
    {
     "name": "stdout",
     "output_type": "stream",
     "text": [
      "Mass of water required to produce 1kg of H2:  8.936160714285714 kg\n"
     ]
    }
   ],
   "source": [
    "Mh = 1.008  # hydrogen atomic mass [g/mol]\n",
    "mw = 1  # mass of water [kg]\n",
    "Mw = 18.0153  # water molar mass [g/mol]\n",
    "nomolw = mw*1e3/Mw  # Number of mols of H_2O\n",
    "nomolh2 = nomolw  # Number of mols of H_2 produced\n",
    "mh2 = nomolh2*2*Mh/1000  # hydrogen (H_2) mass produced\n",
    "mw = 1/mh2  # mass of water required to produce 1 kg of H_2\n",
    "print(\"Mass of water required to produce 1kg of H2: \", mw, \"kg\")"
   ]
  },
  {
   "cell_type": "markdown",
   "metadata": {},
   "source": [
    "### Some real numbers\n",
    "\n",
    "Next cells present data provided by some manufacturers. We only considered manufacturers that reported global energy consumption of the hydrogen production system.\n",
    "\n",
    "<cite data-cite=\"6356110/SXGTBWZC\"></cite>\n",
    "\n",
    "https://ieeexplore.ieee.org/abstract/document/5898382\n",
    "\n",
    "1 Nm$^3$ is 1 cubic meter at Normal temperature and pressure conditions (NTP).\n",
    "\n",
    "NTP: T = 293.15 K and P = 1 atm\n",
    "\n",
    "1 Nm$^3$ = 0.084 kg (NIST)"
   ]
  },
  {
   "cell_type": "code",
   "execution_count": 17,
   "metadata": {},
   "outputs": [
    {
     "name": "stdout",
     "output_type": "stream",
     "text": [
      "Required electrical energy:  68.86904761904762 kWh/H2kg\n"
     ]
    }
   ],
   "source": [
    "# AccaGen: alkaline(bipolar) electrolizer, efficiency = 53 - 73%\n",
    "semin = 4.87  # specific energy [kWh/Nm^3]\n",
    "semax = 6.7\n",
    "\n",
    "seave = (semin+semax)/2\n",
    "seave1 = seave/0.084  # kWh/kg\n",
    "print(\"Required electrical energy: \", seave1, \"kWh/H2kg\")"
   ]
  },
  {
   "cell_type": "code",
   "execution_count": 18,
   "metadata": {},
   "outputs": [
    {
     "name": "stdout",
     "output_type": "stream",
     "text": [
      "Required electrical energy:  62.20238095238094 kWh/H2kg\n"
     ]
    }
   ],
   "source": [
    "# H2 Logic: alkaline(bipolar) electrolizer, efficiency = 65 - 71%\n",
    "semin = 5  # specific energy [kWh/Nm^3]\n",
    "semax = 5.45\n",
    "\n",
    "seave = (semin+semax)/2\n",
    "seave2 = seave/0.084  # kWh/kg\n",
    "print(\"Required electrical energy: \", seave2, \"kWh/H2kg\")"
   ]
  },
  {
   "cell_type": "markdown",
   "metadata": {},
   "source": [
    "I thought maybe that those numbers were a little bit old because the report they came out of is from 2011. So, I looked for more recent numbers and the following report lists the system-level efficiency to be up to 67%.\n",
    "\n",
    "https://www.energy.gov/sites/prod/files/2017/11/f46/HPTT%20Roadmap%20FY17%20Final_Nov%202017.pdf\n",
    "\n",
    "This numbers are consistent with the values found here:\n",
    "https://www.researchgate.net/publication/330701158_Hydrogen_Production_Technologies_Overview\n",
    "\n",
    "E = 53.4 - 70.1 kWh/kg of H2 at 1 atm and 25C (approximately normal conditions)."
   ]
  },
  {
   "cell_type": "code",
   "execution_count": 22,
   "metadata": {},
   "outputs": [
    {
     "name": "stdout",
     "output_type": "stream",
     "text": [
      "specific energy:  59.70149253731343 kWh/kg-H2\n"
     ]
    }
   ],
   "source": [
    "# We assume a 67% efficienciy\n",
    "see = 40/0.67  #Energy required 40kWh\n",
    "print(\"specific energy: \", see, \"kWh/kg-H2\")"
   ]
  },
  {
   "cell_type": "markdown",
   "metadata": {},
   "source": [
    "### Different reactor sizes\n",
    "\n",
    "We consider a thermal-to-electrical efficiency of 33%. This number changes for different conversion cycles and reactor outlet temperatures.\n",
    "We take 60 kWh as the energy cost of 1kg of H$_2$."
   ]
  },
  {
   "cell_type": "code",
   "execution_count": 1,
   "metadata": {},
   "outputs": [
    {
     "name": "stdout",
     "output_type": "stream",
     "text": [
      "Production rate of a  10 MWth reactor:  55.0 kg/h\n"
     ]
    }
   ],
   "source": [
    "import numpy as np\n",
    "import hydrogen as h2\n",
    "import matplotlib.pyplot as plt\n",
    "\n",
    "Pth = 10\n",
    "print(\"Production rate of a \", Pth, \"MWth reactor: \", h2.lte_prod_rate(Pth, 0.33)[0], \"kg/h\")"
   ]
  },
  {
   "cell_type": "code",
   "execution_count": 4,
   "metadata": {},
   "outputs": [
    {
     "data": {
      "image/png": "[encoded data removed]",
      "text/plain": [
       "<Figure size 432x288 with 1 Axes>"
      ]
     },
     "metadata": {
      "needs_background": "light"
     },
     "output_type": "display_data"
    }
   ],
   "source": [
    "power = [10, 20, 30, 40, 50]  #thermal\n",
    "eta1 = 0.33\n",
    "prate1 = [h2.lte_prod_rate(p, eta1)[0] for p in power]\n",
    "eta2 = 0.48\n",
    "prate2 = [h2.lte_prod_rate(p, eta2)[0] for p in power]\n",
    "\n",
    "plt.plot(power, prate1, label='$\\eta$ = {0}%'.format(eta1*100))\n",
    "plt.plot(power, prate2, label='$\\eta$ = {0}%'.format(eta2*100))\n",
    "plt.legend(loc=\"upper left\")\n",
    "plt.title('LTE production rate for different reactor sizes.')\n",
    "plt.ylabel('Production rate [kg/h]')\n",
    "plt.xlabel('Power [MW$_{th}$]')\n",
    "plt.savefig(\"figures/lte-size\", dpi=300, bbox_inches=\"tight\")"
   ]
  },
  {
   "cell_type": "markdown",
   "metadata": {},
   "source": [
    "### Future work\n",
    "\n",
    "* Add analysis for different thermal-to-electrial energy efficiencies\n",
    "* Study Economics"
   ]
  }
 ],
 "metadata": {
  "cite2c": {
   "citations": {
    "6356110/M4HF3HHP": {
     "abstract": "This paper provides a status update on the high-temperature electrolysis (HTE) research and development program at the Idaho National Laboratory (INL), with an overview of recent large-scale system modeling results and the status of the experimental program. System analysis results have been obtained using the commercial code UniSim, augmented with a custom high-temperature electrolyzer module. The process flow diagrams for the system simulations include an advanced nuclear reactor as a source of high-temperature process heat, a power cycle and a coupled steam electrolysis loop. Several reactor types and power cycles have been considered, over a range of reactor coolant outlet temperatures.",
     "author": [
      {
       "family": "O’Brien",
       "given": "J E"
      },
      {
       "family": "Herring",
       "given": "J S"
      },
      {
       "family": "Stoots",
       "given": "C M"
      },
      {
       "family": "McKellar",
       "given": "M G"
      },
      {
       "family": "Harvego",
       "given": "E A"
      },
      {
       "family": "Condie",
       "given": "K G"
      },
      {
       "family": "Housley",
       "given": "G K"
      },
      {
       "family": "Hartvigsen",
       "given": "J J"
      }
     ],
     "id": "6356110/M4HF3HHP",
     "language": "en",
     "page": "13",
     "page-first": "13",
     "title": "Status of the INL High- Temperature Electrolysis Research Program – Experimental and Modeling",
     "type": "article-journal"
    },
    "6356110/SXGTBWZC": {
     "DOI": "10.1109/JPROC.2011.2156750",
     "URL": "http://ieeexplore.ieee.org/document/5898382/",
     "abstract": "This paper reviews water electrolysis technologies for hydrogen production and also surveys the state of the art of water electrolysis integration with renewable energies. First, attention is paid to the thermodynamic and electrochemical processes to better understand how electrolysis cells work and how they can be combined to build big electrolysis modules. The electrolysis process and the characteristics, advantages, drawbacks, and challenges of the three main existing electrolysis technologies, namely alkaline, polymer electrolyte membrane, and solid oxide electrolyte, are then discussed. Current manufacturers and the main features of commercially available electrolyzers are extensively reviewed. Finally, the possible configurations allowing the integration of water electrolysis units with renewable energy sources in both autonomous and grid-connected systems are presented and some relevant demonstration projects are commented.",
     "accessed": {
      "day": 29,
      "month": 2,
      "year": 2020
     },
     "author": [
      {
       "family": "Ursua",
       "given": "Alfredo"
      },
      {
       "family": "Gandia",
       "given": "Luis M."
      },
      {
       "family": "Sanchis",
       "given": "Pablo"
      }
     ],
     "container-title": "Proceedings of the IEEE",
     "container-title-short": "Proc. IEEE",
     "id": "6356110/SXGTBWZC",
     "issue": "2",
     "issued": {
      "year": 2012
     },
     "journalAbbreviation": "Proc. IEEE",
     "language": "en",
     "page": "410-426",
     "page-first": "410",
     "shortTitle": "Hydrogen Production From Water Electrolysis",
     "title": "Hydrogen Production From Water Electrolysis: Current Status and Future Trends",
     "title-short": "Hydrogen Production From Water Electrolysis",
     "type": "article-journal",
     "volume": "100"
    }
   }
  },
  "kernelspec": {
   "display_name": "Python 3",
   "language": "python",
   "name": "python3"
  },
  "language_info": {
   "codemirror_mode": {
    "name": "ipython",
    "version": 3
   },
   "file_extension": ".py",
   "mimetype": "text/x-python",
   "name": "python",
   "nbconvert_exporter": "python",
   "pygments_lexer": "ipython3",
   "version": "3.7.6"
  }
 },
 "nbformat": 4,
 "nbformat_minor": 2
}
