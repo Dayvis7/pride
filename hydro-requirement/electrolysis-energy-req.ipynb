{
 "cells": [
  {
   "cell_type": "markdown",
   "metadata": {},
   "source": [
    "# Electrolysis\n",
    "\n",
    "Process enthaly change $\\Delta H$ = 285.84 kJ/mol\n",
    "\n",
    "Gibbs energy of the reaction at ambient temperature: $\\Delta G$ = 237.2 kJ/mol\n",
    "\n",
    "Electrolysis follows the reaction:\n",
    "\n",
    "$H_2O \\rightarrow H_2 + \\frac{1}{2} O_2$.\n",
    "\n",
    "http://www.helmeth.eu/index.php/technologies/high-temperature-electrolysis-cell-soec"
   ]
  },
  {
   "cell_type": "markdown",
   "metadata": {},
   "source": [
    "Energy balance"
   ]
  },
  {
   "cell_type": "code",
   "execution_count": 11,
   "metadata": {},
   "outputs": [
    {
     "name": "stdout",
     "output_type": "stream",
     "text": [
      "H2 mols in 1kg of H2:  496.031746031746\n"
     ]
    }
   ],
   "source": [
    "mh2 = 1  # hydrogen mass [kg]\n",
    "Mh = 1.008  # hydrogen molar mass [g/mol]\n",
    "nomolh2 = mh2*1e3/2/Mh  # number of h2 mols\n",
    "print(\"H2 mols in 1kg of H2: \", nomolh2)"
   ]
  },
  {
   "cell_type": "code",
   "execution_count": 12,
   "metadata": {},
   "outputs": [
    {
     "name": "stdout",
     "output_type": "stream",
     "text": [
      "Electric energy required to produce 1kg of H2:  39.384920634920626 kWh\n"
     ]
    }
   ],
   "source": [
    "dG = 285.84  # E[kJ/mol] required to split the H2O molecule\n",
    "E = dH * nomolh2  # E[kJ] to produce 1kg of H2\n",
    "E = E/3600  # E [kWh]\n",
    "print(\"Electric energy required to produce 1kg of H2: \", E, \"kWh\")"
   ]
  },
  {
   "cell_type": "markdown",
   "metadata": {},
   "source": [
    "### Mass balance"
   ]
  },
  {
   "cell_type": "code",
   "execution_count": 7,
   "metadata": {},
   "outputs": [
    {
     "data": {
      "text/plain": [
       "55.50837343813314"
      ]
     },
     "execution_count": 7,
     "metadata": {},
     "output_type": "execute_result"
    }
   ],
   "source": [
    "mw = 1  # mass of water [kg]\n",
    "Mw = 18.0153  # water molar mass [g/mol]\n",
    "nomolw = mw*1e3/Mw  # Number of mols of H_2O\n",
    "nomolh2 = nomolw  # Number of mols of H_2 produced\n",
    "nomolh2"
   ]
  },
  {
   "cell_type": "code",
   "execution_count": 8,
   "metadata": {},
   "outputs": [
    {
     "data": {
      "text/plain": [
       "0.11190488085127642"
      ]
     },
     "execution_count": 8,
     "metadata": {},
     "output_type": "execute_result"
    }
   ],
   "source": [
    "Mh = 1.008  # hydrogen (H) molar mass [g/mol]\n",
    "mh2 = nomolh2*2*Mh/1000  # hydrogen (H_2) mass produced\n",
    "mh2"
   ]
  },
  {
   "cell_type": "code",
   "execution_count": 9,
   "metadata": {},
   "outputs": [
    {
     "name": "stdout",
     "output_type": "stream",
     "text": [
      "Mass of water required to produce 1kg of H2:  8.936160714285714 kg\n"
     ]
    }
   ],
   "source": [
    "mw = 1/mh2  # mass of water required to produce 1 kg of H_2\n",
    "print(\"Mass of water required to produce 1kg of H2: \", mw, \"kg\")"
   ]
  },
  {
   "cell_type": "markdown",
   "metadata": {},
   "source": [
    "1 Nm$^3$ is 1 cubic meter at Normal temperature and pressure conditions (NTP).\n",
    "\n",
    "T = 293.15 K and P = 1 atm\n",
    "\n",
    "1 Nm$^3$ = 0.084 kg\n",
    "(http://www.airproducts.com/Products/Gases/gas-facts/conversion-formulas/weight-and-volume-equivalents/hydrogen.aspx)\n",
    "\n",
    "Next cells present data provided by some manufacturers. We only considered manufacturers that reported global energy consumption of the hydrogen production system.\n",
    "\n",
    "<cite data-cite=\"6356110/SXGTBWZC\"></cite>"
   ]
  },
  {
   "cell_type": "code",
   "execution_count": 43,
   "metadata": {},
   "outputs": [
    {
     "name": "stdout",
     "output_type": "stream",
     "text": [
      "Required electrical energy:  68.86904761904762 kWh/H2kg\n"
     ]
    }
   ],
   "source": [
    "# AccaGen: alkaline(bipolar) electrolizer\n",
    "semin = 4.87  # specific energy [kWh/Nm^3]\n",
    "semax = 6.7\n",
    "\n",
    "seave = (semin+semax)/2\n",
    "seave1 = seave/0.084\n",
    "print(\"Required electrical energy: \", seave1, \"kWh/H2kg\")"
   ]
  },
  {
   "cell_type": "code",
   "execution_count": 44,
   "metadata": {},
   "outputs": [
    {
     "name": "stdout",
     "output_type": "stream",
     "text": [
      "Required electrical energy:  62.20238095238094 kWh/H2kg\n"
     ]
    }
   ],
   "source": [
    "# H2 Logic: alkaline(bipolar) electrolizer\n",
    "semin = 5  # specific energy [kWh/Nm^3]\n",
    "semax = 5.45\n",
    "\n",
    "seave = (semin+semax)/2\n",
    "seave2 = seave/0.084\n",
    "print(\"Required electrical energy: \", seave2, \"kWh/H2kg\")"
   ]
  },
  {
   "cell_type": "code",
   "execution_count": 45,
   "metadata": {},
   "outputs": [
    {
     "name": "stdout",
     "output_type": "stream",
     "text": [
      "Required electrical energy:  85.71428571428571 kWh/H2kg\n"
     ]
    }
   ],
   "source": [
    "# Hydrogenics: PEM(bipolar) electrolizer\n",
    "seave = 7.2 # specific energy [kWh/Nm^3]\n",
    "\n",
    "seave3 = seave/0.084\n",
    "print(\"Required electrical energy: \", seave3, \"kWh/H2kg\")"
   ]
  },
  {
   "cell_type": "markdown",
   "metadata": {},
   "source": [
    "We can get an average for all these specific energies and take it as the specific energy for electrolysis."
   ]
  },
  {
   "cell_type": "code",
   "execution_count": 46,
   "metadata": {},
   "outputs": [
    {
     "name": "stdout",
     "output_type": "stream",
     "text": [
      "specific energy for electrolysis:  72.26190476190476 kWh/kg H2\n"
     ]
    }
   ],
   "source": [
    "see=(seave1+seave2+seave3)/3\n",
    "print(\"specific energy for electrolysis: \", see, \"kWh/kg H2\")"
   ]
  },
  {
   "cell_type": "markdown",
   "metadata": {},
   "source": [
    "# High Temperature Electrolysis\n",
    "\n",
    "From <cite data-cite=\"6356110/SXGTBWZC\"></cite>, Solid Oxide Electrolyzers produced 17.6 Nl/h of hydrogen at 1000C and 39.3 W of applied power."
   ]
  },
  {
   "cell_type": "code",
   "execution_count": 47,
   "metadata": {},
   "outputs": [
    {
     "name": "stdout",
     "output_type": "stream",
     "text": [
      "Specific energy:  24.838204065122866 kWh/H2kg\n"
     ]
    }
   ],
   "source": [
    "E = 39.3e-3  # Energy [kWh]\n",
    "M = 17.6e-3*0.0899  # Mass of H2 [kg]\n",
    "se1000 = E/M\n",
    "print(\"Specific energy: \", se1000, \"kWh/H2kg\")  # Specific energy [kWh/kg]"
   ]
  },
  {
   "cell_type": "markdown",
   "metadata": {},
   "source": [
    "For now we do not count with more accure information for temperatures in the range 600-1000C.\n",
    "We are going to use a linear interpolation between normal electrolysis at room temperature and HTE at 1000C. I will look for more accurate values."
   ]
  },
  {
   "cell_type": "code",
   "execution_count": 48,
   "metadata": {},
   "outputs": [
    {
     "data": {
      "text/plain": [
       "Text(0.5,0,'Temperature [$^\\\\circ$C]')"
      ]
     },
     "execution_count": 48,
     "metadata": {},
     "output_type": "execute_result"
    },
    {
     "data": {
      "image/png": "[encoded data removed]",
      "text/plain": [
       "<Figure size 432x288 with 1 Axes>"
      ]
     },
     "metadata": {
      "needs_background": "light"
     },
     "output_type": "display_data"
    }
   ],
   "source": [
    "import matplotlib.pyplot as plt\n",
    "seht = []\n",
    "temp = [600, 700, 800, 900]\n",
    "for T in temp:\n",
    "    seht.append((se1000-see)/(1000-20)*(T-20)+see)\n",
    "\n",
    "plt.plot(temp, seht)\n",
    "plt.title('HTE specific energy')\n",
    "plt.ylabel('Specific electrical energy [kWh/1kg H$_2$]')\n",
    "plt.xlabel('Temperature [$^\\circ$C]')"
   ]
  }
 ],
 "metadata": {
  "cite2c": {
   "citations": {
    "6356110/SXGTBWZC": {
     "DOI": "10.1109/JPROC.2011.2156750",
     "URL": "http://ieeexplore.ieee.org/document/5898382/",
     "abstract": "This paper reviews water electrolysis technologies for hydrogen production and also surveys the state of the art of water electrolysis integration with renewable energies. First, attention is paid to the thermodynamic and electrochemical processes to better understand how electrolysis cells work and how they can be combined to build big electrolysis modules. The electrolysis process and the characteristics, advantages, drawbacks, and challenges of the three main existing electrolysis technologies, namely alkaline, polymer electrolyte membrane, and solid oxide electrolyte, are then discussed. Current manufacturers and the main features of commercially available electrolyzers are extensively reviewed. Finally, the possible configurations allowing the integration of water electrolysis units with renewable energy sources in both autonomous and grid-connected systems are presented and some relevant demonstration projects are commented.",
     "accessed": {
      "day": 29,
      "month": 2,
      "year": 2020
     },
     "author": [
      {
       "family": "Ursua",
       "given": "Alfredo"
      },
      {
       "family": "Gandia",
       "given": "Luis M."
      },
      {
       "family": "Sanchis",
       "given": "Pablo"
      }
     ],
     "container-title": "Proceedings of the IEEE",
     "container-title-short": "Proc. IEEE",
     "id": "6356110/SXGTBWZC",
     "issue": "2",
     "issued": {
      "year": 2012
     },
     "journalAbbreviation": "Proc. IEEE",
     "language": "en",
     "page": "410-426",
     "page-first": "410",
     "shortTitle": "Hydrogen Production From Water Electrolysis",
     "title": "Hydrogen Production From Water Electrolysis: Current Status and Future Trends",
     "title-short": "Hydrogen Production From Water Electrolysis",
     "type": "article-journal",
     "volume": "100"
    }
   }
  },
  "kernelspec": {
   "display_name": "Python 3",
   "language": "python",
   "name": "python3"
  },
  "language_info": {
   "codemirror_mode": {
    "name": "ipython",
    "version": 3
   },
   "file_extension": ".py",
   "mimetype": "text/x-python",
   "name": "python",
   "nbconvert_exporter": "python",
   "pygments_lexer": "ipython3",
   "version": "3.6.7"
  }
 },
 "nbformat": 4,
 "nbformat_minor": 2
}
