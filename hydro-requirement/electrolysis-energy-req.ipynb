{
 "cells": [
  {
   "cell_type": "markdown",
   "metadata": {},
   "source": [
    "# Electrolysis\n",
    "\n",
    "Electrolysis follows the reaction:\n",
    "\n",
    "$H_2O \\rightarrow H_2 + \\frac{1}{2} O_2$.\n",
    "\n",
    "Process enthaly change $\\Delta H$ = 285.84 kJ/mol\n",
    "\n",
    "Gibbs energy of the reaction at ambient temperature: $\\Delta G$ = 237.2 kJ/mol\n",
    "\n",
    "http://www.helmeth.eu/index.php/technologies/high-temperature-electrolysis-cell-soec"
   ]
  },
  {
   "cell_type": "markdown",
   "metadata": {},
   "source": [
    "### Energy balance"
   ]
  },
  {
   "cell_type": "code",
   "execution_count": 25,
   "metadata": {},
   "outputs": [
    {
     "name": "stdout",
     "output_type": "stream",
     "text": [
      "H2 mols in 1kg of H2:  496.031746031746\n",
      "Energy required to produce 1kg of H2:  39.384920634920626 kWh\n",
      "Electricity required to produce 1kg of H2:  32.682980599647266 kWh\n"
     ]
    }
   ],
   "source": [
    "mh2 = 1  # hydrogen mass [kg]\n",
    "Mh = 1.008  # hydrogen molar mass [g/mol]\n",
    "nomolh2 = mh2*1e3/2/Mh  # number of h2 mols\n",
    "print(\"H2 mols in 1kg of H2: \", nomolh2)\n",
    "\n",
    "dH = 285.84  # [kJ/mol] energy required\n",
    "dG = 237.2  # [kJ/mol] electrical energy required\n",
    "E = dH * nomolh2  # E[kJ] to produce 1kg of H2\n",
    "# print(108e3/nomolh2)\n",
    "E = E/3600  # E [kWh]\n",
    "print(\"Energy required to produce 1kg of H2: \", E, \"kWh\")\n",
    "\n",
    "print(\"Electricity required to produce 1kg of H2: \", dG*nomolh2/3600, \"kWh\")"
   ]
  },
  {
   "cell_type": "markdown",
   "metadata": {},
   "source": [
    "### Mass balance"
   ]
  },
  {
   "cell_type": "code",
   "execution_count": 6,
   "metadata": {},
   "outputs": [
    {
     "name": "stdout",
     "output_type": "stream",
     "text": [
      "Mass of h2 produced with 1 kg of water:  0.11190488085127642 kg\n",
      "Mass of water required to produce 1kg of H2:  8.936160714285714 kg\n"
     ]
    }
   ],
   "source": [
    "mw = 1  # mass of water [kg]\n",
    "Mw = 18.0153  # water molar mass [g/mol]\n",
    "nomolw = mw*1e3/Mw  # Number of mols of H_2O\n",
    "nomolh2 = nomolw  # Number of mols of H_2 produced\n",
    "mh2 = nomolh2*2*Mh/1000  # hydrogen (H_2) mass produced\n",
    "print(\"Mass of h2 produced with 1 kg of water: \", mh2, \"kg\")\n",
    "mw = 1/mh2  # mass of water required to produce 1 kg of H_2\n",
    "print(\"Mass of water required to produce 1kg of H2: \", mw, \"kg\")"
   ]
  },
  {
   "cell_type": "markdown",
   "metadata": {},
   "source": [
    "1 Nm$^3$ is 1 cubic meter at Normal temperature and pressure conditions (NTP).\n",
    "\n",
    "NTP: T = 293.15 K and P = 1 atm\n",
    "\n",
    "1 Nm$^3$ = 0.084 kg (NIST)\n",
    "\n",
    "Next cells present data provided by some manufacturers. We only considered manufacturers that reported global energy consumption of the hydrogen production system.\n",
    "\n",
    "<cite data-cite=\"6356110/SXGTBWZC\"></cite>\n",
    "\n",
    "https://ieeexplore.ieee.org/abstract/document/5898382"
   ]
  },
  {
   "cell_type": "code",
   "execution_count": 14,
   "metadata": {},
   "outputs": [
    {
     "name": "stdout",
     "output_type": "stream",
     "text": [
      "Required electrical energy:  68.86904761904762 kWh/H2kg\n",
      "40 kWh/efficiency:  54.794520547945204 - 75.47169811320754 kWh/H2kg\n"
     ]
    }
   ],
   "source": [
    "# AccaGen: alkaline(bipolar) electrolizer, efficiency = 53 - 73%\n",
    "semin = 4.87  # specific energy [kWh/Nm^3]\n",
    "semax = 6.7\n",
    "\n",
    "seave = (semin+semax)/2\n",
    "seave1 = seave/0.084  # kWh/kg\n",
    "print(\"Required electrical energy: \", seave1, \"kWh/H2kg\")\n",
    "print(\"40 kWh/efficiency: \", 40/0.73, \"-\", 40/0.53,\"kWh/H2kg\")"
   ]
  },
  {
   "cell_type": "code",
   "execution_count": 16,
   "metadata": {},
   "outputs": [
    {
     "name": "stdout",
     "output_type": "stream",
     "text": [
      "Required electrical energy:  62.20238095238094 kWh/H2kg\n",
      "40 kWh/efficiency:  56.33802816901409 - 61.53846153846153 kWh/H2kg\n"
     ]
    }
   ],
   "source": [
    "# H2 Logic: alkaline(bipolar) electrolizer, efficiency = 65 - 71%\n",
    "semin = 5  # specific energy [kWh/Nm^3]\n",
    "semax = 5.45\n",
    "\n",
    "seave = (semin+semax)/2\n",
    "seave2 = seave/0.084  # kWh/kg\n",
    "print(\"Required electrical energy: \", seave2, \"kWh/H2kg\")\n",
    "print(\"40 kWh/efficiency: \", 40/0.71, \"-\", 40/0.65,\"kWh/H2kg\")"
   ]
  },
  {
   "cell_type": "code",
   "execution_count": 15,
   "metadata": {},
   "outputs": [
    {
     "name": "stdout",
     "output_type": "stream",
     "text": [
      "Required electrical energy:  85.71428571428571 kWh/H2kg\n",
      "40 kWh/efficiency:  81.30081300813008 kWh/H2kg\n"
     ]
    }
   ],
   "source": [
    "# Hydrogenics: PEM(bipolar) electrolizer, efficiency = 49.2%\n",
    "seave = 7.2 # specific energy [kWh/Nm^3]\n",
    "\n",
    "seave3 = seave/0.084  # kWh/kg\n",
    "print(\"Required electrical energy: \", seave3, \"kWh/H2kg\")\n",
    "print(\"40 kWh/efficiency: \", 40/0.492,\"kWh/H2kg\")"
   ]
  },
  {
   "cell_type": "markdown",
   "metadata": {},
   "source": [
    "We can get an average for all these specific energies and take it as the specific energy for electrolysis ??"
   ]
  },
  {
   "cell_type": "code",
   "execution_count": 18,
   "metadata": {},
   "outputs": [
    {
     "name": "stdout",
     "output_type": "stream",
     "text": [
      "specific energy for electrolysis:  72.26190476190476 kWh/kg H2\n",
      "this corresponds to an efficiency of:  55.35420098846787 %\n"
     ]
    }
   ],
   "source": [
    "see=(seave1+seave2+seave3)/3\n",
    "print(\"specific energy for electrolysis: \", see, \"kWh/kg H2\")\n",
    "# see = see - 40.8/3600*nomolh2  # 40.8 kj/mol latent heat of water\n",
    "print(\"this corresponds to an efficiency of: \", 40/see*100,\"%\")"
   ]
  },
  {
   "cell_type": "markdown",
   "metadata": {},
   "source": [
    "I thought maybe that those numbers were a little bit old because the report they came out of is from 2011. So, I looked for more recent numbers and the following report lists the system-level efficiency to be up to 67%.\n",
    "\n",
    "https://www.energy.gov/sites/prod/files/2017/11/f46/HPTT%20Roadmap%20FY17%20Final_Nov%202017.pdf\n"
   ]
  },
  {
   "cell_type": "code",
   "execution_count": 26,
   "metadata": {},
   "outputs": [
    {
     "name": "stdout",
     "output_type": "stream",
     "text": [
      "59.70149253731343\n",
      "49.253731343283576\n"
     ]
    }
   ],
   "source": [
    "see = 40/0.67\n",
    "print(see)\n",
    "\n",
    "see = 33/0.67\n",
    "print(see)"
   ]
  },
  {
   "cell_type": "markdown",
   "metadata": {},
   "source": [
    "# High Temperature Electrolysis\n",
    "\n",
    "From <cite data-cite=\"6356110/SXGTBWZC\"></cite>, Solid Oxide Electrolyzers produced 17.6 Nl/h of hydrogen at 1000C and 39.3 W of applied power."
   ]
  },
  {
   "cell_type": "code",
   "execution_count": 27,
   "metadata": {},
   "outputs": [
    {
     "name": "stdout",
     "output_type": "stream",
     "text": [
      "95.69805194805194 MJ/kg\n",
      "Specific energy:  26.582792207792206 kWh/H2kg\n"
     ]
    }
   ],
   "source": [
    "E = 39.3e-3  # Energy [kWh]\n",
    "M = 17.6e-3*0.084  # Mass of H2 [kg]\n",
    "se1000 = E/M\n",
    "print(se1000*3600/1e3, \"MJ/kg\")\n",
    "print(\"Specific energy: \", se1000, \"kWh/H2kg\")  # Specific energy [kWh/kg]"
   ]
  },
  {
   "cell_type": "markdown",
   "metadata": {},
   "source": [
    "I get 95.7 MJ/kg from those numbers. According to wikipedia that number should be 108 MJ/kg, but I could not find the file they cite as the reference.\n",
    "\n",
    "https://en.wikipedia.org/wiki/Hydrogen_economy#High-temperature_electrolysis"
   ]
  },
  {
   "cell_type": "markdown",
   "metadata": {},
   "source": [
    "From https://inldigitallibrary.inl.gov/sites/sti/sti/4480292.pdf, Solid Oxide Electrolyzers produced 17.6 Nm$^3$/h of hydrogen at 800C and 18 kW of applied power."
   ]
  },
  {
   "cell_type": "code",
   "execution_count": 28,
   "metadata": {},
   "outputs": [
    {
     "name": "stdout",
     "output_type": "stream",
     "text": [
      "Specific energy:  37.59398496240601 kWh/H2kg\n"
     ]
    }
   ],
   "source": [
    "E = 18  # kWh\n",
    "M = 5.7*0.084\n",
    "se800 = E/M\n",
    "print(\"Specific energy: \", se800, \"kWh/H2kg\")  # Specific energy [kWh/kg]"
   ]
  },
  {
   "cell_type": "markdown",
   "metadata": {},
   "source": [
    "For now we do not count with more accure information for temperatures in the range 600-1000C. We are going to use a linear interpolation between normal electrolysis at room temperature and HTE at 800C, another interpolation between normal electrolysis at room temperature, and then average boths curves."
   ]
  },
  {
   "cell_type": "code",
   "execution_count": 30,
   "metadata": {},
   "outputs": [
    {
     "data": {
      "text/plain": [
       "Text(0.5,0,'Temperature [$^\\\\circ$C]')"
      ]
     },
     "execution_count": 30,
     "metadata": {},
     "output_type": "execute_result"
    },
    {
     "data": {
      "image/png": "[encoded data removed]",
      "text/plain": [
       "<Figure size 432x288 with 1 Axes>"
      ]
     },
     "metadata": {
      "needs_background": "light"
     },
     "output_type": "display_data"
    }
   ],
   "source": [
    "import numpy as np\n",
    "import matplotlib.pyplot as plt\n",
    "seht1 = []\n",
    "seht2 = []\n",
    "temp = [600, 700, 800, 900, 1000]\n",
    "for T in temp:\n",
    "    seht1.append((se1000-see)/(1000-20)*(T-20)+see)\n",
    "    seht2.append((se800-see)/(800-20)*(T-20)+see)\n",
    "sehta = np.array(seht1)/2 + np.array(seht2)/2\n",
    "\n",
    "plt.plot(temp, seht1, label='source 1')\n",
    "plt.plot(temp, seht2, label='source 2')\n",
    "plt.plot(temp, sehta, label='average')\n",
    "plt.plot(temp[temp.index(1000)], seht1[temp.index(1000)], marker='*')\n",
    "plt.plot(temp[temp.index(800)], seht2[temp.index(800)], marker='*')\n",
    "plt.legend(loc=\"lower left\")\n",
    "plt.title('HTE specific energy')\n",
    "plt.ylabel('Specific electrical energy [kWh/1kg H$_2$]')\n",
    "plt.xlabel('Temperature [$^\\circ$C]')\n"
   ]
  },
  {
   "cell_type": "markdown",
   "metadata": {},
   "source": [
    "Previously, we calculated the electric energy required to produce H$_2$ given we count with the high temperature steam. Some reactors can supply such high temperatures, but some cannot. So the next step is to calculate how much natural gas is required to boost the temperature of the steam to usable values.\n",
    "\n",
    "We assume that the temperature of the water feeding the natural gas system is equal to the outlet temperature of the reactor.\n",
    "\n",
    "### Steam from Natural Gas:\n",
    "\n",
    "Calculation dependes on boiler efficiency, feedwater temperature, and steam pressure.\n",
    "\n",
    "Typical pressures of HTE, steam methane reforming, and sulfur-iodine thermochemical cycle.\n",
    "\n",
    "HTE Pressures:\n",
    "* P = 3.5 MPa <cite data-cite=\"6356110/M4HF3HHP\"></cite>\n",
    "\n"
   ]
  },
  {
   "cell_type": "code",
   "execution_count": 31,
   "metadata": {},
   "outputs": [],
   "source": [
    "E = 1e5 # [Btu/therm], 1 therm = 97.84 cubic feet\n",
    "E = E / 3412.14  # [kwh/therm]\n",
    "E = E * 0.857  # boiler efficiency, assumes that has feedwater economizer or air preheaters "
   ]
  },
  {
   "cell_type": "code",
   "execution_count": 32,
   "metadata": {},
   "outputs": [
    {
     "data": {
      "text/plain": [
       "Text(0.5,0,'Temperature [$^\\\\circ$C]')"
      ]
     },
     "execution_count": 32,
     "metadata": {},
     "output_type": "execute_result"
    },
    {
     "data": {
      "image/png": "[encoded data removed]",
      "text/plain": [
       "<Figure size 432x288 with 1 Axes>"
      ]
     },
     "metadata": {
      "needs_background": "light"
     },
     "output_type": "display_data"
    }
   ],
   "source": [
    "import pandas as pd\n",
    "import matplotlib.pyplot as plt\n",
    "\n",
    "# to produce 1 kg of H2 we need 'mw' kg of steam\n",
    "df1 = pd.read_csv(\"steam-properties.csv\")\n",
    "plt.plot(df1['Temperature(C)'], df1['Enthalpy(kJ/kg)'])\n",
    "plt.title('Steam specific enthalpy for P=3.5 MPa')\n",
    "plt.ylabel('Specific Enthalpy [kJ/kg]')\n",
    "plt.xlabel('Temperature [$^\\circ$C]')\n"
   ]
  },
  {
   "cell_type": "code",
   "execution_count": 33,
   "metadata": {},
   "outputs": [],
   "source": [
    "def steam(inT, outT, mh):\n",
    "    hin = df1[df1['Temperature(C)'] == inT]['Enthalpy(kJ/kg)'].values.tolist()[0]\n",
    "    hou = df1[df1['Temperature(C)'] == ouT]['Enthalpy(kJ/kg)'].values.tolist()[0]\n",
    "    e = hou-hin  # kJ/kg of steam\n",
    "    e = e/3600  # kWh/kg of steam\n",
    "    E = e*mw  # kWh/kg of H2\n",
    "    E = E/0.85  # kWh/kg of H2 Boiler efficiency\n",
    "    E = E*mh  # kWh\n",
    "\n",
    "    return E"
   ]
  },
  {
   "cell_type": "code",
   "execution_count": 34,
   "metadata": {},
   "outputs": [
    {
     "name": "stdout",
     "output_type": "stream",
     "text": [
      "Total energy (heat + electricity):\n",
      "2.0036274072128863 + 36.305849929310895 = 38.309477336523784 kW\n"
     ]
    }
   ],
   "source": [
    "inT = 400  # depends on the reactor\n",
    "ouT = 700  # depends on the reactor\n",
    "mh = 1\n",
    "\n",
    "E1 = steam(inT, ouT, mh)  # Energy required to increase the steam temperature\n",
    "E2 = mh * sehta[temp.index(ouT)]  # Energy required to perform the HTE\n",
    "\n",
    "print(\"Total energy (heat + electricity):\")\n",
    "print(E1, '+', E2, '=', E1+E2, 'kW')"
   ]
  },
  {
   "cell_type": "code",
   "execution_count": 36,
   "metadata": {},
   "outputs": [
    {
     "name": "stdout",
     "output_type": "stream",
     "text": [
      "[36.305849929310895, 34.40174972137374, 32.49764951343658, 30.593549305499423]\n"
     ]
    },
    {
     "data": {
      "text/plain": [
       "Text(0.5,0,'Temperature [$^\\\\circ$C]')"
      ]
     },
     "execution_count": 36,
     "metadata": {},
     "output_type": "execute_result"
    },
    {
     "data": {
      "image/png": "[encoded data removed]",
      "text/plain": [
       "<Figure size 432x288 with 1 Axes>"
      ]
     },
     "metadata": {
      "needs_background": "light"
     },
     "output_type": "display_data"
    }
   ],
   "source": [
    "mh = 1\n",
    "ES = []\n",
    "EE = []\n",
    "out_temperature = [700, 800, 900, 1000]\n",
    "for ouT in out_temperature:\n",
    "    ES.append(steam(inT, ouT, mh))  # Energy to boost steams temperature\n",
    "    EE.append(mh * sehta[temp.index(ouT)])  # Energy to produce the electrolysis (HTE)\n",
    "\n",
    "print(EE)\n",
    "plt.plot(out_temperature, ES, label='steam', marker='*')\n",
    "plt.plot(out_temperature, EE, label='electrolysis', marker='*')\n",
    "plt.legend(loc=\"upper right\")\n",
    "plt.title('thermal and electricl energy required for {0} kg of H2 using HTE'.format(mh))\n",
    "plt.ylabel('Energy [kWh]')\n",
    "plt.xlabel('Temperature [$^\\circ$C]')"
   ]
  },
  {
   "cell_type": "code",
   "execution_count": null,
   "metadata": {},
   "outputs": [],
   "source": []
  }
 ],
 "metadata": {
  "cite2c": {
   "citations": {
    "6356110/M4HF3HHP": {
     "abstract": "This paper provides a status update on the high-temperature electrolysis (HTE) research and development program at the Idaho National Laboratory (INL), with an overview of recent large-scale system modeling results and the status of the experimental program. System analysis results have been obtained using the commercial code UniSim, augmented with a custom high-temperature electrolyzer module. The process flow diagrams for the system simulations include an advanced nuclear reactor as a source of high-temperature process heat, a power cycle and a coupled steam electrolysis loop. Several reactor types and power cycles have been considered, over a range of reactor coolant outlet temperatures.",
     "author": [
      {
       "family": "O’Brien",
       "given": "J E"
      },
      {
       "family": "Herring",
       "given": "J S"
      },
      {
       "family": "Stoots",
       "given": "C M"
      },
      {
       "family": "McKellar",
       "given": "M G"
      },
      {
       "family": "Harvego",
       "given": "E A"
      },
      {
       "family": "Condie",
       "given": "K G"
      },
      {
       "family": "Housley",
       "given": "G K"
      },
      {
       "family": "Hartvigsen",
       "given": "J J"
      }
     ],
     "id": "6356110/M4HF3HHP",
     "language": "en",
     "page": "13",
     "page-first": "13",
     "title": "Status of the INL High- Temperature Electrolysis Research Program – Experimental and Modeling",
     "type": "article-journal"
    },
    "6356110/SXGTBWZC": {
     "DOI": "10.1109/JPROC.2011.2156750",
     "URL": "http://ieeexplore.ieee.org/document/5898382/",
     "abstract": "This paper reviews water electrolysis technologies for hydrogen production and also surveys the state of the art of water electrolysis integration with renewable energies. First, attention is paid to the thermodynamic and electrochemical processes to better understand how electrolysis cells work and how they can be combined to build big electrolysis modules. The electrolysis process and the characteristics, advantages, drawbacks, and challenges of the three main existing electrolysis technologies, namely alkaline, polymer electrolyte membrane, and solid oxide electrolyte, are then discussed. Current manufacturers and the main features of commercially available electrolyzers are extensively reviewed. Finally, the possible configurations allowing the integration of water electrolysis units with renewable energy sources in both autonomous and grid-connected systems are presented and some relevant demonstration projects are commented.",
     "accessed": {
      "day": 29,
      "month": 2,
      "year": 2020
     },
     "author": [
      {
       "family": "Ursua",
       "given": "Alfredo"
      },
      {
       "family": "Gandia",
       "given": "Luis M."
      },
      {
       "family": "Sanchis",
       "given": "Pablo"
      }
     ],
     "container-title": "Proceedings of the IEEE",
     "container-title-short": "Proc. IEEE",
     "id": "6356110/SXGTBWZC",
     "issue": "2",
     "issued": {
      "year": 2012
     },
     "journalAbbreviation": "Proc. IEEE",
     "language": "en",
     "page": "410-426",
     "page-first": "410",
     "shortTitle": "Hydrogen Production From Water Electrolysis",
     "title": "Hydrogen Production From Water Electrolysis: Current Status and Future Trends",
     "title-short": "Hydrogen Production From Water Electrolysis",
     "type": "article-journal",
     "volume": "100"
    }
   }
  },
  "kernelspec": {
   "display_name": "Python 3",
   "language": "python",
   "name": "python3"
  },
  "language_info": {
   "codemirror_mode": {
    "name": "ipython",
    "version": 3
   },
   "file_extension": ".py",
   "mimetype": "text/x-python",
   "name": "python",
   "nbconvert_exporter": "python",
   "pygments_lexer": "ipython3",
   "version": "3.6.7"
  }
 },
 "nbformat": 4,
 "nbformat_minor": 2
}
