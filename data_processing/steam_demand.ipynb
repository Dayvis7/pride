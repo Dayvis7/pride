{
 "cells": [
  {
   "cell_type": "markdown",
   "metadata": {},
   "source": [
    "# Typical Steam Demand for UIUC"
   ]
  },
  {
   "cell_type": "code",
   "execution_count": 1,
   "metadata": {},
   "outputs": [],
   "source": [
    "# import libraries\n",
    "import pandas as pd\n",
    "import numpy as np\n",
    "import matplotlib.pyplot as plt"
   ]
  },
  {
   "cell_type": "markdown",
   "metadata": {},
   "source": [
    "## Upload data"
   ]
  },
  {
   "cell_type": "code",
   "execution_count": 2,
   "metadata": {},
   "outputs": [],
   "source": [
    "# define path to data\n",
    "path = \"../../data/\" "
   ]
  },
  {
   "cell_type": "code",
   "execution_count": 3,
   "metadata": {},
   "outputs": [],
   "source": [
    "# upload datasets\n",
    "steam15 = pd.read_csv(path+'steamfy15.csv', parse_dates=True, index_col=['Date and Time'])\n",
    "steam16 = pd.read_csv(path+'steamfy16.csv', parse_dates=True, index_col=['Date and Time'])\n",
    "steam17 = pd.read_csv(path+'steamfy17.csv', parse_dates=True, index_col=['Date and Time'])\n",
    "steam18 = pd.read_csv(path+'steamfy18.csv', parse_dates=True, index_col=['Date and Time'])\n",
    "steam19 = pd.read_csv(path+'steamfy19.csv', parse_dates=True, index_col=['Date and Time'])"
   ]
  },
  {
   "cell_type": "markdown",
   "metadata": {},
   "source": [
    "## Combine the datasets"
   ]
  },
  {
   "cell_type": "code",
   "execution_count": 4,
   "metadata": {},
   "outputs": [
    {
     "data": {
      "text/plain": [
       "<matplotlib.axes._subplots.AxesSubplot at 0x7f84d3260a20>"
      ]
     },
     "execution_count": 4,
     "metadata": {},
     "output_type": "execute_result"
    },
    {
     "data": {
      "image/png": "[encoded data removed]",
      "text/plain": [
       "<Figure size 432x288 with 1 Axes>"
      ]
     },
     "metadata": {
      "needs_background": "light"
     },
     "output_type": "display_data"
    }
   ],
   "source": [
    "steam15[(steam15['eDNA Status as String'] == 'UNRELIABLE') & (steam15.index.month <= 1)].plot()"
   ]
  },
  {
   "cell_type": "code",
   "execution_count": 5,
   "metadata": {},
   "outputs": [],
   "source": [
    "frames = [steam15, steam16, steam17, steam18, steam19]\n",
    "\n",
    "all_data = pd.concat(frames)\n",
    "\n",
    "# all_data"
   ]
  },
  {
   "cell_type": "code",
   "execution_count": 6,
   "metadata": {},
   "outputs": [
    {
     "data": {
      "text/html": [
       "<div>\n",
       "<style scoped>\n",
       "    .dataframe tbody tr th:only-of-type {\n",
       "        vertical-align: middle;\n",
       "    }\n",
       "\n",
       "    .dataframe tbody tr th {\n",
       "        vertical-align: top;\n",
       "    }\n",
       "\n",
       "    .dataframe thead th {\n",
       "        text-align: right;\n",
       "    }\n",
       "</style>\n",
       "<table border=\"1\" class=\"dataframe\">\n",
       "  <thead>\n",
       "    <tr style=\"text-align: right;\">\n",
       "      <th></th>\n",
       "      <th>Value (KLBS/HR)</th>\n",
       "      <th>eDNA Status as String</th>\n",
       "    </tr>\n",
       "    <tr>\n",
       "      <th>Date and Time</th>\n",
       "      <th></th>\n",
       "      <th></th>\n",
       "    </tr>\n",
       "  </thead>\n",
       "  <tbody>\n",
       "    <tr>\n",
       "      <td>2014-07-01 00:00:00</td>\n",
       "      <td>105.872467</td>\n",
       "      <td>UNRELIABLE</td>\n",
       "    </tr>\n",
       "    <tr>\n",
       "      <td>2014-07-01 01:00:00</td>\n",
       "      <td>104.659416</td>\n",
       "      <td>UNRELIABLE</td>\n",
       "    </tr>\n",
       "    <tr>\n",
       "      <td>2014-07-01 02:00:00</td>\n",
       "      <td>105.016411</td>\n",
       "      <td>UNRELIABLE</td>\n",
       "    </tr>\n",
       "    <tr>\n",
       "      <td>2014-07-01 03:00:00</td>\n",
       "      <td>106.378754</td>\n",
       "      <td>UNRELIABLE</td>\n",
       "    </tr>\n",
       "    <tr>\n",
       "      <td>2014-07-01 04:00:00</td>\n",
       "      <td>106.899544</td>\n",
       "      <td>UNRELIABLE</td>\n",
       "    </tr>\n",
       "  </tbody>\n",
       "</table>\n",
       "</div>"
      ],
      "text/plain": [
       "                     Value (KLBS/HR) eDNA Status as String\n",
       "Date and Time                                             \n",
       "2014-07-01 00:00:00       105.872467            UNRELIABLE\n",
       "2014-07-01 01:00:00       104.659416            UNRELIABLE\n",
       "2014-07-01 02:00:00       105.016411            UNRELIABLE\n",
       "2014-07-01 03:00:00       106.378754            UNRELIABLE\n",
       "2014-07-01 04:00:00       106.899544            UNRELIABLE"
      ]
     },
     "execution_count": 6,
     "metadata": {},
     "output_type": "execute_result"
    }
   ],
   "source": [
    "all_data.head()"
   ]
  },
  {
   "cell_type": "markdown",
   "metadata": {},
   "source": [
    "There is some data marked as 'UNRELIABLE' by eDNA, but it looks mostly okay, except for a couple of days in 2015 that show 0 demand in the winter. We can fix that by interpolating. It looks like the worst data is confined to 2014, which we don't want to use anyway because we can only use complete years of data. "
   ]
  },
  {
   "cell_type": "markdown",
   "metadata": {},
   "source": [
    "## Separate the data into complete years"
   ]
  },
  {
   "cell_type": "code",
   "execution_count": 7,
   "metadata": {},
   "outputs": [],
   "source": [
    "all_data.drop(['eDNA Status as String'], axis=1, inplace=True)"
   ]
  },
  {
   "cell_type": "code",
   "execution_count": 8,
   "metadata": {
    "scrolled": false
   },
   "outputs": [
    {
     "data": {
      "text/html": [
       "<div>\n",
       "<style scoped>\n",
       "    .dataframe tbody tr th:only-of-type {\n",
       "        vertical-align: middle;\n",
       "    }\n",
       "\n",
       "    .dataframe tbody tr th {\n",
       "        vertical-align: top;\n",
       "    }\n",
       "\n",
       "    .dataframe thead th {\n",
       "        text-align: right;\n",
       "    }\n",
       "</style>\n",
       "<table border=\"1\" class=\"dataframe\">\n",
       "  <thead>\n",
       "    <tr style=\"text-align: right;\">\n",
       "      <th></th>\n",
       "      <th>demand</th>\n",
       "    </tr>\n",
       "    <tr>\n",
       "      <th>Date and Time</th>\n",
       "      <th></th>\n",
       "    </tr>\n",
       "  </thead>\n",
       "  <tbody>\n",
       "    <tr>\n",
       "      <td>2014-07-01 00:00:00</td>\n",
       "      <td>105.872467</td>\n",
       "    </tr>\n",
       "    <tr>\n",
       "      <td>2014-07-01 01:00:00</td>\n",
       "      <td>104.659416</td>\n",
       "    </tr>\n",
       "    <tr>\n",
       "      <td>2014-07-01 02:00:00</td>\n",
       "      <td>105.016411</td>\n",
       "    </tr>\n",
       "    <tr>\n",
       "      <td>2014-07-01 03:00:00</td>\n",
       "      <td>106.378754</td>\n",
       "    </tr>\n",
       "    <tr>\n",
       "      <td>2014-07-01 04:00:00</td>\n",
       "      <td>106.899544</td>\n",
       "    </tr>\n",
       "  </tbody>\n",
       "</table>\n",
       "</div>"
      ],
      "text/plain": [
       "                         demand\n",
       "Date and Time                  \n",
       "2014-07-01 00:00:00  105.872467\n",
       "2014-07-01 01:00:00  104.659416\n",
       "2014-07-01 02:00:00  105.016411\n",
       "2014-07-01 03:00:00  106.378754\n",
       "2014-07-01 04:00:00  106.899544"
      ]
     },
     "execution_count": 8,
     "metadata": {},
     "output_type": "execute_result"
    }
   ],
   "source": [
    "all_data.rename(columns = {'Value (KLBS/HR)':'demand'}, inplace=True)\n",
    "\n",
    "all_data.head()"
   ]
  },
  {
   "cell_type": "code",
   "execution_count": 9,
   "metadata": {},
   "outputs": [],
   "source": [
    "years = all_data.groupby(all_data.index.year)\n",
    "\n",
    "steam_data15 = years.get_group(2015)\n",
    "steam_data16 = years.get_group(2016)\n",
    "steam_data17 = years.get_group(2017)\n",
    "steam_data18 = years.get_group(2018)"
   ]
  },
  {
   "cell_type": "markdown",
   "metadata": {},
   "source": [
    "## Preparing the datasets to be used in RAVEN\n",
    "\n",
    "This data will be read by RAVEN as HistorySets (a datatype of RAVEN) and will have two columns \n",
    "\n",
    "time | demand\n",
    "\n",
    "where ``time`` is in hours and ``demand`` is in klbs/hr"
   ]
  },
  {
   "cell_type": "code",
   "execution_count": 10,
   "metadata": {},
   "outputs": [],
   "source": [
    "%%capture\n",
    "steam_data15.reset_index(inplace=True)\n",
    "steam_data15['time'] = steam_data15.index\n",
    "steam_data15.drop(['Date and Time'], axis=1, inplace=True)\n",
    "steam_data15.head()"
   ]
  },
  {
   "cell_type": "code",
   "execution_count": 11,
   "metadata": {},
   "outputs": [],
   "source": [
    "%%capture\n",
    "steam_data16.reset_index(inplace=True)\n",
    "steam_data16['time'] = steam_data16.index\n",
    "steam_data16.drop(['Date and Time'], axis=1, inplace=True)\n",
    "steam_data16 = steam_data16[:8760]\n",
    "steam_data16.head()"
   ]
  },
  {
   "cell_type": "code",
   "execution_count": 12,
   "metadata": {},
   "outputs": [],
   "source": [
    "%%capture\n",
    "steam_data17.reset_index(inplace=True)\n",
    "steam_data17['time'] = steam_data17.index\n",
    "steam_data17.drop(['Date and Time'], axis=1, inplace=True)\n",
    "steam_data17.head()"
   ]
  },
  {
   "cell_type": "code",
   "execution_count": 13,
   "metadata": {},
   "outputs": [],
   "source": [
    "%%capture\n",
    "steam_data18.reset_index(inplace=True)\n",
    "steam_data18['time'] = steam_data18.index\n",
    "steam_data18.drop(['Date and Time'], axis=1, inplace=True)\n",
    "steam_data18.head()"
   ]
  },
  {
   "cell_type": "markdown",
   "metadata": {},
   "source": [
    "## Download the RAVEN datasets"
   ]
  },
  {
   "cell_type": "code",
   "execution_count": 14,
   "metadata": {},
   "outputs": [
    {
     "name": "stdout",
     "output_type": "stream",
     "text": [
      "['annual_steam2015.csv', 'annual_steam2016.csv', 'annual_steam2017.csv', 'annual_steam2018.csv']\n"
     ]
    }
   ],
   "source": [
    "# writes the header file for RAVEN\n",
    "fname = 'annual_steam201'\n",
    "keys = [fname + str(i) + '.csv' for i in range(5,9,1)]\n",
    "header_file = pd.DataFrame({'n':np.zeros(len(keys), dtype=np.int8), 'filename':keys})\n",
    "header_file.to_csv(path+'annual_steam_H.csv')\n",
    "print(keys)"
   ]
  },
  {
   "cell_type": "code",
   "execution_count": 15,
   "metadata": {},
   "outputs": [],
   "source": [
    "steam_data15.to_csv(path+'annual_steam2015.csv')\n",
    "steam_data16.to_csv(path+'annual_steam2016.csv')\n",
    "steam_data17.to_csv(path+'annual_steam2017.csv')\n",
    "steam_data18.to_csv(path+'annual_steam2018.csv')"
   ]
  },
  {
   "cell_type": "code",
   "execution_count": 16,
   "metadata": {},
   "outputs": [
    {
     "name": "stdout",
     "output_type": "stream",
     "text": [
      "2014_2019_uiuc_electricity_demand.csv  __MACOSX\r\n",
      "2015_uiuc_electricity_demand.csv       solardata_2015.csv\r\n",
      "2016_uiuc_electricity_demand.csv       solardata_2016.csv\r\n",
      "2017_uiuc_electricity_demand.csv       solardata_2017.csv\r\n",
      "2018_uiuc_electricity_demand.csv       solardata_2018.csv\r\n",
      "2019_uiuc_electricity_demand.csv       solardata_2019.csv\r\n",
      "annual_load2015.csv\t\t       solardata.csv\r\n",
      "annual_load2016.csv\t\t       solar_farm_data\r\n",
      "annual_load2017.csv\t\t       solar_model_data\r\n",
      "annual_load2018.csv\t\t       steam_data\r\n",
      "annual_load_H.csv\t\t       steamfy15.csv\r\n",
      "annual_steam2015.csv\t\t       steamfy16.csv\r\n",
      "annual_steam2016.csv\t\t       steamfy17.csv\r\n",
      "annual_steam2017.csv\t\t       steamfy18.csv\r\n",
      "annual_steam2018.csv\t\t       steamfy19.csv\r\n",
      "annual_steam_H.csv\t\t       TypicalDemand_0.csv\r\n",
      "dni_2012.csv\t\t\t       TypicalDemand.csv\r\n",
      "dni_2013.csv\t\t\t       TypicalDemand.xml\r\n",
      "dni_2014.csv\t\t\t       TypicalSolar_0.csv\r\n",
      "dni_2015.csv\t\t\t       TypicalSolar.csv\r\n",
      "dni_2016.csv\t\t\t       TypicalSolar.xml\r\n",
      "dni_2017.csv\t\t\t       TypicalSteam_0.csv\r\n",
      "dni_2018.csv\t\t\t       TypicalSteam.csv\r\n",
      "gridload_data\t\t\t       TypicalSteam.xml\r\n",
      "illinoiswindhighresolution\t       weather_data\r\n",
      "lincoln_weather_data.csv\t       willard_weather_data.csv\r\n"
     ]
    }
   ],
   "source": [
    "!ls ~/Research/data/"
   ]
  },
  {
   "cell_type": "code",
   "execution_count": 17,
   "metadata": {},
   "outputs": [
    {
     "name": "stdout",
     "output_type": "stream",
     "text": [
      "CONDA\n",
      "raven_libraries          /home/dotson/anaconda3/envs/raven_libraries\n",
      "Running RAVEN in \"opt\" mode.\n",
      "/home/dotson/Research/raven/framework/utils/utils.py:579: DeprecationWarning: the imp module is deprecated in favour of importlib; see the module's documentation for alternative uses\n",
      "  import imp, os.path\n",
      "/home/dotson/anaconda3/envs/raven_libraries/lib/python3.7/site-packages/patsy/constraint.py:13: DeprecationWarning: Using or importing the ABCs from 'collections' instead of from 'collections.abc' is deprecated, and in 3.8 it will stop working\n",
      "  from collections import Mapping\n",
      "/home/dotson/anaconda3/envs/raven_libraries/lib/python3.7/site-packages/statsmodels/base/wrapper.py:100: DeprecationWarning: `formatargspec` is deprecated since Python 3.5. Use `signature` and the `Signature` object directly\n",
      "  defaults=argspec[3])\n",
      "/home/dotson/anaconda3/envs/raven_libraries/lib/python3.7/site-packages/google/protobuf/descriptor.py:47: DeprecationWarning: Using or importing the ABCs from 'collections' instead of from 'collections.abc' is deprecated, and in 3.8 it will stop working\n",
      "  from google.protobuf.pyext import _message\n",
      "/home/dotson/anaconda3/envs/raven_libraries/lib/python3.7/site-packages/tensorflow/python/util/nest.py:824: DeprecationWarning: Using or importing the ABCs from 'collections' instead of from 'collections.abc' is deprecated, and in 3.8 it will stop working\n",
      "  _pywrap_tensorflow.RegisterType(\"Sequence\", _collections.Sequence)\n",
      "/home/dotson/anaconda3/envs/raven_libraries/lib/python3.7/site-packages/tensorflow/python/training/checkpointable/data_structures.py:546: DeprecationWarning: Using or importing the ABCs from 'collections' instead of from 'collections.abc' is deprecated, and in 3.8 it will stop working\n",
      "  class _DictWrapper(Mapping, collections.MutableMapping):\n",
      "/home/dotson/anaconda3/envs/raven_libraries/lib/python3.7/site-packages/tensorflow/python/training/checkpointable/util.py:448: DeprecationWarning: Using or importing the ABCs from 'collections' instead of from 'collections.abc' is deprecated, and in 3.8 it will stop working\n",
      "  class _ObjectIdentitySet(collections.MutableSet):\n",
      "\n",
      "~~~~~~~~~~~~~~~~~~~~~~~~~~~~~~~~~~~~~~~~~~~~~~~~~~~~~~~~~~~~~~~~~~~~~~~~~~~~~~~~\n",
      "\n",
      "      .---.        .------######       #####     ###   ###  ########  ###    ###\n",
      "     /     \\  __  /    --###  ###    ###  ###   ###   ###  ###       #####  ###\n",
      "    / /     \\(  )/    --###  ###    ###   ###  ###   ###  ######    ### ######\n",
      "   //////   ' \\/ `   --#######     #########  ###   ###  ###       ###  #####\n",
      "  //// / // :    :   -###   ###   ###   ###    ######   ####      ###   ####\n",
      " // /   /  /`    '---###    ###  ###   ###      ###    ########  ###    ###\n",
      "//          //..\\\n",
      "===========UU====UU=============================================================\n",
      "           '//||\\`\n",
      "             ''``\n",
      "    \n",
      "\n",
      "Copyright 2017 Battelle Energy Alliance, LLC\n",
      "\n",
      "Licensed under the Apache License, Version 2.0 (the \"License\");\n",
      "you may not use this file except in compliance with the License.\n",
      "You may obtain a copy of the License at\n",
      "\n",
      "http://www.apache.org/licenses/LICENSE-2.0\n",
      "\n",
      "Unless required by applicable law or agreed to in writing, software\n",
      "distributed under the License is distributed on an \"AS IS\" BASIS,\n",
      "WITHOUT WARRANTIES OR CONDITIONS OF ANY KIND, either express or implied.\n",
      "See the License for the specific language governing permissions and\n",
      "limitations under the License.\n",
      "  \n",
      "(    0.00 sec) SIMULATION               : Message         -> Simulation started at 2020-01-15 14:33:33\n",
      "(    0.00 sec) SIMULATION               : Message         -> Global verbosity level is \" debug \"\n",
      "(    0.00 sec) SIMULATION               : DEBUG           -> -- Reading the block: RunInfo        --\n",
      "(    0.00 sec) SIMULATION               : DEBUG           -> -- Reading the block: Files          --\n",
      "(    0.00 sec) SIMULATION               : DEBUG           -> Reading type Input with name demand_data\n",
      "(    0.00 sec) UserGenerated File       : DEBUG           -> ------Reading Completed for:\n",
      "(    0.00 sec) UserGenerated File       : DEBUG           ->        Class          : UserGenerated   from <class 'Files.File'>\n",
      "(    0.00 sec) UserGenerated File       : DEBUG           ->        Type           : UserGenerated\n",
      "(    0.00 sec) UserGenerated File       : DEBUG           ->        Name           : demand_data\n",
      "(    0.00 sec) UserGenerated File       : DEBUG           ->        Initialization Parameters:\n",
      "(    0.00 sec) UserGenerated File       : DEBUG           ->        Current Setting:\n",
      "(    0.00 sec) SIMULATION               : DEBUG           -> -- Reading the block: Models         --\n",
      "(    0.00 sec) SIMULATION               : DEBUG           -> Reading type PostProcessor with name typicalHistory\n",
      "(    0.00 sec) PostProcessor            : DEBUG           -> ------Reading Completed for:\n",
      "(    0.00 sec) PostProcessor            : DEBUG           ->        Class          : PostProcessor   from <class 'Models.Model.Model'>\n",
      "(    0.00 sec) PostProcessor            : DEBUG           ->        Type           : PostProcessor\n",
      "(    0.00 sec) PostProcessor            : DEBUG           ->        Name           : typicalHistory\n",
      "(    0.00 sec) PostProcessor            : DEBUG           ->        Initialization Parameters:\n",
      "(    0.00 sec) PostProcessor            : DEBUG           ->        subType        : InterfacedPostProcessor\n",
      "(    0.00 sec) PostProcessor            : DEBUG           ->        Current Setting:\n",
      "(    0.00 sec) SIMULATION               : DEBUG           -> -- Reading the block: OutStreams     --\n",
      "(    0.00 sec) SIMULATION               : DEBUG           -> Reading type Print with name TypicalSteam\n",
      "(    0.00 sec) OUTSTREAM MANAGER        : DEBUG           -> ------Reading Completed for:\n",
      "(    0.00 sec) OUTSTREAM MANAGER        : DEBUG           ->        Class          : OutStreamPrint  from <class 'OutStreams.OutStreamManager.OutStreamManager'>\n",
      "(    0.00 sec) OUTSTREAM MANAGER        : DEBUG           ->        Type           : OutStreamPrint\n",
      "(    0.00 sec) OUTSTREAM MANAGER        : DEBUG           ->        Name           : TypicalSteam\n",
      "(    0.00 sec) OUTSTREAM MANAGER        : DEBUG           ->        Initialization Parameters:\n",
      "(    0.00 sec) OUTSTREAM MANAGER        : DEBUG           ->        Global Class Type                 : OutStreamManager\n",
      "(    0.00 sec) OUTSTREAM MANAGER        : DEBUG           ->        Specialized Class Type            : OutStreamPrint\n",
      "(    0.00 sec) OUTSTREAM MANAGER        : DEBUG           ->        Overwrite output everytime called : True\n",
      "(    0.00 sec) OUTSTREAM MANAGER        : DEBUG           ->        Source Name 0 :: typicalDemand\n",
      "(    0.00 sec) OUTSTREAM MANAGER        : DEBUG           ->        Current Setting:\n",
      "(    0.00 sec) SIMULATION               : DEBUG           -> -- Reading the block: DataObjects    --\n",
      "(    0.00 sec) SIMULATION               : DEBUG           -> Reading type HistorySet with name raw_power\n",
      "Using param spec \"DataSet\" to read XML node \"HistorySet.\n",
      "(    0.01 sec) HistorySet               : DEBUG           -> ------Reading Completed for:\n",
      "(    0.01 sec) HistorySet               : DEBUG           ->        Class          : HistorySet      from <class 'DataObjects.DataSet.DataSet'>\n",
      "(    0.01 sec) HistorySet               : DEBUG           ->        Type           : HistorySet\n",
      "(    0.01 sec) HistorySet               : DEBUG           ->        Name           : raw_power\n",
      "(    0.01 sec) HistorySet               : DEBUG           ->        Initialization Parameters:\n",
      "(    0.01 sec) HistorySet               : DEBUG           ->        Current Setting:\n",
      "(    0.01 sec) SIMULATION               : DEBUG           -> Reading type HistorySet with name typicalDemand\n",
      "Using param spec \"DataSet\" to read XML node \"HistorySet.\n",
      "(    0.01 sec) HistorySet               : DEBUG           -> ------Reading Completed for:\n",
      "(    0.01 sec) HistorySet               : DEBUG           ->        Class          : HistorySet      from <class 'DataObjects.DataSet.DataSet'>\n",
      "(    0.01 sec) HistorySet               : DEBUG           ->        Type           : HistorySet\n",
      "(    0.01 sec) HistorySet               : DEBUG           ->        Name           : typicalDemand\n",
      "(    0.01 sec) HistorySet               : DEBUG           ->        Initialization Parameters:\n",
      "(    0.01 sec) HistorySet               : DEBUG           ->        Current Setting:\n",
      "(    0.01 sec) SIMULATION               : DEBUG           -> -- Reading the block: Steps          --\n",
      "(    0.01 sec) SIMULATION               : DEBUG           -> Reading type IOStep with name read\n",
      "(    0.01 sec) STEP IOCOMBINED          : DEBUG           -> move this tests to base class when it is ready for all the classes\n",
      "(    0.01 sec) STEP IOCOMBINED          : DEBUG           -> ------Reading Completed for:\n",
      "(    0.01 sec) STEP IOCOMBINED          : DEBUG           ->        Class          : IOStep          from <class 'Steps.Step'>\n",
      "(    0.01 sec) STEP IOCOMBINED          : DEBUG           ->        Type           : IOStep\n",
      "(    0.01 sec) STEP IOCOMBINED          : DEBUG           ->        Name           : read\n",
      "(    0.01 sec) STEP IOCOMBINED          : DEBUG           ->        Initialization Parameters:\n",
      "(    0.01 sec) STEP IOCOMBINED          : DEBUG           ->        Sleep time     : 0.005\n",
      "(    0.01 sec) STEP IOCOMBINED          : DEBUG           ->        Initial seed   : None\n",
      "(    0.01 sec) STEP IOCOMBINED          : DEBUG           ->        Input          : Class: Files Type:   Global name: demand_data\n",
      "(    0.01 sec) STEP IOCOMBINED          : DEBUG           ->        Output         : Class: DataObjects Type: HistorySet  Global name: raw_power\n",
      "(    0.01 sec) STEP IOCOMBINED          : DEBUG           ->        Current Setting:\n",
      "(    0.01 sec) SIMULATION               : DEBUG           -> Reading type PostProcess with name get_history\n",
      "(    0.01 sec) STEP SINGLERUN           : DEBUG           -> move this tests to base class when it is ready for all the classes\n",
      "(    0.01 sec) STEP SINGLERUN           : DEBUG           -> the mapping used in the model for checking the compatibility of usage should be more similar to self.parList to avoid the double mapping below FIXME\n",
      "(    0.01 sec) STEP SINGLERUN           : DEBUG           -> reactivate check on Input as soon as loadCsv gets out from the PostProcessor models!\n",
      "(    0.01 sec) STEP SINGLERUN           : DEBUG           -> ------Reading Completed for:\n",
      "(    0.01 sec) STEP SINGLERUN           : DEBUG           ->        Class          : PostProcess     from <class 'Steps.SingleRun'>\n",
      "(    0.01 sec) STEP SINGLERUN           : DEBUG           ->        Type           : PostProcess\n",
      "(    0.01 sec) STEP SINGLERUN           : DEBUG           ->        Name           : get_history\n",
      "(    0.01 sec) STEP SINGLERUN           : DEBUG           ->        Initialization Parameters:\n",
      "(    0.01 sec) STEP SINGLERUN           : DEBUG           ->        Sleep time     : 0.005\n",
      "(    0.01 sec) STEP SINGLERUN           : DEBUG           ->        Initial seed   : None\n",
      "(    0.01 sec) STEP SINGLERUN           : DEBUG           ->        Output         : Class: DataObjects Type: HistorySet  Global name: typicalDemand\n",
      "(    0.01 sec) STEP SINGLERUN           : DEBUG           ->        Model          : Class: Models Type: PostProcessor  Global name: typicalHistory\n",
      "(    0.01 sec) STEP SINGLERUN           : DEBUG           ->        Input          : Class: DataObjects Type: HistorySet  Global name: raw_power\n",
      "(    0.01 sec) STEP SINGLERUN           : DEBUG           ->        Current Setting:\n",
      "(    0.01 sec) SIMULATION               : DEBUG           -> Reading type IOStep with name write\n",
      "(    0.01 sec) STEP IOCOMBINED          : DEBUG           -> move this tests to base class when it is ready for all the classes\n",
      "(    0.01 sec) STEP IOCOMBINED          : DEBUG           -> ------Reading Completed for:\n",
      "(    0.01 sec) STEP IOCOMBINED          : DEBUG           ->        Class          : IOStep          from <class 'Steps.Step'>\n",
      "(    0.01 sec) STEP IOCOMBINED          : DEBUG           ->        Type           : IOStep\n",
      "(    0.01 sec) STEP IOCOMBINED          : DEBUG           ->        Name           : write\n",
      "(    0.01 sec) STEP IOCOMBINED          : DEBUG           ->        Initialization Parameters:\n",
      "(    0.01 sec) STEP IOCOMBINED          : DEBUG           ->        Sleep time     : 0.005\n",
      "(    0.01 sec) STEP IOCOMBINED          : DEBUG           ->        Initial seed   : None\n",
      "(    0.01 sec) STEP IOCOMBINED          : DEBUG           ->        Output         : Class: OutStreams Type: Print  Global name: TypicalSteam\n",
      "(    0.01 sec) STEP IOCOMBINED          : DEBUG           ->        Input          : Class: DataObjects Type: HistorySet  Global name: typicalDemand\n",
      "(    0.01 sec) STEP IOCOMBINED          : DEBUG           ->        Current Setting:\n",
      "(    0.01 sec) SIMULATION               : DEBUG           -> Moving to working directory: /home/dotson/Research/2020-dotson-optimal-sizing/inputfiles/../../data/\n",
      "(    0.01 sec) Job Handler              : DEBUG           -> Setting maxQueueSize to 1\n",
      "(    0.01 sec) SIMULATION               : DEBUG           -> entering the run\n",
      "(    0.01 sec) SIMULATION               : Message         -> -- Beginning step read of type: IOStep                              --\n",
      "(    0.01 sec) STEP IOCOMBINED          : Message         -> ***  Beginning initialization ***\n",
      "(    0.01 sec) STEP IOCOMBINED          : DEBUG           -> jobHandler initialized\n",
      "(    0.01 sec) STEP IOCOMBINED          : Message         -> ***    Initialization done    ***\n",
      "(    0.01 sec) STEP IOCOMBINED          : Message         -> ***       Beginning run       ***\n",
      "(    0.02 sec) HistorySet               : DEBUG           -> Reading data from \"/home/dotson/Research/data/annual_steam_H.csv.csv\"\n",
      "(    0.03 sec) HistorySet               : DEBUG           -> Reading data from \"/home/dotson/Research/data/annual_steam2015.csv.csv\"\n"
     ]
    },
    {
     "name": "stdout",
     "output_type": "stream",
     "text": [
      "(    0.04 sec) HistorySet               : DEBUG           -> Reading data from \"/home/dotson/Research/data/annual_steam2016.csv.csv\"\n",
      "(    0.05 sec) HistorySet               : DEBUG           -> Reading data from \"/home/dotson/Research/data/annual_steam2017.csv.csv\"\n",
      "(    0.06 sec) HistorySet               : DEBUG           -> Reading data from \"/home/dotson/Research/data/annual_steam2018.csv.csv\"\n",
      "(    0.07 sec) STEP IOCOMBINED          : Message         -> ***       Run finished        ***\n",
      "(    0.07 sec) STEP IOCOMBINED          : Message         -> ***     Closing the step      ***\n",
      "(    0.07 sec) STEP IOCOMBINED          : Message         -> ***        Step closed        ***\n",
      "(    0.07 sec) SIMULATION               : Message         -> -- End step read of type: IOStep                               --\n",
      "\n",
      "(    0.07 sec) SIMULATION               : Message         -> -- Beginning step get_history of type: PostProcess                  --\n",
      "(    0.07 sec) STEP SINGLERUN           : Message         -> ***  Beginning initialization ***\n",
      "(    0.07 sec) STEP SINGLERUN           : DEBUG           -> jobHandler initialized\n",
      "(    0.07 sec) STEP SINGLERUN           : DEBUG           -> for the role Model  the item of class PostProcessor   and name typicalHistory  has been initialized\n",
      "(    0.07 sec) STEP SINGLERUN           : DEBUG           -> for the role Output the item of class HistorySet      and name typicalDemand   has been initialized\n",
      "(    0.07 sec) STEP SINGLERUN           : Message         -> ***    Initialization done    ***\n",
      "(    0.07 sec) STEP SINGLERUN           : Message         -> ***       Beginning run       ***\n",
      "(    0.07 sec) HistorySet               : Warning         -> DataObject._convertToDict can be a slow operation and should be avoided where possible!\n",
      "(    0.08 sec) PostProcessor            : DEBUG           -> InterfacedPostProcessor Post-Processor typicalHistory : start to run\n",
      "/home/dotson/Research/raven/framework/PostProcessorFunctions/TypicalHistoryFromHistorySet.py:271: VisibleDeprecationWarning: Passing `normed=True` on non-uniform bins has always been broken, and computes neither the probability density function nor the probability mass function. The result is only correct if the bins are uniform, when density=True will produce the same result anyway. The argument will be removed in a future version of numpy.\n",
      "  (counts, _) = np.histogram(data,bins=binEdgesIn,normed=True)\n",
      "/home/dotson/Research/raven/framework/PostProcessorFunctions/TypicalHistoryFromHistorySet.py:271: VisibleDeprecationWarning: Passing `normed=True` on non-uniform bins has always been broken, and computes neither the probability density function nor the probability mass function. The result is only correct if the bins are uniform, when density=True will produce the same result anyway. The argument will be removed in a future version of numpy.\n",
      "  (counts, _) = np.histogram(data,bins=binEdgesIn,normed=True)\n",
      "/home/dotson/Research/raven/framework/PostProcessorFunctions/TypicalHistoryFromHistorySet.py:271: VisibleDeprecationWarning: Passing `normed=True` on non-uniform bins has always been broken, and computes neither the probability density function nor the probability mass function. The result is only correct if the bins are uniform, when density=True will produce the same result anyway. The argument will be removed in a future version of numpy.\n",
      "  (counts, _) = np.histogram(data,bins=binEdgesIn,normed=True)\n",
      "/home/dotson/Research/raven/framework/PostProcessorFunctions/TypicalHistoryFromHistorySet.py:271: VisibleDeprecationWarning: Passing `normed=True` on non-uniform bins has always been broken, and computes neither the probability density function nor the probability mass function. The result is only correct if the bins are uniform, when density=True will produce the same result anyway. The argument will be removed in a future version of numpy.\n",
      "  (counts, _) = np.histogram(data,bins=binEdgesIn,normed=True)\n",
      "/home/dotson/Research/raven/framework/PostProcessorFunctions/TypicalHistoryFromHistorySet.py:271: VisibleDeprecationWarning: Passing `normed=True` on non-uniform bins has always been broken, and computes neither the probability density function nor the probability mass function. The result is only correct if the bins are uniform, when density=True will produce the same result anyway. The argument will be removed in a future version of numpy.\n",
      "  (counts, _) = np.histogram(data,bins=binEdgesIn,normed=True)\n",
      "/home/dotson/Research/raven/framework/PostProcessorFunctions/TypicalHistoryFromHistorySet.py:271: VisibleDeprecationWarning: Passing `normed=True` on non-uniform bins has always been broken, and computes neither the probability density function nor the probability mass function. The result is only correct if the bins are uniform, when density=True will produce the same result anyway. The argument will be removed in a future version of numpy.\n",
      "  (counts, _) = np.histogram(data,bins=binEdgesIn,normed=True)\n",
      "/home/dotson/Research/raven/framework/PostProcessorFunctions/TypicalHistoryFromHistorySet.py:271: VisibleDeprecationWarning: Passing `normed=True` on non-uniform bins has always been broken, and computes neither the probability density function nor the probability mass function. The result is only correct if the bins are uniform, when density=True will produce the same result anyway. The argument will be removed in a future version of numpy.\n",
      "  (counts, _) = np.histogram(data,bins=binEdgesIn,normed=True)\n",
      "/home/dotson/Research/raven/framework/PostProcessorFunctions/TypicalHistoryFromHistorySet.py:271: VisibleDeprecationWarning: Passing `normed=True` on non-uniform bins has always been broken, and computes neither the probability density function nor the probability mass function. The result is only correct if the bins are uniform, when density=True will produce the same result anyway. The argument will be removed in a future version of numpy.\n",
      "  (counts, _) = np.histogram(data,bins=binEdgesIn,normed=True)\n",
      "/home/dotson/Research/raven/framework/PostProcessorFunctions/TypicalHistoryFromHistorySet.py:271: VisibleDeprecationWarning: Passing `normed=True` on non-uniform bins has always been broken, and computes neither the probability density function nor the probability mass function. The result is only correct if the bins are uniform, when density=True will produce the same result anyway. The argument will be removed in a future version of numpy.\n",
      "  (counts, _) = np.histogram(data,bins=binEdgesIn,normed=True)\n",
      "/home/dotson/Research/raven/framework/PostProcessorFunctions/TypicalHistoryFromHistorySet.py:271: VisibleDeprecationWarning: Passing `normed=True` on non-uniform bins has always been broken, and computes neither the probability density function nor the probability mass function. The result is only correct if the bins are uniform, when density=True will produce the same result anyway. The argument will be removed in a future version of numpy.\n",
      "  (counts, _) = np.histogram(data,bins=binEdgesIn,normed=True)\n",
      "/home/dotson/Research/raven/framework/PostProcessorFunctions/TypicalHistoryFromHistorySet.py:271: VisibleDeprecationWarning: Passing `normed=True` on non-uniform bins has always been broken, and computes neither the probability density function nor the probability mass function. The result is only correct if the bins are uniform, when density=True will produce the same result anyway. The argument will be removed in a future version of numpy.\n",
      "  (counts, _) = np.histogram(data,bins=binEdgesIn,normed=True)\n",
      "/home/dotson/Research/raven/framework/PostProcessorFunctions/TypicalHistoryFromHistorySet.py:271: VisibleDeprecationWarning: Passing `normed=True` on non-uniform bins has always been broken, and computes neither the probability density function nor the probability mass function. The result is only correct if the bins are uniform, when density=True will produce the same result anyway. The argument will be removed in a future version of numpy.\n",
      "  (counts, _) = np.histogram(data,bins=binEdgesIn,normed=True)\n",
      "/home/dotson/Research/raven/framework/PostProcessorFunctions/TypicalHistoryFromHistorySet.py:271: VisibleDeprecationWarning: Passing `normed=True` on non-uniform bins has always been broken, and computes neither the probability density function nor the probability mass function. The result is only correct if the bins are uniform, when density=True will produce the same result anyway. The argument will be removed in a future version of numpy.\n",
      "  (counts, _) = np.histogram(data,bins=binEdgesIn,normed=True)\n",
      "/home/dotson/Research/raven/framework/PostProcessorFunctions/TypicalHistoryFromHistorySet.py:271: VisibleDeprecationWarning: Passing `normed=True` on non-uniform bins has always been broken, and computes neither the probability density function nor the probability mass function. The result is only correct if the bins are uniform, when density=True will produce the same result anyway. The argument will be removed in a future version of numpy.\n",
      "  (counts, _) = np.histogram(data,bins=binEdgesIn,normed=True)\n",
      "/home/dotson/Research/raven/framework/PostProcessorFunctions/TypicalHistoryFromHistorySet.py:271: VisibleDeprecationWarning: Passing `normed=True` on non-uniform bins has always been broken, and computes neither the probability density function nor the probability mass function. The result is only correct if the bins are uniform, when density=True will produce the same result anyway. The argument will be removed in a future version of numpy.\n",
      "  (counts, _) = np.histogram(data,bins=binEdgesIn,normed=True)\n",
      "/home/dotson/Research/raven/framework/PostProcessorFunctions/TypicalHistoryFromHistorySet.py:271: VisibleDeprecationWarning: Passing `normed=True` on non-uniform bins has always been broken, and computes neither the probability density function nor the probability mass function. The result is only correct if the bins are uniform, when density=True will produce the same result anyway. The argument will be removed in a future version of numpy.\n",
      "  (counts, _) = np.histogram(data,bins=binEdgesIn,normed=True)\n",
      "/home/dotson/Research/raven/framework/PostProcessorFunctions/TypicalHistoryFromHistorySet.py:271: VisibleDeprecationWarning: Passing `normed=True` on non-uniform bins has always been broken, and computes neither the probability density function nor the probability mass function. The result is only correct if the bins are uniform, when density=True will produce the same result anyway. The argument will be removed in a future version of numpy.\n",
      "  (counts, _) = np.histogram(data,bins=binEdgesIn,normed=True)\n",
      "/home/dotson/Research/raven/framework/PostProcessorFunctions/TypicalHistoryFromHistorySet.py:271: VisibleDeprecationWarning: Passing `normed=True` on non-uniform bins has always been broken, and computes neither the probability density function nor the probability mass function. The result is only correct if the bins are uniform, when density=True will produce the same result anyway. The argument will be removed in a future version of numpy.\n",
      "  (counts, _) = np.histogram(data,bins=binEdgesIn,normed=True)\n",
      "/home/dotson/Research/raven/framework/PostProcessorFunctions/TypicalHistoryFromHistorySet.py:271: VisibleDeprecationWarning: Passing `normed=True` on non-uniform bins has always been broken, and computes neither the probability density function nor the probability mass function. The result is only correct if the bins are uniform, when density=True will produce the same result anyway. The argument will be removed in a future version of numpy.\n",
      "  (counts, _) = np.histogram(data,bins=binEdgesIn,normed=True)\n",
      "/home/dotson/Research/raven/framework/PostProcessorFunctions/TypicalHistoryFromHistorySet.py:271: VisibleDeprecationWarning: Passing `normed=True` on non-uniform bins has always been broken, and computes neither the probability density function nor the probability mass function. The result is only correct if the bins are uniform, when density=True will produce the same result anyway. The argument will be removed in a future version of numpy.\n",
      "  (counts, _) = np.histogram(data,bins=binEdgesIn,normed=True)\n",
      "/home/dotson/Research/raven/framework/PostProcessorFunctions/TypicalHistoryFromHistorySet.py:271: VisibleDeprecationWarning: Passing `normed=True` on non-uniform bins has always been broken, and computes neither the probability density function nor the probability mass function. The result is only correct if the bins are uniform, when density=True will produce the same result anyway. The argument will be removed in a future version of numpy.\n",
      "  (counts, _) = np.histogram(data,bins=binEdgesIn,normed=True)\n",
      "/home/dotson/Research/raven/framework/PostProcessorFunctions/TypicalHistoryFromHistorySet.py:271: VisibleDeprecationWarning: Passing `normed=True` on non-uniform bins has always been broken, and computes neither the probability density function nor the probability mass function. The result is only correct if the bins are uniform, when density=True will produce the same result anyway. The argument will be removed in a future version of numpy.\n",
      "  (counts, _) = np.histogram(data,bins=binEdgesIn,normed=True)\n",
      "/home/dotson/Research/raven/framework/PostProcessorFunctions/TypicalHistoryFromHistorySet.py:271: VisibleDeprecationWarning: Passing `normed=True` on non-uniform bins has always been broken, and computes neither the probability density function nor the probability mass function. The result is only correct if the bins are uniform, when density=True will produce the same result anyway. The argument will be removed in a future version of numpy.\n",
      "  (counts, _) = np.histogram(data,bins=binEdgesIn,normed=True)\n",
      "/home/dotson/Research/raven/framework/PostProcessorFunctions/TypicalHistoryFromHistorySet.py:271: VisibleDeprecationWarning: Passing `normed=True` on non-uniform bins has always been broken, and computes neither the probability density function nor the probability mass function. The result is only correct if the bins are uniform, when density=True will produce the same result anyway. The argument will be removed in a future version of numpy.\n",
      "  (counts, _) = np.histogram(data,bins=binEdgesIn,normed=True)\n",
      "/home/dotson/Research/raven/framework/PostProcessorFunctions/TypicalHistoryFromHistorySet.py:271: VisibleDeprecationWarning: Passing `normed=True` on non-uniform bins has always been broken, and computes neither the probability density function nor the probability mass function. The result is only correct if the bins are uniform, when density=True will produce the same result anyway. The argument will be removed in a future version of numpy.\n",
      "  (counts, _) = np.histogram(data,bins=binEdgesIn,normed=True)\n",
      "/home/dotson/Research/raven/framework/PostProcessorFunctions/TypicalHistoryFromHistorySet.py:271: VisibleDeprecationWarning: Passing `normed=True` on non-uniform bins has always been broken, and computes neither the probability density function nor the probability mass function. The result is only correct if the bins are uniform, when density=True will produce the same result anyway. The argument will be removed in a future version of numpy.\n",
      "  (counts, _) = np.histogram(data,bins=binEdgesIn,normed=True)\n",
      "/home/dotson/Research/raven/framework/PostProcessorFunctions/TypicalHistoryFromHistorySet.py:271: VisibleDeprecationWarning: Passing `normed=True` on non-uniform bins has always been broken, and computes neither the probability density function nor the probability mass function. The result is only correct if the bins are uniform, when density=True will produce the same result anyway. The argument will be removed in a future version of numpy.\n",
      "  (counts, _) = np.histogram(data,bins=binEdgesIn,normed=True)\n",
      "/home/dotson/Research/raven/framework/PostProcessorFunctions/TypicalHistoryFromHistorySet.py:271: VisibleDeprecationWarning: Passing `normed=True` on non-uniform bins has always been broken, and computes neither the probability density function nor the probability mass function. The result is only correct if the bins are uniform, when density=True will produce the same result anyway. The argument will be removed in a future version of numpy.\n",
      "  (counts, _) = np.histogram(data,bins=binEdgesIn,normed=True)\n",
      "/home/dotson/Research/raven/framework/PostProcessorFunctions/TypicalHistoryFromHistorySet.py:271: VisibleDeprecationWarning: Passing `normed=True` on non-uniform bins has always been broken, and computes neither the probability density function nor the probability mass function. The result is only correct if the bins are uniform, when density=True will produce the same result anyway. The argument will be removed in a future version of numpy.\n",
      "  (counts, _) = np.histogram(data,bins=binEdgesIn,normed=True)\n",
      "/home/dotson/Research/raven/framework/PostProcessorFunctions/TypicalHistoryFromHistorySet.py:271: VisibleDeprecationWarning: Passing `normed=True` on non-uniform bins has always been broken, and computes neither the probability density function nor the probability mass function. The result is only correct if the bins are uniform, when density=True will produce the same result anyway. The argument will be removed in a future version of numpy.\n",
      "  (counts, _) = np.histogram(data,bins=binEdgesIn,normed=True)\n",
      "/home/dotson/Research/raven/framework/PostProcessorFunctions/TypicalHistoryFromHistorySet.py:271: VisibleDeprecationWarning: Passing `normed=True` on non-uniform bins has always been broken, and computes neither the probability density function nor the probability mass function. The result is only correct if the bins are uniform, when density=True will produce the same result anyway. The argument will be removed in a future version of numpy.\n",
      "  (counts, _) = np.histogram(data,bins=binEdgesIn,normed=True)\n",
      "/home/dotson/Research/raven/framework/PostProcessorFunctions/TypicalHistoryFromHistorySet.py:271: VisibleDeprecationWarning: Passing `normed=True` on non-uniform bins has always been broken, and computes neither the probability density function nor the probability mass function. The result is only correct if the bins are uniform, when density=True will produce the same result anyway. The argument will be removed in a future version of numpy.\n",
      "  (counts, _) = np.histogram(data,bins=binEdgesIn,normed=True)\n",
      "/home/dotson/Research/raven/framework/PostProcessorFunctions/TypicalHistoryFromHistorySet.py:271: VisibleDeprecationWarning: Passing `normed=True` on non-uniform bins has always been broken, and computes neither the probability density function nor the probability mass function. The result is only correct if the bins are uniform, when density=True will produce the same result anyway. The argument will be removed in a future version of numpy.\n",
      "  (counts, _) = np.histogram(data,bins=binEdgesIn,normed=True)\n",
      "/home/dotson/Research/raven/framework/PostProcessorFunctions/TypicalHistoryFromHistorySet.py:271: VisibleDeprecationWarning: Passing `normed=True` on non-uniform bins has always been broken, and computes neither the probability density function nor the probability mass function. The result is only correct if the bins are uniform, when density=True will produce the same result anyway. The argument will be removed in a future version of numpy.\n",
      "  (counts, _) = np.histogram(data,bins=binEdgesIn,normed=True)\n",
      "/home/dotson/Research/raven/framework/PostProcessorFunctions/TypicalHistoryFromHistorySet.py:271: VisibleDeprecationWarning: Passing `normed=True` on non-uniform bins has always been broken, and computes neither the probability density function nor the probability mass function. The result is only correct if the bins are uniform, when density=True will produce the same result anyway. The argument will be removed in a future version of numpy.\n",
      "  (counts, _) = np.histogram(data,bins=binEdgesIn,normed=True)\n",
      "/home/dotson/Research/raven/framework/PostProcessorFunctions/TypicalHistoryFromHistorySet.py:271: VisibleDeprecationWarning: Passing `normed=True` on non-uniform bins has always been broken, and computes neither the probability density function nor the probability mass function. The result is only correct if the bins are uniform, when density=True will produce the same result anyway. The argument will be removed in a future version of numpy.\n",
      "  (counts, _) = np.histogram(data,bins=binEdgesIn,normed=True)\n",
      "/home/dotson/Research/raven/framework/PostProcessorFunctions/TypicalHistoryFromHistorySet.py:271: VisibleDeprecationWarning: Passing `normed=True` on non-uniform bins has always been broken, and computes neither the probability density function nor the probability mass function. The result is only correct if the bins are uniform, when density=True will produce the same result anyway. The argument will be removed in a future version of numpy.\n",
      "  (counts, _) = np.histogram(data,bins=binEdgesIn,normed=True)\n",
      "/home/dotson/Research/raven/framework/PostProcessorFunctions/TypicalHistoryFromHistorySet.py:271: VisibleDeprecationWarning: Passing `normed=True` on non-uniform bins has always been broken, and computes neither the probability density function nor the probability mass function. The result is only correct if the bins are uniform, when density=True will produce the same result anyway. The argument will be removed in a future version of numpy.\n",
      "  (counts, _) = np.histogram(data,bins=binEdgesIn,normed=True)\n",
      "/home/dotson/Research/raven/framework/PostProcessorFunctions/TypicalHistoryFromHistorySet.py:271: VisibleDeprecationWarning: Passing `normed=True` on non-uniform bins has always been broken, and computes neither the probability density function nor the probability mass function. The result is only correct if the bins are uniform, when density=True will produce the same result anyway. The argument will be removed in a future version of numpy.\n",
      "  (counts, _) = np.histogram(data,bins=binEdgesIn,normed=True)\n",
      "/home/dotson/Research/raven/framework/PostProcessorFunctions/TypicalHistoryFromHistorySet.py:271: VisibleDeprecationWarning: Passing `normed=True` on non-uniform bins has always been broken, and computes neither the probability density function nor the probability mass function. The result is only correct if the bins are uniform, when density=True will produce the same result anyway. The argument will be removed in a future version of numpy.\n",
      "  (counts, _) = np.histogram(data,bins=binEdgesIn,normed=True)\n",
      "/home/dotson/Research/raven/framework/PostProcessorFunctions/TypicalHistoryFromHistorySet.py:271: VisibleDeprecationWarning: Passing `normed=True` on non-uniform bins has always been broken, and computes neither the probability density function nor the probability mass function. The result is only correct if the bins are uniform, when density=True will produce the same result anyway. The argument will be removed in a future version of numpy.\n",
      "  (counts, _) = np.histogram(data,bins=binEdgesIn,normed=True)\n",
      "/home/dotson/Research/raven/framework/PostProcessorFunctions/TypicalHistoryFromHistorySet.py:271: VisibleDeprecationWarning: Passing `normed=True` on non-uniform bins has always been broken, and computes neither the probability density function nor the probability mass function. The result is only correct if the bins are uniform, when density=True will produce the same result anyway. The argument will be removed in a future version of numpy.\n",
      "  (counts, _) = np.histogram(data,bins=binEdgesIn,normed=True)\n",
      "/home/dotson/Research/raven/framework/PostProcessorFunctions/TypicalHistoryFromHistorySet.py:271: VisibleDeprecationWarning: Passing `normed=True` on non-uniform bins has always been broken, and computes neither the probability density function nor the probability mass function. The result is only correct if the bins are uniform, when density=True will produce the same result anyway. The argument will be removed in a future version of numpy.\n",
      "  (counts, _) = np.histogram(data,bins=binEdgesIn,normed=True)\n",
      "/home/dotson/Research/raven/framework/PostProcessorFunctions/TypicalHistoryFromHistorySet.py:271: VisibleDeprecationWarning: Passing `normed=True` on non-uniform bins has always been broken, and computes neither the probability density function nor the probability mass function. The result is only correct if the bins are uniform, when density=True will produce the same result anyway. The argument will be removed in a future version of numpy.\n",
      "  (counts, _) = np.histogram(data,bins=binEdgesIn,normed=True)\n",
      "/home/dotson/Research/raven/framework/PostProcessorFunctions/TypicalHistoryFromHistorySet.py:271: VisibleDeprecationWarning: Passing `normed=True` on non-uniform bins has always been broken, and computes neither the probability density function nor the probability mass function. The result is only correct if the bins are uniform, when density=True will produce the same result anyway. The argument will be removed in a future version of numpy.\n",
      "  (counts, _) = np.histogram(data,bins=binEdgesIn,normed=True)\n",
      "/home/dotson/Research/raven/framework/PostProcessorFunctions/TypicalHistoryFromHistorySet.py:271: VisibleDeprecationWarning: Passing `normed=True` on non-uniform bins has always been broken, and computes neither the probability density function nor the probability mass function. The result is only correct if the bins are uniform, when density=True will produce the same result anyway. The argument will be removed in a future version of numpy.\n",
      "  (counts, _) = np.histogram(data,bins=binEdgesIn,normed=True)\n",
      "/home/dotson/Research/raven/framework/PostProcessorFunctions/TypicalHistoryFromHistorySet.py:271: VisibleDeprecationWarning: Passing `normed=True` on non-uniform bins has always been broken, and computes neither the probability density function nor the probability mass function. The result is only correct if the bins are uniform, when density=True will produce the same result anyway. The argument will be removed in a future version of numpy.\n",
      "  (counts, _) = np.histogram(data,bins=binEdgesIn,normed=True)\n",
      "/home/dotson/Research/raven/framework/PostProcessorFunctions/TypicalHistoryFromHistorySet.py:271: VisibleDeprecationWarning: Passing `normed=True` on non-uniform bins has always been broken, and computes neither the probability density function nor the probability mass function. The result is only correct if the bins are uniform, when density=True will produce the same result anyway. The argument will be removed in a future version of numpy.\n",
      "  (counts, _) = np.histogram(data,bins=binEdgesIn,normed=True)\n",
      "/home/dotson/Research/raven/framework/PostProcessorFunctions/TypicalHistoryFromHistorySet.py:271: VisibleDeprecationWarning: Passing `normed=True` on non-uniform bins has always been broken, and computes neither the probability density function nor the probability mass function. The result is only correct if the bins are uniform, when density=True will produce the same result anyway. The argument will be removed in a future version of numpy.\n",
      "  (counts, _) = np.histogram(data,bins=binEdgesIn,normed=True)\n",
      "(    0.21 sec) STEP SINGLERUN           : Message         -> ***       Run finished        ***\n",
      "(    0.21 sec) STEP SINGLERUN           : Message         -> ***     Closing the step      ***\n",
      "(    0.21 sec) STEP SINGLERUN           : Message         -> ***        Step closed        ***\n",
      "(    0.21 sec) SIMULATION               : Message         -> -- End step get_history of type: PostProcess                   --\n",
      "\n",
      "(    0.21 sec) SIMULATION               : Message         -> -- Beginning step write of type: IOStep                             --\n",
      "(    0.21 sec) STEP IOCOMBINED          : Message         -> ***  Beginning initialization ***\n",
      "(    0.21 sec) STEP IOCOMBINED          : DEBUG           -> jobHandler initialized\n",
      "(    0.21 sec) STEP IOCOMBINED          : DEBUG           -> for the role Output the item of class OutStreamPrint  and name TypicalSteam    has been initialized\n",
      "(    0.21 sec) STEP IOCOMBINED          : Message         -> ***    Initialization done    ***\n",
      "(    0.21 sec) STEP IOCOMBINED          : Message         -> ***       Beginning run       ***\n",
      "(    0.21 sec) HistorySet               : DEBUG           -> Printing data to CSV: \"TypicalSteam.csv\"\n"
     ]
    },
    {
     "name": "stdout",
     "output_type": "stream",
     "text": [
      "(    0.25 sec) HistorySet               : DEBUG           -> Printing metadata XML: \"TypicalSteam.xml\"\r\n",
      "(    0.25 sec) STEP IOCOMBINED          : Message         -> ***       Run finished        ***\r\n",
      "(    0.25 sec) STEP IOCOMBINED          : Message         -> ***     Closing the step      ***\r\n",
      "(    0.25 sec) STEP IOCOMBINED          : Message         -> ***        Step closed        ***\r\n",
      "(    0.25 sec) SIMULATION               : Message         -> -- End step write of type: IOStep                              --\r\n",
      "\r\n",
      "--------------------------------------------------\r\n",
      "There were 1 warnings during the simulation run:\r\n",
      "(1 time) DataObject._convertToDict can be a slow operation and should be avoided where possible!\r\n",
      "--------------------------------------------------\r\n",
      "(    0.25 sec) SIMULATION               : Message         -> Run complete!\r\n"
     ]
    }
   ],
   "source": [
    "!~/Research/raven/raven_framework ~/Research/2020-dotson-optimal-sizing/inputfiles/typical_steam.xml"
   ]
  },
  {
   "cell_type": "code",
   "execution_count": 18,
   "metadata": {},
   "outputs": [],
   "source": [
    "typical_steam = pd.read_csv(path+\"TypicalSteam_0.csv\")\n",
    "\n",
    "typical_steam['date'] = pd.date_range(start='1/1/2018', end='1/1/2019', freq='H')[:8760]"
   ]
  },
  {
   "cell_type": "code",
   "execution_count": 19,
   "metadata": {},
   "outputs": [
    {
     "data": {
      "image/png": "[encoded data removed]",
      "text/plain": [
       "<Figure size 864x648 with 1 Axes>"
      ]
     },
     "metadata": {},
     "output_type": "display_data"
    }
   ],
   "source": [
    "import matplotlib.dates as mdates\n",
    "\n",
    "\n",
    "# Set the locator\n",
    "locator = mdates.MonthLocator()  # every month\n",
    "# Specify the format - %b gives us Jan, Feb...\n",
    "fmt = mdates.DateFormatter('%b')\n",
    "\n",
    "fig = plt.figure(figsize=(12,9), edgecolor='k', facecolor='w')\n",
    "plt.plot(typical_steam.date, typical_steam.demand)\n",
    "plt.title('Typical Year of Steam Demand at UIUC', fontsize=24)\n",
    "plt.xlabel('Date', fontsize=18)\n",
    "plt.ylabel('Steam Demand (klbs)',fontsize=18)\n",
    "\n",
    "X = plt.gca().xaxis\n",
    "X.set_major_locator(locator)\n",
    "# Specify formatter\n",
    "X.set_major_formatter(fmt)\n",
    "plt.show()"
   ]
  }
 ],
 "metadata": {
  "kernelspec": {
   "display_name": "Python 3",
   "language": "python",
   "name": "python3"
  },
  "language_info": {
   "codemirror_mode": {
    "name": "ipython",
    "version": 3
   },
   "file_extension": ".py",
   "mimetype": "text/x-python",
   "name": "python",
   "nbconvert_exporter": "python",
   "pygments_lexer": "ipython3",
   "version": "3.6.9"
  }
 },
 "nbformat": 4,
 "nbformat_minor": 2
}
