{
 "cells": [
  {
   "cell_type": "code",
   "execution_count": 1,
   "metadata": {},
   "outputs": [],
   "source": [
    "# import libraries\n",
    "import pandas as pd\n",
    "import numpy as np\n",
    "import matplotlib.pyplot as plt"
   ]
  },
  {
   "cell_type": "markdown",
   "metadata": {},
   "source": [
    "## Upload datasets\n",
    "\n",
    "df_201* is the solar irradiance data\n",
    "\n",
    "farm_201* refers to real solar farm data"
   ]
  },
  {
   "cell_type": "code",
   "execution_count": 6,
   "metadata": {},
   "outputs": [],
   "source": [
    "# define path to data\n",
    "path = \"../../data/\" "
   ]
  },
  {
   "cell_type": "code",
   "execution_count": 10,
   "metadata": {},
   "outputs": [],
   "source": [
    "df_2016 = pd.read_csv(path+\"2016_dni.csv\", skiprows=2, usecols=['Year','Month','Day','Hour', 'Minute','DHI', 'DNI', 'Temperature'])\n",
    "df_2016['time'] = pd.to_datetime(df_2016[['Year', 'Month', 'Day', 'Hour', 'Minute']])\n",
    "df_2016.index = pd.to_datetime(df_2016.time)"
   ]
  },
  {
   "cell_type": "code",
   "execution_count": 11,
   "metadata": {},
   "outputs": [],
   "source": [
    "df_2017 = pd.read_csv(path+\"2017_dni.csv\", skiprows=2, usecols=['Year','Month','Day','Hour', 'Minute','DHI', 'DNI', 'Temperature'])\n",
    "df_2017['time'] = pd.to_datetime(df_2017[['Year', 'Month', 'Day', 'Hour', 'Minute']])\n",
    "df_2017.index = pd.to_datetime(df_2017.time)"
   ]
  },
  {
   "cell_type": "code",
   "execution_count": 12,
   "metadata": {},
   "outputs": [],
   "source": [
    "df_2018 = pd.read_csv(path+\"2018_dni.csv\", skiprows=2, usecols=['Year','Month','Day','Hour', 'Minute','DHI', 'DNI', 'Temperature'])\n",
    "df_2018['time'] = pd.to_datetime(df_2018[['Year', 'Month', 'Day', 'Hour', 'Minute']])\n",
    "df_2018.index = pd.to_datetime(df_2018.time)"
   ]
  },
  {
   "cell_type": "code",
   "execution_count": 26,
   "metadata": {},
   "outputs": [
    {
     "data": {
      "text/plain": [
       "8054"
      ]
     },
     "execution_count": 26,
     "metadata": {},
     "output_type": "execute_result"
    }
   ],
   "source": [
    "farm_2016 = pd.read_csv(path+'solardata_2016.csv', parse_dates=True, index_col='time')\n",
    "farm_2017 = pd.read_csv(path+'solardata_2017.csv', parse_dates=True, index_col='time')\n",
    "farm_2018 = pd.read_csv(path+'solardata_2018.csv', parse_dates=True, index_col='time')"
   ]
  },
  {
   "cell_type": "code",
   "execution_count": 30,
   "metadata": {},
   "outputs": [],
   "source": [
    "farm_data_all = pd.read_csv(path+\"solardata.csv\", parse_dates=True, index_col='time')"
   ]
  },
  {
   "cell_type": "code",
   "execution_count": 38,
   "metadata": {},
   "outputs": [
    {
     "data": {
      "text/html": [
       "<div>\n",
       "<style scoped>\n",
       "    .dataframe tbody tr th:only-of-type {\n",
       "        vertical-align: middle;\n",
       "    }\n",
       "\n",
       "    .dataframe tbody tr th {\n",
       "        vertical-align: top;\n",
       "    }\n",
       "\n",
       "    .dataframe thead th {\n",
       "        text-align: right;\n",
       "    }\n",
       "</style>\n",
       "<table border=\"1\" class=\"dataframe\">\n",
       "  <thead>\n",
       "    <tr style=\"text-align: right;\">\n",
       "      <th></th>\n",
       "      <th>measured</th>\n",
       "      <th>inverted</th>\n",
       "    </tr>\n",
       "    <tr>\n",
       "      <th>time</th>\n",
       "      <th></th>\n",
       "      <th></th>\n",
       "    </tr>\n",
       "  </thead>\n",
       "  <tbody>\n",
       "    <tr>\n",
       "      <th>2019-04-19 00:00:00</th>\n",
       "      <td>-10.10</td>\n",
       "      <td>0.0</td>\n",
       "    </tr>\n",
       "    <tr>\n",
       "      <th>2019-04-19 00:15:00</th>\n",
       "      <td>-10.10</td>\n",
       "      <td>0.0</td>\n",
       "    </tr>\n",
       "    <tr>\n",
       "      <th>2019-04-19 00:30:00</th>\n",
       "      <td>-9.94</td>\n",
       "      <td>0.0</td>\n",
       "    </tr>\n",
       "    <tr>\n",
       "      <th>2019-04-19 00:45:00</th>\n",
       "      <td>-10.00</td>\n",
       "      <td>0.0</td>\n",
       "    </tr>\n",
       "    <tr>\n",
       "      <th>2019-04-19 01:00:00</th>\n",
       "      <td>-9.93</td>\n",
       "      <td>0.0</td>\n",
       "    </tr>\n",
       "    <tr>\n",
       "      <th>...</th>\n",
       "      <td>...</td>\n",
       "      <td>...</td>\n",
       "    </tr>\n",
       "    <tr>\n",
       "      <th>2016-11-30 22:45:00</th>\n",
       "      <td>-17.50</td>\n",
       "      <td>0.0</td>\n",
       "    </tr>\n",
       "    <tr>\n",
       "      <th>2016-11-30 23:00:00</th>\n",
       "      <td>-18.50</td>\n",
       "      <td>0.0</td>\n",
       "    </tr>\n",
       "    <tr>\n",
       "      <th>2016-11-30 23:15:00</th>\n",
       "      <td>-18.30</td>\n",
       "      <td>0.0</td>\n",
       "    </tr>\n",
       "    <tr>\n",
       "      <th>2016-11-30 23:30:00</th>\n",
       "      <td>-17.70</td>\n",
       "      <td>0.0</td>\n",
       "    </tr>\n",
       "    <tr>\n",
       "      <th>2016-11-30 23:45:00</th>\n",
       "      <td>-18.00</td>\n",
       "      <td>0.0</td>\n",
       "    </tr>\n",
       "  </tbody>\n",
       "</table>\n",
       "<p>120268 rows × 2 columns</p>\n",
       "</div>"
      ],
      "text/plain": [
       "                     measured  inverted\n",
       "time                                   \n",
       "2019-04-19 00:00:00    -10.10       0.0\n",
       "2019-04-19 00:15:00    -10.10       0.0\n",
       "2019-04-19 00:30:00     -9.94       0.0\n",
       "2019-04-19 00:45:00    -10.00       0.0\n",
       "2019-04-19 01:00:00     -9.93       0.0\n",
       "...                       ...       ...\n",
       "2016-11-30 22:45:00    -17.50       0.0\n",
       "2016-11-30 23:00:00    -18.50       0.0\n",
       "2016-11-30 23:15:00    -18.30       0.0\n",
       "2016-11-30 23:30:00    -17.70       0.0\n",
       "2016-11-30 23:45:00    -18.00       0.0\n",
       "\n",
       "[120268 rows x 2 columns]"
      ]
     },
     "execution_count": 38,
     "metadata": {},
     "output_type": "execute_result"
    }
   ],
   "source": [
    "farm_data_all"
   ]
  },
  {
   "cell_type": "code",
   "execution_count": 32,
   "metadata": {},
   "outputs": [
    {
     "data": {
      "text/plain": [
       "<matplotlib.axes._subplots.AxesSubplot at 0x7faa607125d0>"
      ]
     },
     "execution_count": 32,
     "metadata": {},
     "output_type": "execute_result"
    },
    {
     "data": {
      "image/png": "[encoded data removed]",
      "text/plain": [
       "<Figure size 432x288 with 1 Axes>"
      ]
     },
     "metadata": {
      "needs_background": "light"
     },
     "output_type": "display_data"
    }
   ],
   "source": [
    "farm_2016.plot()"
   ]
  },
  {
   "cell_type": "code",
   "execution_count": 35,
   "metadata": {},
   "outputs": [
    {
     "data": {
      "text/plain": [
       "<matplotlib.axes._subplots.AxesSubplot at 0x7faa60727a10>"
      ]
     },
     "execution_count": 35,
     "metadata": {},
     "output_type": "execute_result"
    },
    {
     "data": {
      "image/png": "[encoded data removed]",
      "text/plain": [
       "<Figure size 432x288 with 1 Axes>"
      ]
     },
     "metadata": {
      "needs_background": "light"
     },
     "output_type": "display_data"
    }
   ],
   "source": [
    "months2016 = farm_2016.groupby(farm_2016.index.month)\n",
    "december2016 = months2016.get_group(12)\n",
    "december2016.plot()"
   ]
  },
  {
   "cell_type": "code",
   "execution_count": 45,
   "metadata": {},
   "outputs": [
    {
     "data": {
      "text/plain": [
       "<matplotlib.axes._subplots.AxesSubplot at 0x7faa6072c5d0>"
      ]
     },
     "execution_count": 45,
     "metadata": {},
     "output_type": "execute_result"
    },
    {
     "data": {
      "image/png": "[encoded data removed]",
      "text/plain": [
       "<Figure size 432x288 with 1 Axes>"
      ]
     },
     "metadata": {
      "needs_background": "light"
     },
     "output_type": "display_data"
    }
   ],
   "source": [
    "start_date = pd.to_datetime('2016-12-19')\n",
    "end_date = pd.to_datetime('2016-12-28')\n",
    "strange_week = (december2016.index > start_date) & (december2016.index < end_date)\n",
    "\n",
    "december2016[strange_week].plot()"
   ]
  },
  {
   "cell_type": "code",
   "execution_count": 44,
   "metadata": {},
   "outputs": [
    {
     "data": {
      "text/html": [
       "<div>\n",
       "<style scoped>\n",
       "    .dataframe tbody tr th:only-of-type {\n",
       "        vertical-align: middle;\n",
       "    }\n",
       "\n",
       "    .dataframe tbody tr th {\n",
       "        vertical-align: top;\n",
       "    }\n",
       "\n",
       "    .dataframe thead th {\n",
       "        text-align: right;\n",
       "    }\n",
       "</style>\n",
       "<table border=\"1\" class=\"dataframe\">\n",
       "  <thead>\n",
       "    <tr style=\"text-align: right;\">\n",
       "      <th></th>\n",
       "      <th>measured</th>\n",
       "      <th>inverted</th>\n",
       "    </tr>\n",
       "    <tr>\n",
       "      <th>time</th>\n",
       "      <th></th>\n",
       "      <th></th>\n",
       "    </tr>\n",
       "  </thead>\n",
       "  <tbody>\n",
       "    <tr>\n",
       "      <th>2016-12-20 00:15:00</th>\n",
       "      <td>-15.80</td>\n",
       "      <td>0.00</td>\n",
       "    </tr>\n",
       "    <tr>\n",
       "      <th>2016-12-20 00:30:00</th>\n",
       "      <td>-16.60</td>\n",
       "      <td>0.00</td>\n",
       "    </tr>\n",
       "    <tr>\n",
       "      <th>2016-12-20 00:45:00</th>\n",
       "      <td>-16.00</td>\n",
       "      <td>0.00</td>\n",
       "    </tr>\n",
       "    <tr>\n",
       "      <th>2016-12-20 01:00:00</th>\n",
       "      <td>-15.20</td>\n",
       "      <td>0.00</td>\n",
       "    </tr>\n",
       "    <tr>\n",
       "      <th>2016-12-20 01:15:00</th>\n",
       "      <td>-16.10</td>\n",
       "      <td>0.00</td>\n",
       "    </tr>\n",
       "    <tr>\n",
       "      <th>2016-12-20 01:30:00</th>\n",
       "      <td>-15.20</td>\n",
       "      <td>0.00</td>\n",
       "    </tr>\n",
       "    <tr>\n",
       "      <th>2016-12-20 01:45:00</th>\n",
       "      <td>-17.10</td>\n",
       "      <td>0.00</td>\n",
       "    </tr>\n",
       "    <tr>\n",
       "      <th>2016-12-20 02:00:00</th>\n",
       "      <td>-36.60</td>\n",
       "      <td>0.00</td>\n",
       "    </tr>\n",
       "    <tr>\n",
       "      <th>2016-12-20 02:15:00</th>\n",
       "      <td>-22.20</td>\n",
       "      <td>0.00</td>\n",
       "    </tr>\n",
       "    <tr>\n",
       "      <th>2016-12-20 02:30:00</th>\n",
       "      <td>-20.60</td>\n",
       "      <td>0.00</td>\n",
       "    </tr>\n",
       "    <tr>\n",
       "      <th>2016-12-20 02:45:00</th>\n",
       "      <td>-21.60</td>\n",
       "      <td>0.00</td>\n",
       "    </tr>\n",
       "    <tr>\n",
       "      <th>2016-12-20 03:00:00</th>\n",
       "      <td>-21.50</td>\n",
       "      <td>0.00</td>\n",
       "    </tr>\n",
       "    <tr>\n",
       "      <th>2016-12-20 03:15:00</th>\n",
       "      <td>-21.70</td>\n",
       "      <td>0.00</td>\n",
       "    </tr>\n",
       "    <tr>\n",
       "      <th>2016-12-20 03:30:00</th>\n",
       "      <td>-20.10</td>\n",
       "      <td>0.00</td>\n",
       "    </tr>\n",
       "    <tr>\n",
       "      <th>2016-12-20 03:45:00</th>\n",
       "      <td>-22.00</td>\n",
       "      <td>0.00</td>\n",
       "    </tr>\n",
       "    <tr>\n",
       "      <th>2016-12-20 04:00:00</th>\n",
       "      <td>-22.40</td>\n",
       "      <td>0.00</td>\n",
       "    </tr>\n",
       "    <tr>\n",
       "      <th>2016-12-20 04:15:00</th>\n",
       "      <td>-20.70</td>\n",
       "      <td>0.00</td>\n",
       "    </tr>\n",
       "    <tr>\n",
       "      <th>2016-12-20 04:30:00</th>\n",
       "      <td>-18.50</td>\n",
       "      <td>0.00</td>\n",
       "    </tr>\n",
       "    <tr>\n",
       "      <th>2016-12-20 04:45:00</th>\n",
       "      <td>-20.90</td>\n",
       "      <td>0.00</td>\n",
       "    </tr>\n",
       "    <tr>\n",
       "      <th>2016-12-20 05:00:00</th>\n",
       "      <td>-20.20</td>\n",
       "      <td>0.00</td>\n",
       "    </tr>\n",
       "    <tr>\n",
       "      <th>2016-12-20 05:15:00</th>\n",
       "      <td>-19.90</td>\n",
       "      <td>0.00</td>\n",
       "    </tr>\n",
       "    <tr>\n",
       "      <th>2016-12-20 05:30:00</th>\n",
       "      <td>-20.40</td>\n",
       "      <td>0.00</td>\n",
       "    </tr>\n",
       "    <tr>\n",
       "      <th>2016-12-20 05:45:00</th>\n",
       "      <td>-21.80</td>\n",
       "      <td>0.00</td>\n",
       "    </tr>\n",
       "    <tr>\n",
       "      <th>2016-12-20 06:00:00</th>\n",
       "      <td>-23.40</td>\n",
       "      <td>0.00</td>\n",
       "    </tr>\n",
       "    <tr>\n",
       "      <th>2016-12-20 06:15:00</th>\n",
       "      <td>-23.80</td>\n",
       "      <td>0.00</td>\n",
       "    </tr>\n",
       "    <tr>\n",
       "      <th>2016-12-20 06:30:00</th>\n",
       "      <td>-23.90</td>\n",
       "      <td>0.00</td>\n",
       "    </tr>\n",
       "    <tr>\n",
       "      <th>2016-12-20 06:45:00</th>\n",
       "      <td>-22.10</td>\n",
       "      <td>2.37</td>\n",
       "    </tr>\n",
       "    <tr>\n",
       "      <th>2016-12-20 07:00:00</th>\n",
       "      <td>1.09</td>\n",
       "      <td>24.40</td>\n",
       "    </tr>\n",
       "    <tr>\n",
       "      <th>2016-12-20 07:15:00</th>\n",
       "      <td>60.50</td>\n",
       "      <td>86.40</td>\n",
       "    </tr>\n",
       "    <tr>\n",
       "      <th>2016-12-20 07:30:00</th>\n",
       "      <td>228.00</td>\n",
       "      <td>256.00</td>\n",
       "    </tr>\n",
       "    <tr>\n",
       "      <th>2016-12-20 07:45:00</th>\n",
       "      <td>436.00</td>\n",
       "      <td>469.00</td>\n",
       "    </tr>\n",
       "    <tr>\n",
       "      <th>2016-12-20 08:00:00</th>\n",
       "      <td>626.00</td>\n",
       "      <td>674.00</td>\n",
       "    </tr>\n",
       "    <tr>\n",
       "      <th>2016-12-20 08:15:00</th>\n",
       "      <td>1067.00</td>\n",
       "      <td>1080.00</td>\n",
       "    </tr>\n",
       "    <tr>\n",
       "      <th>2016-12-20 08:30:00</th>\n",
       "      <td>1088.00</td>\n",
       "      <td>1132.00</td>\n",
       "    </tr>\n",
       "    <tr>\n",
       "      <th>2016-12-20 10:30:00</th>\n",
       "      <td>879.00</td>\n",
       "      <td>915.00</td>\n",
       "    </tr>\n",
       "    <tr>\n",
       "      <th>2016-12-20 10:45:00</th>\n",
       "      <td>857.00</td>\n",
       "      <td>915.00</td>\n",
       "    </tr>\n",
       "    <tr>\n",
       "      <th>2016-12-20 11:00:00</th>\n",
       "      <td>730.00</td>\n",
       "      <td>775.00</td>\n",
       "    </tr>\n",
       "    <tr>\n",
       "      <th>2016-12-20 11:15:00</th>\n",
       "      <td>448.00</td>\n",
       "      <td>523.00</td>\n",
       "    </tr>\n",
       "    <tr>\n",
       "      <th>2016-12-20 11:30:00</th>\n",
       "      <td>1132.00</td>\n",
       "      <td>1157.00</td>\n",
       "    </tr>\n",
       "    <tr>\n",
       "      <th>2016-12-20 11:45:00</th>\n",
       "      <td>869.00</td>\n",
       "      <td>1208.00</td>\n",
       "    </tr>\n",
       "    <tr>\n",
       "      <th>2016-12-20 12:00:00</th>\n",
       "      <td>-8.78</td>\n",
       "      <td>1007.00</td>\n",
       "    </tr>\n",
       "  </tbody>\n",
       "</table>\n",
       "</div>"
      ],
      "text/plain": [
       "                     measured  inverted\n",
       "time                                   \n",
       "2016-12-20 00:15:00    -15.80      0.00\n",
       "2016-12-20 00:30:00    -16.60      0.00\n",
       "2016-12-20 00:45:00    -16.00      0.00\n",
       "2016-12-20 01:00:00    -15.20      0.00\n",
       "2016-12-20 01:15:00    -16.10      0.00\n",
       "2016-12-20 01:30:00    -15.20      0.00\n",
       "2016-12-20 01:45:00    -17.10      0.00\n",
       "2016-12-20 02:00:00    -36.60      0.00\n",
       "2016-12-20 02:15:00    -22.20      0.00\n",
       "2016-12-20 02:30:00    -20.60      0.00\n",
       "2016-12-20 02:45:00    -21.60      0.00\n",
       "2016-12-20 03:00:00    -21.50      0.00\n",
       "2016-12-20 03:15:00    -21.70      0.00\n",
       "2016-12-20 03:30:00    -20.10      0.00\n",
       "2016-12-20 03:45:00    -22.00      0.00\n",
       "2016-12-20 04:00:00    -22.40      0.00\n",
       "2016-12-20 04:15:00    -20.70      0.00\n",
       "2016-12-20 04:30:00    -18.50      0.00\n",
       "2016-12-20 04:45:00    -20.90      0.00\n",
       "2016-12-20 05:00:00    -20.20      0.00\n",
       "2016-12-20 05:15:00    -19.90      0.00\n",
       "2016-12-20 05:30:00    -20.40      0.00\n",
       "2016-12-20 05:45:00    -21.80      0.00\n",
       "2016-12-20 06:00:00    -23.40      0.00\n",
       "2016-12-20 06:15:00    -23.80      0.00\n",
       "2016-12-20 06:30:00    -23.90      0.00\n",
       "2016-12-20 06:45:00    -22.10      2.37\n",
       "2016-12-20 07:00:00      1.09     24.40\n",
       "2016-12-20 07:15:00     60.50     86.40\n",
       "2016-12-20 07:30:00    228.00    256.00\n",
       "2016-12-20 07:45:00    436.00    469.00\n",
       "2016-12-20 08:00:00    626.00    674.00\n",
       "2016-12-20 08:15:00   1067.00   1080.00\n",
       "2016-12-20 08:30:00   1088.00   1132.00\n",
       "2016-12-20 10:30:00    879.00    915.00\n",
       "2016-12-20 10:45:00    857.00    915.00\n",
       "2016-12-20 11:00:00    730.00    775.00\n",
       "2016-12-20 11:15:00    448.00    523.00\n",
       "2016-12-20 11:30:00   1132.00   1157.00\n",
       "2016-12-20 11:45:00    869.00   1208.00\n",
       "2016-12-20 12:00:00     -8.78   1007.00"
      ]
     },
     "execution_count": 44,
     "metadata": {},
     "output_type": "execute_result"
    }
   ],
   "source": [
    "december2016[strange_week]"
   ]
  },
  {
   "cell_type": "code",
   "execution_count": 13,
   "metadata": {},
   "outputs": [],
   "source": [
    "# time converters from datetime to minutes\n",
    "year_minutes = lambda x: (x.year-2013)*525600 + (x.month-1)*43800  + (x.day-1)*1440 + (x.hour)*60 + x.minute\n",
    "month_minutes = lambda x: (x.day-1)*1440 + (x.hour)*60 + x.minute\n",
    "year_hours = lambda x: (x.year-2013)*8760 + (x.month-1)*730 + (x.day-1)*24 + (x.hour)"
   ]
  },
  {
   "cell_type": "code",
   "execution_count": 16,
   "metadata": {},
   "outputs": [],
   "source": [
    "df_2013_hourly = df_2013.resample('H').mean()\n",
    "df_2014_hourly = df_2014.resample('H').mean()\n",
    "df_2015_hourly = df_2015.resample('H').mean()\n",
    "df_2016_hourly = df_2016.resample('H').mean()[:8760]\n",
    "df_2017_hourly = df_2017.resample('H').mean()\n",
    "df_2018_hourly = df_2018.resample('H').mean()"
   ]
  },
  {
   "cell_type": "markdown",
   "metadata": {},
   "source": [
    "## Step 2: Define and calculate the declination for each day\n",
    "\n",
    "The formula for declination is\n",
    "\n",
    "$\\delta = 23.44*\\sin(\\frac{\\pi}{180}\\frac{360}{365}(N+284))$\n",
    "\n",
    "The factor of $\\pi/180$ in the sine argument is necessary because numpy \n",
    "defaults to radians, rather than degrees."
   ]
  },
  {
   "cell_type": "code",
   "execution_count": 15,
   "metadata": {},
   "outputs": [],
   "source": [
    "# define the calculation for declination (delta). \n",
    "delta = lambda x: 23.44*np.sin(np.pi/180*(360/365)*(x+284))"
   ]
  },
  {
   "cell_type": "code",
   "execution_count": 17,
   "metadata": {},
   "outputs": [
    {
     "name": "stdout",
     "output_type": "stream",
     "text": [
      "8760\n"
     ]
    }
   ],
   "source": [
    "# the deltas are still not quite correct, so I'm going to force it to be correct. \n",
    "# This will not be the prettiest of solutions. \n",
    "dec = {'delta':[]}\n",
    "\n",
    "for day in range(1,366):\n",
    "  hourly_dec = []\n",
    "  for hour in range(24):\n",
    "    hourly_dec.append(delta(day))\n",
    "  # print(len(hourly_dec))\n",
    "  dec['delta'].extend(hourly_dec)\n",
    "\n",
    "dec = pd.Series(dec)\n",
    "print(len(dec['delta']))"
   ]
  },
  {
   "cell_type": "code",
   "execution_count": 18,
   "metadata": {},
   "outputs": [],
   "source": [
    "df_2013_hourly['delta'] = dec['delta']\n",
    "df_2014_hourly['delta'] = dec['delta']\n",
    "df_2015_hourly['delta'] = dec['delta'] \n",
    "df_2016_hourly['delta'] = dec['delta']\n",
    "df_2017_hourly['delta'] = dec['delta']\n",
    "df_2018_hourly['delta'] = dec['delta']"
   ]
  },
  {
   "cell_type": "code",
   "execution_count": 19,
   "metadata": {},
   "outputs": [
    {
     "data": {
      "text/html": [
       "<div>\n",
       "<style scoped>\n",
       "    .dataframe tbody tr th:only-of-type {\n",
       "        vertical-align: middle;\n",
       "    }\n",
       "\n",
       "    .dataframe tbody tr th {\n",
       "        vertical-align: top;\n",
       "    }\n",
       "\n",
       "    .dataframe thead th {\n",
       "        text-align: right;\n",
       "    }\n",
       "</style>\n",
       "<table border=\"1\" class=\"dataframe\">\n",
       "  <thead>\n",
       "    <tr style=\"text-align: right;\">\n",
       "      <th></th>\n",
       "      <th>Year</th>\n",
       "      <th>Month</th>\n",
       "      <th>Day</th>\n",
       "      <th>Hour</th>\n",
       "      <th>Minute</th>\n",
       "      <th>DHI</th>\n",
       "      <th>DNI</th>\n",
       "      <th>Temperature</th>\n",
       "      <th>delta</th>\n",
       "    </tr>\n",
       "    <tr>\n",
       "      <th>time</th>\n",
       "      <th></th>\n",
       "      <th></th>\n",
       "      <th></th>\n",
       "      <th></th>\n",
       "      <th></th>\n",
       "      <th></th>\n",
       "      <th></th>\n",
       "      <th></th>\n",
       "      <th></th>\n",
       "    </tr>\n",
       "  </thead>\n",
       "  <tbody>\n",
       "    <tr>\n",
       "      <th>2013-01-01 00:00:00</th>\n",
       "      <td>2013.0</td>\n",
       "      <td>1.0</td>\n",
       "      <td>1.0</td>\n",
       "      <td>0.0</td>\n",
       "      <td>15.0</td>\n",
       "      <td>0.0</td>\n",
       "      <td>0.0</td>\n",
       "      <td>-5.0</td>\n",
       "      <td>-23.001824</td>\n",
       "    </tr>\n",
       "    <tr>\n",
       "      <th>2013-01-01 01:00:00</th>\n",
       "      <td>2013.0</td>\n",
       "      <td>1.0</td>\n",
       "      <td>1.0</td>\n",
       "      <td>1.0</td>\n",
       "      <td>15.0</td>\n",
       "      <td>0.0</td>\n",
       "      <td>0.0</td>\n",
       "      <td>-5.0</td>\n",
       "      <td>-23.001824</td>\n",
       "    </tr>\n",
       "    <tr>\n",
       "      <th>2013-01-01 02:00:00</th>\n",
       "      <td>2013.0</td>\n",
       "      <td>1.0</td>\n",
       "      <td>1.0</td>\n",
       "      <td>2.0</td>\n",
       "      <td>15.0</td>\n",
       "      <td>0.0</td>\n",
       "      <td>0.0</td>\n",
       "      <td>-6.0</td>\n",
       "      <td>-23.001824</td>\n",
       "    </tr>\n",
       "    <tr>\n",
       "      <th>2013-01-01 03:00:00</th>\n",
       "      <td>2013.0</td>\n",
       "      <td>1.0</td>\n",
       "      <td>1.0</td>\n",
       "      <td>3.0</td>\n",
       "      <td>15.0</td>\n",
       "      <td>0.0</td>\n",
       "      <td>0.0</td>\n",
       "      <td>-7.0</td>\n",
       "      <td>-23.001824</td>\n",
       "    </tr>\n",
       "    <tr>\n",
       "      <th>2013-01-01 04:00:00</th>\n",
       "      <td>2013.0</td>\n",
       "      <td>1.0</td>\n",
       "      <td>1.0</td>\n",
       "      <td>4.0</td>\n",
       "      <td>15.0</td>\n",
       "      <td>0.0</td>\n",
       "      <td>0.0</td>\n",
       "      <td>-7.0</td>\n",
       "      <td>-23.001824</td>\n",
       "    </tr>\n",
       "    <tr>\n",
       "      <th>...</th>\n",
       "      <td>...</td>\n",
       "      <td>...</td>\n",
       "      <td>...</td>\n",
       "      <td>...</td>\n",
       "      <td>...</td>\n",
       "      <td>...</td>\n",
       "      <td>...</td>\n",
       "      <td>...</td>\n",
       "      <td>...</td>\n",
       "    </tr>\n",
       "    <tr>\n",
       "      <th>2013-12-31 19:00:00</th>\n",
       "      <td>2013.0</td>\n",
       "      <td>12.0</td>\n",
       "      <td>31.0</td>\n",
       "      <td>19.0</td>\n",
       "      <td>15.0</td>\n",
       "      <td>0.0</td>\n",
       "      <td>0.0</td>\n",
       "      <td>-1.0</td>\n",
       "      <td>-23.076066</td>\n",
       "    </tr>\n",
       "    <tr>\n",
       "      <th>2013-12-31 20:00:00</th>\n",
       "      <td>2013.0</td>\n",
       "      <td>12.0</td>\n",
       "      <td>31.0</td>\n",
       "      <td>20.0</td>\n",
       "      <td>15.0</td>\n",
       "      <td>0.0</td>\n",
       "      <td>0.0</td>\n",
       "      <td>-1.0</td>\n",
       "      <td>-23.076066</td>\n",
       "    </tr>\n",
       "    <tr>\n",
       "      <th>2013-12-31 21:00:00</th>\n",
       "      <td>2013.0</td>\n",
       "      <td>12.0</td>\n",
       "      <td>31.0</td>\n",
       "      <td>21.0</td>\n",
       "      <td>15.0</td>\n",
       "      <td>0.0</td>\n",
       "      <td>0.0</td>\n",
       "      <td>-2.0</td>\n",
       "      <td>-23.076066</td>\n",
       "    </tr>\n",
       "    <tr>\n",
       "      <th>2013-12-31 22:00:00</th>\n",
       "      <td>2013.0</td>\n",
       "      <td>12.0</td>\n",
       "      <td>31.0</td>\n",
       "      <td>22.0</td>\n",
       "      <td>15.0</td>\n",
       "      <td>0.0</td>\n",
       "      <td>0.0</td>\n",
       "      <td>-3.0</td>\n",
       "      <td>-23.076066</td>\n",
       "    </tr>\n",
       "    <tr>\n",
       "      <th>2013-12-31 23:00:00</th>\n",
       "      <td>2013.0</td>\n",
       "      <td>12.0</td>\n",
       "      <td>31.0</td>\n",
       "      <td>23.0</td>\n",
       "      <td>15.0</td>\n",
       "      <td>0.0</td>\n",
       "      <td>0.0</td>\n",
       "      <td>-4.0</td>\n",
       "      <td>-23.076066</td>\n",
       "    </tr>\n",
       "  </tbody>\n",
       "</table>\n",
       "<p>8760 rows × 9 columns</p>\n",
       "</div>"
      ],
      "text/plain": [
       "                       Year  Month   Day  Hour  Minute  DHI  DNI  Temperature  \\\n",
       "time                                                                            \n",
       "2013-01-01 00:00:00  2013.0    1.0   1.0   0.0    15.0  0.0  0.0         -5.0   \n",
       "2013-01-01 01:00:00  2013.0    1.0   1.0   1.0    15.0  0.0  0.0         -5.0   \n",
       "2013-01-01 02:00:00  2013.0    1.0   1.0   2.0    15.0  0.0  0.0         -6.0   \n",
       "2013-01-01 03:00:00  2013.0    1.0   1.0   3.0    15.0  0.0  0.0         -7.0   \n",
       "2013-01-01 04:00:00  2013.0    1.0   1.0   4.0    15.0  0.0  0.0         -7.0   \n",
       "...                     ...    ...   ...   ...     ...  ...  ...          ...   \n",
       "2013-12-31 19:00:00  2013.0   12.0  31.0  19.0    15.0  0.0  0.0         -1.0   \n",
       "2013-12-31 20:00:00  2013.0   12.0  31.0  20.0    15.0  0.0  0.0         -1.0   \n",
       "2013-12-31 21:00:00  2013.0   12.0  31.0  21.0    15.0  0.0  0.0         -2.0   \n",
       "2013-12-31 22:00:00  2013.0   12.0  31.0  22.0    15.0  0.0  0.0         -3.0   \n",
       "2013-12-31 23:00:00  2013.0   12.0  31.0  23.0    15.0  0.0  0.0         -4.0   \n",
       "\n",
       "                         delta  \n",
       "time                            \n",
       "2013-01-01 00:00:00 -23.001824  \n",
       "2013-01-01 01:00:00 -23.001824  \n",
       "2013-01-01 02:00:00 -23.001824  \n",
       "2013-01-01 03:00:00 -23.001824  \n",
       "2013-01-01 04:00:00 -23.001824  \n",
       "...                        ...  \n",
       "2013-12-31 19:00:00 -23.076066  \n",
       "2013-12-31 20:00:00 -23.076066  \n",
       "2013-12-31 21:00:00 -23.076066  \n",
       "2013-12-31 22:00:00 -23.076066  \n",
       "2013-12-31 23:00:00 -23.076066  \n",
       "\n",
       "[8760 rows x 9 columns]"
      ]
     },
     "execution_count": 19,
     "metadata": {},
     "output_type": "execute_result"
    }
   ],
   "source": [
    "df_2013_hourly"
   ]
  },
  {
   "cell_type": "code",
   "execution_count": 20,
   "metadata": {},
   "outputs": [
    {
     "data": {
      "text/plain": [
       "<matplotlib.axes._subplots.AxesSubplot at 0x7faa60dc9f10>"
      ]
     },
     "execution_count": 20,
     "metadata": {},
     "output_type": "execute_result"
    },
    {
     "data": {
      "image/png": "[encoded data removed]",
      "text/plain": [
       "<Figure size 432x288 with 1 Axes>"
      ]
     },
     "metadata": {
      "needs_background": "light"
     },
     "output_type": "display_data"
    }
   ],
   "source": [
    "# verify that delta is correct\n",
    "angle = df_2013_hourly['delta'].resample('D').mean()\n",
    "angle.plot()"
   ]
  },
  {
   "cell_type": "markdown",
   "metadata": {},
   "source": [
    "## Step 3: Calculate the hourly Total Irradiance ($G_T$) and Power (P)\n",
    "\n",
    "This is the model for power output of a solar panel \\\n",
    "$P = G_T\\tau_{pv}\\eta_{ref}A[1-\\gamma(T-25)]$\n",
    "\n",
    "where $G_T$ is given by \\\n",
    "$G_T = DNI*\\cos(\\beta+\\delta-lat)+DHI*\\frac{180-\\beta}{180}$\n",
    "\n",
    "- $\\tau$ is the \"transmittance of the PV module's outside layer\"\n",
    "- $\\gamma$ is the \"temperature coefficient\n",
    "- A is the area covered by the solar panels\n",
    "- $\\eta$ is the PV module efficiency\n",
    "- $\\beta$ is the tilt of the solar panels\n",
    "- T is the temperature (in $^\\circ$C)\n",
    "\n",
    "These formulas were obtained from Garcia et. al. Which can be found at this link\n",
    "https://inldigitallibrary.inl.gov/sites/sti/sti/6531825.pdf \n",
    "\n",
    "The values for $\\gamma$, $\\tau$ and $\\eta$ are not known for the UIUC solar farm, thus values from Garcia et. al are also used. Later, we will normalize the data set and rescale it by the rated power to fix this problem. "
   ]
  },
  {
   "cell_type": "code",
   "execution_count": 21,
   "metadata": {},
   "outputs": [],
   "source": [
    "# approximate coordinates of champaign-urbana\n",
    "lat = 40.13\n",
    "lon = -88.22\n",
    "\n",
    "# these values are from Garcia et. al\n",
    "# Currently, the maximum power output is too high. \n",
    "eta = 0.15\n",
    "tau = 0.9\n",
    "gam = 0.0045 # changed this from 0.0045 to 0.009 to see if I get a more accurate max value.\n",
    "\n",
    "# these values are from the iSEE facts sheet regarding UIUC's solar farm\n",
    "beta = 20\n",
    "A = 84174.61*0.6 # [m^2] or 20.8 acres, but a coverage factor of 60%\n",
    "\n",
    "# define the formulae\n",
    "G = lambda dni, delt, dhi: dni*np.cos((np.pi/180)*(beta + delt - lat)) + dhi*(180-beta)/180\n",
    "P = lambda Gt, T: Gt*tau*eta*A*(1-gam*(T-25))"
   ]
  },
  {
   "cell_type": "code",
   "execution_count": null,
   "metadata": {},
   "outputs": [],
   "source": []
  }
 ],
 "metadata": {
  "kernelspec": {
   "display_name": "Python 3",
   "language": "python",
   "name": "python3"
  },
  "language_info": {
   "codemirror_mode": {
    "name": "ipython",
    "version": 3
   },
   "file_extension": ".py",
   "mimetype": "text/x-python",
   "name": "python",
   "nbconvert_exporter": "python",
   "pygments_lexer": "ipython3",
   "version": "3.7.4"
  }
 },
 "nbformat": 4,
 "nbformat_minor": 2
}
