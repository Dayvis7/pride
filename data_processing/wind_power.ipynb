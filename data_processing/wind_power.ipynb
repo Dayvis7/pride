{
 "cells": [
  {
   "cell_type": "markdown",
   "metadata": {},
   "source": [
    "# Generate Synthetic Time Histories for Wind Power Generation\n",
    "\n",
    "## Background: \n",
    "The University of Illinois has a power purchase agreement with Rail Splitter Wind Farm in Lincoln, IL. \n",
    "\n",
    "* The wind farm has a capacity of 100.5 MW from 67 GE 1.5 MW wind turbines.\n",
    "* UIUC buys 8.6% of power generated at 4 cents/kWh or $\\$4$/MWh\n",
    "* The agreement is for 10 years (2016-2026). \n",
    "* Info about the specific wind turbines is available here: https://en.wind-turbine-models.com/turbines/656-general-electric-ge-1.5xle \n",
    "\n",
    "\n",
    "## About the data\n",
    "\n",
    "The data used in this analysis was obtained from a subdivision of the National Oceanic and Atmospheric Administration (NOAA), National Centers for Environmental Information (NECI). The data was collected by a land-based weather station located at the Lincoln Illinois Airport for the years of 2010-2019. \n",
    "\n",
    "https://www.ncdc.noaa.gov/data-access\n",
    "\n",
    "The data is stored on Box rather than locally. "
   ]
  },
  {
   "cell_type": "markdown",
   "metadata": {},
   "source": [
    "## Set up the Box API to access data"
   ]
  },
  {
   "cell_type": "code",
   "execution_count": 4,
   "metadata": {},
   "outputs": [],
   "source": [
    "%%capture \n",
    "!pip install boxsdk\n",
    "# %%capture captures the output from pip install... comment out if there are installation issues."
   ]
  },
  {
   "cell_type": "code",
   "execution_count": 65,
   "metadata": {},
   "outputs": [],
   "source": [
    "from boxsdk import Client, OAuth2\n",
    "\n",
    "# Defines client ID, secrete, and developer token\n",
    "CLIENT_ID = 'ey8yzp3yxanb3jjujb2s95c1bnouz2o8'\n",
    "CLIENT_SECRET = 'VGGJjHGWfBm0MHq1xIqncxZDolelVIDP'\n",
    "ACCESS_TOKEN = '1vjiMFfmp7icbIr5XKKDwgHhywoQZmgq' # only valid for 60 minutes...?\n",
    "\n",
    "# Creates the client instance\n",
    "oauth2 = OAuth2(CLIENT_ID, CLIENT_SECRET, access_token=ACCESS_TOKEN)\n",
    "\n",
    "client = Client(oauth2)"
   ]
  },
  {
   "cell_type": "code",
   "execution_count": 66,
   "metadata": {},
   "outputs": [],
   "source": [
    "# Folder IDs \n",
    "gridload_id = 92229909420\n",
    "solarfarm_id = 92974470362\n",
    "solarmodel_id = 92182116657\n",
    "steam_id = 92620146668\n",
    "weather_id = 90175362988"
   ]
  },
  {
   "cell_type": "code",
   "execution_count": 67,
   "metadata": {},
   "outputs": [
    {
     "name": "stdout",
     "output_type": "stream",
     "text": [
      "File 555305816779 is named \"cu_weather2010.csv\"\n",
      "File 555299948418 is named \"cu_weather2013.csv\"\n",
      "File 555306577234 is named \"cu_weather2014.csv\"\n",
      "File 555305375271 is named \"cu_weather2015.csv\"\n",
      "File 555306307526 is named \"cu_weather2017.csv\"\n",
      "File 555299962271 is named \"cu_weather2018.csv\"\n",
      "File 578216725033 is named \"lincoln_weather_data.csv\"\n",
      "File 540635643784 is named \"willard_prec.csv\"\n",
      "File 540636908349 is named \"willard_temp.csv\"\n",
      "File 540627539717 is named \"willard_weather_data.csv\"\n"
     ]
    }
   ],
   "source": [
    "weather_folder = client.folder(folder_id=weather_id).get_items()\n",
    "for data in weather_folder:\n",
    "    print('{0} {1} is named \"{2}\"'.format(data.type.capitalize(), data.id, data.name))"
   ]
  },
  {
   "cell_type": "code",
   "execution_count": 75,
   "metadata": {},
   "outputs": [],
   "source": [
    "# Gets the file with the data\n",
    "lincoln_file = client.file(file_id=578216725033)\n",
    "\n",
    "# Import to a pandas dataframe\n",
    "import pandas as pd\n",
    "\n",
    "path = './lincoln_weather.csv'\n",
    "with open(path, 'wb') as file:\n",
    "    lincoln_file.download_to(file)\n",
    "\n",
    "lincoln_wind = pd.read_csv(path, usecols=['HourlyWindSpeed', 'HourlyDryBulbTemperature', \n",
    "                                          'HourlyStationPressure','HourlyRelativeHumidity',\n",
    "                                          'DATE'])\n",
    "\n",
    "# Removes the file from the local directory\n",
    "!rm -rf lincoln_weather.csv"
   ]
  },
  {
   "cell_type": "markdown",
   "metadata": {},
   "source": [
    "## Data Processing"
   ]
  },
  {
   "cell_type": "markdown",
   "metadata": {},
   "source": [
    "### Step 1: Resample by hour"
   ]
  },
  {
   "cell_type": "code",
   "execution_count": 76,
   "metadata": {},
   "outputs": [],
   "source": [
    "# Import necessary libraries\n",
    "import pandas as pd\n",
    "import matplotlib.pyplot as plt\n",
    "import numpy as np\n",
    "from data_funcs import to_float"
   ]
  },
  {
   "cell_type": "code",
   "execution_count": 77,
   "metadata": {},
   "outputs": [],
   "source": [
    "# convert to datetime\n",
    "lincoln_wind.DATE = pd.to_datetime(lincoln_wind.DATE)\n",
    "\n",
    "# rename columns\n",
    "lincoln_wind.rename(columns={'DATE':'time',\n",
    "                             'HourlyDryBulbTemperature': 'temp',\n",
    "                             'HourlyRelativeHumidity':'RH', \n",
    "                             'HourlyStationPressure':'pressure',\n",
    "                             'HourlyWindSpeed': 'u'}, inplace=True)"
   ]
  },
  {
   "cell_type": "code",
   "execution_count": 78,
   "metadata": {},
   "outputs": [],
   "source": [
    "# Verify that the dataframe has float values\n",
    "lincoln_wind = to_float(lincoln_wind, 'temp')\n",
    "lincoln_wind = to_float(lincoln_wind, 'u')\n",
    "lincoln_wind = to_float(lincoln_wind, 'RH')\n",
    "lincoln_wind = to_float(lincoln_wind, 'pressure')\n",
    "\n",
    "lincoln_wind.index = pd.to_datetime(lincoln_wind.time)\n"
   ]
  },
  {
   "cell_type": "code",
   "execution_count": 79,
   "metadata": {},
   "outputs": [
    {
     "data": {
      "text/html": [
       "<div>\n",
       "<style scoped>\n",
       "    .dataframe tbody tr th:only-of-type {\n",
       "        vertical-align: middle;\n",
       "    }\n",
       "\n",
       "    .dataframe tbody tr th {\n",
       "        vertical-align: top;\n",
       "    }\n",
       "\n",
       "    .dataframe thead th {\n",
       "        text-align: right;\n",
       "    }\n",
       "</style>\n",
       "<table border=\"1\" class=\"dataframe\">\n",
       "  <thead>\n",
       "    <tr style=\"text-align: right;\">\n",
       "      <th></th>\n",
       "      <th>temp</th>\n",
       "      <th>RH</th>\n",
       "      <th>pressure</th>\n",
       "      <th>u</th>\n",
       "    </tr>\n",
       "    <tr>\n",
       "      <th>time</th>\n",
       "      <th></th>\n",
       "      <th></th>\n",
       "      <th></th>\n",
       "      <th></th>\n",
       "    </tr>\n",
       "  </thead>\n",
       "  <tbody>\n",
       "    <tr>\n",
       "      <td>2010-12-11 00:00:00</td>\n",
       "      <td>34.333333</td>\n",
       "      <td>90.666667</td>\n",
       "      <td>29.306667</td>\n",
       "      <td>6.000000</td>\n",
       "    </tr>\n",
       "    <tr>\n",
       "      <td>2010-12-11 01:00:00</td>\n",
       "      <td>32.000000</td>\n",
       "      <td>95.333333</td>\n",
       "      <td>29.293333</td>\n",
       "      <td>5.666667</td>\n",
       "    </tr>\n",
       "    <tr>\n",
       "      <td>2010-12-11 02:00:00</td>\n",
       "      <td>33.000000</td>\n",
       "      <td>95.333333</td>\n",
       "      <td>29.283333</td>\n",
       "      <td>8.333333</td>\n",
       "    </tr>\n",
       "    <tr>\n",
       "      <td>2010-12-11 03:00:00</td>\n",
       "      <td>34.000000</td>\n",
       "      <td>91.666667</td>\n",
       "      <td>29.270000</td>\n",
       "      <td>7.666667</td>\n",
       "    </tr>\n",
       "    <tr>\n",
       "      <td>2010-12-11 04:00:00</td>\n",
       "      <td>34.000000</td>\n",
       "      <td>93.000000</td>\n",
       "      <td>29.250000</td>\n",
       "      <td>6.666667</td>\n",
       "    </tr>\n",
       "  </tbody>\n",
       "</table>\n",
       "</div>"
      ],
      "text/plain": [
       "                          temp         RH   pressure         u\n",
       "time                                                          \n",
       "2010-12-11 00:00:00  34.333333  90.666667  29.306667  6.000000\n",
       "2010-12-11 01:00:00  32.000000  95.333333  29.293333  5.666667\n",
       "2010-12-11 02:00:00  33.000000  95.333333  29.283333  8.333333\n",
       "2010-12-11 03:00:00  34.000000  91.666667  29.270000  7.666667\n",
       "2010-12-11 04:00:00  34.000000  93.000000  29.250000  6.666667"
      ]
     },
     "execution_count": 79,
     "metadata": {},
     "output_type": "execute_result"
    }
   ],
   "source": [
    "# resample by hour to get single measurements for each hour\n",
    "lincoln_wind = lincoln_wind.resample('H').mean()\n",
    "\n",
    "lincoln_wind.head(5)"
   ]
  },
  {
   "cell_type": "markdown",
   "metadata": {},
   "source": [
    "## Calculate the Power to Campus\n",
    "\n",
    "This analysis will use the following model from \n",
    ">H. E. Garcia et al., “Nuclear Hybrid Energy Systems Regional Studies: West Texas & Northeastern Arizona,” Idaho National Lab. (INL), Idaho Falls, ID (United States), INL/EXT-15-34503, Apr. 2015.\n",
    "\n",
    "#### Operating Regimes\n",
    "* Above the cut-out and below the cut-in speeds, the turbines produce no power. \n",
    "* Between the rated speed and the cut-out speeds the turbines produce a constant rated power.\n",
    "* Between the cut-in speed and the rated speeds the turbines produce power given by \n",
    "\n",
    "$P = 0.5\\eta\\rho U_h^3\\frac{\\pi d^2}{4} [\\text{W}_e]$\n",
    "\n",
    "_(in Baker et. al they claim this formula gives the value in MW, this appears to be untrue)_\n",
    "\n",
    "where \n",
    "* $\\eta$ is the conversion efficiency (not given for these turbines, so we assume 35%)\n",
    "* $\\rho$ is the density of air at the location (based on temperature)\n",
    "* $d$ is the diameter of the turbine (2 x blade length). \n",
    "\n",
    "\n",
    "The density of air, $\\rho$, can be calculated with the following: \n",
    "\n",
    "$\\rho = \\frac{P_{dry}}{R_{dry}T} + \\frac{P_{vapor}}{R_{vapor}T}$\n",
    "\n",
    "The vapor pressure $P_{vapor}$ can be calculated using the Clausius-Clapeyron Equation which gives the saturation vapor pressure over water.\n",
    "\n",
    "$P_{vapor} = e_s * RH$\n",
    "\n",
    "$e_s = 0.6112e^{\\frac{17.67T}{T+243.5}} [\\text{kPa}]$\n",
    ">Iribarne, J. V., and W. L. Godson 1981. Atmospheric Thermodynamics. D. Reidel, . p. 65.\n",
    "\n",
    "* $T$ : Temperature in $^\\circ C$\n",
    "* $R_{dry}$ : 287.058 J/(kg·K)\n",
    "* $R_{vapor}$ : 461.495 J/(kg·K)\n",
    "* $RH$ : Relative Humidity\n"
   ]
  },
  {
   "cell_type": "code",
   "execution_count": 80,
   "metadata": {},
   "outputs": [
    {
     "data": {
      "text/html": [
       "<div>\n",
       "<style scoped>\n",
       "    .dataframe tbody tr th:only-of-type {\n",
       "        vertical-align: middle;\n",
       "    }\n",
       "\n",
       "    .dataframe tbody tr th {\n",
       "        vertical-align: top;\n",
       "    }\n",
       "\n",
       "    .dataframe thead th {\n",
       "        text-align: right;\n",
       "    }\n",
       "</style>\n",
       "<table border=\"1\" class=\"dataframe\">\n",
       "  <thead>\n",
       "    <tr style=\"text-align: right;\">\n",
       "      <th></th>\n",
       "      <th>temp</th>\n",
       "      <th>RH</th>\n",
       "      <th>pressure</th>\n",
       "      <th>u</th>\n",
       "    </tr>\n",
       "    <tr>\n",
       "      <th>time</th>\n",
       "      <th></th>\n",
       "      <th></th>\n",
       "      <th></th>\n",
       "      <th></th>\n",
       "    </tr>\n",
       "  </thead>\n",
       "  <tbody>\n",
       "    <tr>\n",
       "      <td>2010-12-11 00:00:00</td>\n",
       "      <td>1.296296</td>\n",
       "      <td>90.666667</td>\n",
       "      <td>29.306667</td>\n",
       "      <td>6.000000</td>\n",
       "    </tr>\n",
       "    <tr>\n",
       "      <td>2010-12-11 01:00:00</td>\n",
       "      <td>0.000000</td>\n",
       "      <td>95.333333</td>\n",
       "      <td>29.293333</td>\n",
       "      <td>5.666667</td>\n",
       "    </tr>\n",
       "    <tr>\n",
       "      <td>2010-12-11 02:00:00</td>\n",
       "      <td>0.555556</td>\n",
       "      <td>95.333333</td>\n",
       "      <td>29.283333</td>\n",
       "      <td>8.333333</td>\n",
       "    </tr>\n",
       "    <tr>\n",
       "      <td>2010-12-11 03:00:00</td>\n",
       "      <td>1.111111</td>\n",
       "      <td>91.666667</td>\n",
       "      <td>29.270000</td>\n",
       "      <td>7.666667</td>\n",
       "    </tr>\n",
       "    <tr>\n",
       "      <td>2010-12-11 04:00:00</td>\n",
       "      <td>1.111111</td>\n",
       "      <td>93.000000</td>\n",
       "      <td>29.250000</td>\n",
       "      <td>6.666667</td>\n",
       "    </tr>\n",
       "  </tbody>\n",
       "</table>\n",
       "</div>"
      ],
      "text/plain": [
       "                         temp         RH   pressure         u\n",
       "time                                                         \n",
       "2010-12-11 00:00:00  1.296296  90.666667  29.306667  6.000000\n",
       "2010-12-11 01:00:00  0.000000  95.333333  29.293333  5.666667\n",
       "2010-12-11 02:00:00  0.555556  95.333333  29.283333  8.333333\n",
       "2010-12-11 03:00:00  1.111111  91.666667  29.270000  7.666667\n",
       "2010-12-11 04:00:00  1.111111  93.000000  29.250000  6.666667"
      ]
     },
     "execution_count": 80,
     "metadata": {},
     "output_type": "execute_result"
    }
   ],
   "source": [
    "# convert the temperature to Celsius\n",
    "to_celsius = lambda T : (T-32)*5/9\n",
    "\n",
    "lincoln_wind['temp'] = lincoln_wind['temp'].apply(to_celsius)\n",
    "\n",
    "lincoln_wind.head(5)"
   ]
  },
  {
   "cell_type": "code",
   "execution_count": 84,
   "metadata": {},
   "outputs": [
    {
     "data": {
      "text/html": [
       "<div>\n",
       "<style scoped>\n",
       "    .dataframe tbody tr th:only-of-type {\n",
       "        vertical-align: middle;\n",
       "    }\n",
       "\n",
       "    .dataframe tbody tr th {\n",
       "        vertical-align: top;\n",
       "    }\n",
       "\n",
       "    .dataframe thead th {\n",
       "        text-align: right;\n",
       "    }\n",
       "</style>\n",
       "<table border=\"1\" class=\"dataframe\">\n",
       "  <thead>\n",
       "    <tr style=\"text-align: right;\">\n",
       "      <th></th>\n",
       "      <th>temp</th>\n",
       "      <th>RH</th>\n",
       "      <th>pressure</th>\n",
       "      <th>u</th>\n",
       "      <th>rho</th>\n",
       "    </tr>\n",
       "    <tr>\n",
       "      <th>time</th>\n",
       "      <th></th>\n",
       "      <th></th>\n",
       "      <th></th>\n",
       "      <th></th>\n",
       "      <th></th>\n",
       "    </tr>\n",
       "  </thead>\n",
       "  <tbody>\n",
       "    <tr>\n",
       "      <td>2010-12-11 00:00:00</td>\n",
       "      <td>1.296296</td>\n",
       "      <td>90.666667</td>\n",
       "      <td>99243.763955</td>\n",
       "      <td>6.000000</td>\n",
       "      <td>-0.291581</td>\n",
       "    </tr>\n",
       "    <tr>\n",
       "      <td>2010-12-11 01:00:00</td>\n",
       "      <td>0.000000</td>\n",
       "      <td>95.333333</td>\n",
       "      <td>99198.612107</td>\n",
       "      <td>5.666667</td>\n",
       "      <td>-0.280512</td>\n",
       "    </tr>\n",
       "    <tr>\n",
       "      <td>2010-12-11 02:00:00</td>\n",
       "      <td>0.555556</td>\n",
       "      <td>95.333333</td>\n",
       "      <td>99164.748220</td>\n",
       "      <td>8.333333</td>\n",
       "      <td>-0.291447</td>\n",
       "    </tr>\n",
       "    <tr>\n",
       "      <td>2010-12-11 03:00:00</td>\n",
       "      <td>1.111111</td>\n",
       "      <td>91.666667</td>\n",
       "      <td>99119.596371</td>\n",
       "      <td>7.666667</td>\n",
       "      <td>-0.291096</td>\n",
       "    </tr>\n",
       "    <tr>\n",
       "      <td>2010-12-11 04:00:00</td>\n",
       "      <td>1.111111</td>\n",
       "      <td>93.000000</td>\n",
       "      <td>99051.868597</td>\n",
       "      <td>6.666667</td>\n",
       "      <td>-0.295336</td>\n",
       "    </tr>\n",
       "  </tbody>\n",
       "</table>\n",
       "</div>"
      ],
      "text/plain": [
       "                         temp         RH      pressure         u       rho\n",
       "time                                                                      \n",
       "2010-12-11 00:00:00  1.296296  90.666667  99243.763955  6.000000 -0.291581\n",
       "2010-12-11 01:00:00  0.000000  95.333333  99198.612107  5.666667 -0.280512\n",
       "2010-12-11 02:00:00  0.555556  95.333333  99164.748220  8.333333 -0.291447\n",
       "2010-12-11 03:00:00  1.111111  91.666667  99119.596371  7.666667 -0.291096\n",
       "2010-12-11 04:00:00  1.111111  93.000000  99051.868597  6.666667 -0.295336"
      ]
     },
     "execution_count": 84,
     "metadata": {},
     "output_type": "execute_result"
    }
   ],
   "source": [
    "# convert pressure to Pascals\n",
    "to_pa = lambda P: P*3386.38867\n",
    "\n",
    "lincoln_wind['pressure'] = lincoln_wind['pressure'].apply(to_pa)\n",
    "lincoln_wind.head(5)"
   ]
  },
  {
   "cell_type": "code",
   "execution_count": 87,
   "metadata": {},
   "outputs": [
    {
     "data": {
      "text/html": [
       "<div>\n",
       "<style scoped>\n",
       "    .dataframe tbody tr th:only-of-type {\n",
       "        vertical-align: middle;\n",
       "    }\n",
       "\n",
       "    .dataframe tbody tr th {\n",
       "        vertical-align: top;\n",
       "    }\n",
       "\n",
       "    .dataframe thead th {\n",
       "        text-align: right;\n",
       "    }\n",
       "</style>\n",
       "<table border=\"1\" class=\"dataframe\">\n",
       "  <thead>\n",
       "    <tr style=\"text-align: right;\">\n",
       "      <th></th>\n",
       "      <th>temp</th>\n",
       "      <th>RH</th>\n",
       "      <th>pressure</th>\n",
       "      <th>u</th>\n",
       "      <th>rho</th>\n",
       "    </tr>\n",
       "    <tr>\n",
       "      <th>time</th>\n",
       "      <th></th>\n",
       "      <th></th>\n",
       "      <th></th>\n",
       "      <th></th>\n",
       "      <th></th>\n",
       "    </tr>\n",
       "  </thead>\n",
       "  <tbody>\n",
       "    <tr>\n",
       "      <td>2010-12-11 00:00:00</td>\n",
       "      <td>1.296296</td>\n",
       "      <td>90.666667</td>\n",
       "      <td>99243.763955</td>\n",
       "      <td>6.000000</td>\n",
       "      <td>1.256807</td>\n",
       "    </tr>\n",
       "    <tr>\n",
       "      <td>2010-12-11 01:00:00</td>\n",
       "      <td>0.000000</td>\n",
       "      <td>95.333333</td>\n",
       "      <td>99198.612107</td>\n",
       "      <td>5.666667</td>\n",
       "      <td>1.262320</td>\n",
       "    </tr>\n",
       "    <tr>\n",
       "      <td>2010-12-11 02:00:00</td>\n",
       "      <td>0.555556</td>\n",
       "      <td>95.333333</td>\n",
       "      <td>99164.748220</td>\n",
       "      <td>8.333333</td>\n",
       "      <td>1.259212</td>\n",
       "    </tr>\n",
       "    <tr>\n",
       "      <td>2010-12-11 03:00:00</td>\n",
       "      <td>1.111111</td>\n",
       "      <td>91.666667</td>\n",
       "      <td>99119.596371</td>\n",
       "      <td>7.666667</td>\n",
       "      <td>1.256085</td>\n",
       "    </tr>\n",
       "    <tr>\n",
       "      <td>2010-12-11 04:00:00</td>\n",
       "      <td>1.111111</td>\n",
       "      <td>93.000000</td>\n",
       "      <td>99051.868597</td>\n",
       "      <td>6.666667</td>\n",
       "      <td>1.255182</td>\n",
       "    </tr>\n",
       "  </tbody>\n",
       "</table>\n",
       "</div>"
      ],
      "text/plain": [
       "                         temp         RH      pressure         u       rho\n",
       "time                                                                      \n",
       "2010-12-11 00:00:00  1.296296  90.666667  99243.763955  6.000000  1.256807\n",
       "2010-12-11 01:00:00  0.000000  95.333333  99198.612107  5.666667  1.262320\n",
       "2010-12-11 02:00:00  0.555556  95.333333  99164.748220  8.333333  1.259212\n",
       "2010-12-11 03:00:00  1.111111  91.666667  99119.596371  7.666667  1.256085\n",
       "2010-12-11 04:00:00  1.111111  93.000000  99051.868597  6.666667  1.255182"
      ]
     },
     "execution_count": 87,
     "metadata": {},
     "output_type": "execute_result"
    }
   ],
   "source": [
    "# calculate air density\n",
    "\n",
    "# define constants\n",
    "Rv = 461.495\n",
    "Rd = 287.058\n",
    "\n",
    "# define functions\n",
    "es = lambda T: 611.2*np.exp(17.67*T/(T+243.5)) # saturation vapor pressure over water\n",
    "rho = lambda T, P, Rh, Pv: (es(T)*(Rh/100))/(Rv*(T+273.15))+(P-(es(T)*(Rh/100)))/(Rd*(T+273.15)) # density of air \n",
    "\n",
    "\n",
    "density = {'rho':[]}\n",
    "for i in range(len(lincoln_wind)):\n",
    "    T = lincoln_wind.iloc[i]['temp']\n",
    "    P = lincoln_wind.iloc[i]['pressure']\n",
    "    Rh = lincoln_wind.iloc[i]['RH']\n",
    "    Pv = es(T)\n",
    "    density['rho'].append(rho(T, P, Rh, Pv))\n",
    "lincoln_wind['rho'] = density['rho']\n",
    "\n",
    "lincoln_wind.head(5)"
   ]
  },
  {
   "cell_type": "code",
   "execution_count": 89,
   "metadata": {},
   "outputs": [],
   "source": [
    "# convert windspeed to m/s\n",
    "\n",
    "to_ms = lambda u: u/2.237\n",
    "lincoln_wind['u'] = lincoln_wind['u'].apply(to_ms)"
   ]
  },
  {
   "cell_type": "code",
   "execution_count": 115,
   "metadata": {},
   "outputs": [],
   "source": [
    "# calculate the power generated\n",
    "\n",
    "# define constants\n",
    "N = 67 # the number of wind turbines\n",
    "d = 82.5 # [m]\n",
    "u_in = 3.5 # [m/s]\n",
    "u_out = 20.0 # [m/s]\n",
    "u_ideal = 11.5\n",
    "eta = 0.3 # efficiency\n",
    "ppa = 0.086 # the percentage of purchased power.\n",
    "pmax = 1.5 # [MW], the rated power for a single turbine\n",
    "\n",
    "P = lambda U, rho: N*ppa*0.5*eta*rho*(U**3)*(np.pi*d**2/4)/1e6\n",
    "\n",
    "# calculate all values of power\n",
    "power = []\n",
    "for i in range(len(lincoln_wind)):\n",
    "    U = lincoln_wind.iloc[i]['u']\n",
    "    rho = lincoln_wind.iloc[i]['rho']\n",
    "    power.append(P(U, rho))\n",
    "lincoln_wind['power'] = power"
   ]
  },
  {
   "cell_type": "code",
   "execution_count": 116,
   "metadata": {},
   "outputs": [],
   "source": [
    "# fix based on cut in and cut out speeds\n",
    "zero = (lincoln_wind.u <= u_in) | (lincoln_wind.u >= u_out)\n",
    "peak = (lincoln_wind.u > u_ideal) & (lincoln_wind.u < u_out)\n",
    "\n",
    "lincoln_wind['power'].mask(zero, 0, inplace=True)\n",
    "lincoln_wind['power'].mask(peak, N*ppa*pmax, inplace=True)"
   ]
  },
  {
   "cell_type": "markdown",
   "metadata": {},
   "source": [
    "$\\eta$ was given in Baker et. al and Garcia et. al as 0.35, corresponding to a 35% conversion efficiency. This was too high the the turbines at the Rail Splitter farm because it exceeded the rated power of the individual turbines. _Try it yourself by changing eta to 0.35_.\n",
    "\n",
    "The efficiency for UIUC's particular case is closer to 30% "
   ]
  },
  {
   "cell_type": "code",
   "execution_count": 118,
   "metadata": {},
   "outputs": [
    {
     "data": {
      "image/png": "[encoded data removed]",
      "text/plain": [
       "<Figure size 432x288 with 1 Axes>"
      ]
     },
     "metadata": {
      "needs_background": "light"
     },
     "output_type": "display_data"
    }
   ],
   "source": [
    "lincoln_wind.plot(kind='scatter', x='u', y='power', lw=0.25)\n",
    "plt.show()"
   ]
  },
  {
   "cell_type": "code",
   "execution_count": 103,
   "metadata": {},
   "outputs": [
    {
     "data": {
      "text/plain": [
       "[<matplotlib.lines.Line2D at 0x7fc268941c88>]"
      ]
     },
     "execution_count": 103,
     "metadata": {},
     "output_type": "execute_result"
    },
    {
     "data": {
      "image/png": "[encoded data removed]",
      "text/plain": [
       "<Figure size 432x288 with 1 Axes>"
      ]
     },
     "metadata": {
      "needs_background": "light"
     },
     "output_type": "display_data"
    }
   ],
   "source": [
    "u = np.linspace(0, 30, 1000)\n",
    "rho = 1.17\n",
    "n = 0.35\n",
    "d = 90\n",
    "pwr = lambda U: 0.5*n*rho*U**3*(np.pi*d**2/4)/1e6\n",
    "pw = [pwr(s) if s < 14 else 3.6 for s in u]\n",
    "plt.plot(u, pw)"
   ]
  },
  {
   "cell_type": "markdown",
   "metadata": {},
   "source": [
    "### Step 2: Group by year"
   ]
  },
  {
   "cell_type": "code",
   "execution_count": 35,
   "metadata": {},
   "outputs": [],
   "source": [
    "grouped = lincoln_wind.groupby(lincoln_wind.index.year)\n",
    "df11 = grouped.get_group(2011)\n",
    "df12 = grouped.get_group(2012)\n",
    "df13 = grouped.get_group(2013)\n",
    "df14 = grouped.get_group(2014)\n",
    "df15 = grouped.get_group(2015)\n",
    "df16 = grouped.get_group(2016)\n",
    "df17 = grouped.get_group(2017)\n",
    "df18 = grouped.get_group(2018)"
   ]
  },
  {
   "cell_type": "code",
   "execution_count": 36,
   "metadata": {},
   "outputs": [
    {
     "data": {
      "text/html": [
       "<div>\n",
       "<style scoped>\n",
       "    .dataframe tbody tr th:only-of-type {\n",
       "        vertical-align: middle;\n",
       "    }\n",
       "\n",
       "    .dataframe tbody tr th {\n",
       "        vertical-align: top;\n",
       "    }\n",
       "\n",
       "    .dataframe thead th {\n",
       "        text-align: right;\n",
       "    }\n",
       "</style>\n",
       "<table border=\"1\" class=\"dataframe\">\n",
       "  <thead>\n",
       "    <tr style=\"text-align: right;\">\n",
       "      <th></th>\n",
       "      <th>HourlyWindSpeed</th>\n",
       "    </tr>\n",
       "    <tr>\n",
       "      <th>DATE</th>\n",
       "      <th></th>\n",
       "    </tr>\n",
       "  </thead>\n",
       "  <tbody>\n",
       "    <tr>\n",
       "      <td>2011-01-01 00:00:00</td>\n",
       "      <td>9.333333</td>\n",
       "    </tr>\n",
       "    <tr>\n",
       "      <td>2011-01-01 01:00:00</td>\n",
       "      <td>8.000000</td>\n",
       "    </tr>\n",
       "    <tr>\n",
       "      <td>2011-01-01 02:00:00</td>\n",
       "      <td>5.666667</td>\n",
       "    </tr>\n",
       "    <tr>\n",
       "      <td>2011-01-01 03:00:00</td>\n",
       "      <td>8.666667</td>\n",
       "    </tr>\n",
       "    <tr>\n",
       "      <td>2011-01-01 04:00:00</td>\n",
       "      <td>8.666667</td>\n",
       "    </tr>\n",
       "  </tbody>\n",
       "</table>\n",
       "</div>"
      ],
      "text/plain": [
       "                     HourlyWindSpeed\n",
       "DATE                                \n",
       "2011-01-01 00:00:00         9.333333\n",
       "2011-01-01 01:00:00         8.000000\n",
       "2011-01-01 02:00:00         5.666667\n",
       "2011-01-01 03:00:00         8.666667\n",
       "2011-01-01 04:00:00         8.666667"
      ]
     },
     "execution_count": 36,
     "metadata": {},
     "output_type": "execute_result"
    }
   ],
   "source": [
    "df11.head(5)"
   ]
  },
  {
   "cell_type": "code",
   "execution_count": 41,
   "metadata": {},
   "outputs": [
    {
     "data": {
      "text/plain": [
       "<matplotlib.axes._subplots.AxesSubplot at 0x7fc269062ac8>"
      ]
     },
     "execution_count": 41,
     "metadata": {},
     "output_type": "execute_result"
    },
    {
     "data": {
      "image/png": "[encoded data removed]",
      "text/plain": [
       "<Figure size 432x288 with 1 Axes>"
      ]
     },
     "metadata": {
      "needs_background": "light"
     },
     "output_type": "display_data"
    }
   ],
   "source": [
    "df13.plot()"
   ]
  },
  {
   "cell_type": "code",
   "execution_count": null,
   "metadata": {},
   "outputs": [],
   "source": []
  }
 ],
 "metadata": {
  "kernelspec": {
   "display_name": "Python 3",
   "language": "python",
   "name": "python3"
  },
  "language_info": {
   "codemirror_mode": {
    "name": "ipython",
    "version": 3
   },
   "file_extension": ".py",
   "mimetype": "text/x-python",
   "name": "python",
   "nbconvert_exporter": "python",
   "pygments_lexer": "ipython3",
   "version": "3.6.9"
  }
 },
 "nbformat": 4,
 "nbformat_minor": 2
}
