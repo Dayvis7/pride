{
 "cells": [
  {
   "cell_type": "markdown",
   "metadata": {},
   "source": [
    "# Generate Synthetic Time Histories for Wind Power Generation\n",
    "\n",
    "## Background: \n",
    "The University of Illinois has a power purchase agreement with Rail Splitter Wind Farm in Lincoln, IL. \n",
    "\n",
    "* The wind farm has a capacity of 100.5 MW from 67 GE 1.5 MW wind turbines.\n",
    "* UIUC buys 8.6% of power generated at 4 cents/kWh or $\\$4$/MWh\n",
    "* The agreement is for 10 years (2016-2026). \n",
    "* Info about the specific wind turbines is available here: https://en.wind-turbine-models.com/turbines/656-general-electric-ge-1.5xle \n",
    "\n",
    "\n",
    "## About the data\n",
    "\n",
    "The data used in this analysis was obtained from a subdivision of the National Oceanic and Atmospheric Administration (NOAA), National Centers for Environmental Information (NECI). The data was collected by a land-based weather station located at the Lincoln Illinois Airport for the years of 2010-2019. \n",
    "\n",
    "https://www.ncdc.noaa.gov/data-access\n",
    "\n",
    "The data is stored on Box rather than locally. "
   ]
  },
  {
   "cell_type": "markdown",
   "metadata": {},
   "source": [
    "## Set up the Box API to access data\n",
    "\n",
    "These cells with Box API commands have been converted to raw text so they won't accidentally be run. To convert back to runnable cells: \n",
    "\n",
    "``enter`` (enters command mode)\n",
    "\n",
    "``y`` (converts selected cell to code)"
   ]
  },
  {
   "cell_type": "code",
   "execution_count": null,
   "metadata": {},
   "outputs": [],
   "source": [
    "%%capture \n",
    "!pip install boxsdk\n",
    "# %%capture captures the output from pip install... comment out if there are installation issues."
   ]
  },
  {
   "cell_type": "code",
   "execution_count": 155,
   "metadata": {},
   "outputs": [],
   "source": [
    "from boxsdk import Client, OAuth2\n",
    "\n",
    "# Defines client ID, secrete, and developer token\n",
    "CLIENT_ID = 'ey8yzp3yxanb3jjujb2s95c1bnouz2o8'\n",
    "CLIENT_SECRET = 'VGGJjHGWfBm0MHq1xIqncxZDolelVIDP'\n",
    "ACCESS_TOKEN = '2ynLOLzkklaE2TaQw8ql6ysiK9mH9awl' # only valid for 60 minutes...?\n",
    "\n",
    "# Creates the client instance\n",
    "oauth2 = OAuth2(CLIENT_ID, CLIENT_SECRET, access_token=ACCESS_TOKEN)\n",
    "\n",
    "client = Client(oauth2)"
   ]
  },
  {
   "cell_type": "code",
   "execution_count": 156,
   "metadata": {},
   "outputs": [],
   "source": [
    "# Folder IDs \n",
    "gridload_id = 92229909420\n",
    "solarfarm_id = 92974470362\n",
    "solarmodel_id = 92182116657\n",
    "steam_id = 92620146668\n",
    "weather_id = 90175362988"
   ]
  },
  {
   "cell_type": "raw",
   "metadata": {},
   "source": [
    "weather_folder = client.folder(folder_id=weather_id).get_items()\n",
    "for data in weather_folder:\n",
    "    print('{0} {1} is named \"{2}\"'.format(data.type.capitalize(), data.id, data.name))"
   ]
  },
  {
   "cell_type": "markdown",
   "metadata": {},
   "source": [
    "#### A better way to obtain the data... \n",
    "Since there is a specific file in Box that I am manipulating here, why not try using ``$curl`` with a shared link?\n",
    "\n",
    "First attempt: nothing downloaded.\n",
    "\n",
    "Solution: add ``-L`` flag to force the download by following redirects.\n",
    "\n",
    "This downloads the links... not the data. Not sure how to resolve at this point. It takes about 30 seconds to obtain a new developer key from box. But I want to be able to run this notebook without that (open source, right?) and I'm not sure how at this point (12/18/2019). "
   ]
  },
  {
   "cell_type": "raw",
   "metadata": {},
   "source": [
    "!rm -rf lincoln_weather.csv\n",
    "\n",
    "# where the data will be downloaded\n",
    "path = './lincoln_weather.csv'\n",
    "\n",
    "# downloads the data\n",
    "!curl -X GET https://uofi.box.com/s/3b4498ua7fziof4ex3fu75zfcvio0h1l --output lincoln_weather.csv \\\n",
    "    -H \"Authorization: BoxAuth api_key=API_KEY&auth_token=AUTH_TOKEN\"\n",
    "\n",
    "# read data as pandas dataframe\n",
    "import pandas as pd\n",
    "lincoln_wind = pd.read_csv(path, usecols=['HourlyWindSpeed', 'HourlyDryBulbTemperature', \n",
    "                                          'HourlyStationPressure','HourlyRelativeHumidity',\n",
    "                                          'DATE'])\n",
    "\n",
    "# Removes the file from the local directory\n",
    "!rm -rf lincoln_weather.csv"
   ]
  },
  {
   "cell_type": "code",
   "execution_count": 157,
   "metadata": {},
   "outputs": [
    {
     "name": "stderr",
     "output_type": "stream",
     "text": [
      "/home/dotson/anaconda3/lib/python3.6/site-packages/IPython/core/interactiveshell.py:3058: DtypeWarning: Columns (43,51,56) have mixed types. Specify dtype option on import or set low_memory=False.\n",
      "  interactivity=interactivity, compiler=compiler, result=result)\n"
     ]
    }
   ],
   "source": [
    "# convert to runnable cell by going to command mode --> y\n",
    "# Gets the file with the data\n",
    "lincoln_file = client.file(file_id=578216725033)\n",
    "\n",
    "# Import to a pandas dataframe\n",
    "import pandas as pd\n",
    "\n",
    "path = './lincoln_weather.csv'\n",
    "with open(path, 'wb') as file:\n",
    "    lincoln_file.download_to(file)\n",
    "\n",
    "lincoln_wind = pd.read_csv(path, usecols=['HourlyWindSpeed', 'HourlyDryBulbTemperature', \n",
    "                                          'HourlyStationPressure','HourlyRelativeHumidity',\n",
    "                                          'DATE'])\n",
    "\n",
    "# Removes the file from the local directory\n",
    "!rm -rf lincoln_weather.csv"
   ]
  },
  {
   "cell_type": "markdown",
   "metadata": {},
   "source": [
    "## Data Processing"
   ]
  },
  {
   "cell_type": "markdown",
   "metadata": {},
   "source": [
    "### Step 1: Resample by hour"
   ]
  },
  {
   "cell_type": "code",
   "execution_count": 158,
   "metadata": {},
   "outputs": [],
   "source": [
    "# Import necessary libraries\n",
    "import pandas as pd\n",
    "import matplotlib.pyplot as plt\n",
    "import numpy as np\n",
    "from data_funcs import to_float"
   ]
  },
  {
   "cell_type": "code",
   "execution_count": 159,
   "metadata": {},
   "outputs": [],
   "source": [
    "# convert to datetime\n",
    "lincoln_wind.DATE = pd.to_datetime(lincoln_wind.DATE)\n",
    "\n",
    "# rename columns\n",
    "lincoln_wind.rename(columns={'DATE':'time',\n",
    "                             'HourlyDryBulbTemperature': 'temp',\n",
    "                             'HourlyRelativeHumidity':'RH', \n",
    "                             'HourlyStationPressure':'pressure',\n",
    "                             'HourlyWindSpeed': 'u'}, inplace=True)"
   ]
  },
  {
   "cell_type": "code",
   "execution_count": 160,
   "metadata": {},
   "outputs": [],
   "source": [
    "# Verify that the dataframe has float values\n",
    "lincoln_wind = to_float(lincoln_wind, 'temp')\n",
    "lincoln_wind = to_float(lincoln_wind, 'u')\n",
    "lincoln_wind = to_float(lincoln_wind, 'RH')\n",
    "lincoln_wind = to_float(lincoln_wind, 'pressure')\n",
    "\n",
    "lincoln_wind.index = pd.to_datetime(lincoln_wind.time)\n"
   ]
  },
  {
   "cell_type": "code",
   "execution_count": 161,
   "metadata": {},
   "outputs": [],
   "source": [
    "# resample by hour to get single measurements for each hour\n",
    "lincoln_wind = lincoln_wind.resample('H').mean()"
   ]
  },
  {
   "cell_type": "markdown",
   "metadata": {},
   "source": [
    "## Calculate the Power to Campus\n",
    "\n",
    "This analysis will use the following model from \n",
    ">H. E. Garcia et al., “Nuclear Hybrid Energy Systems Regional Studies: West Texas & Northeastern Arizona,” Idaho National Lab. (INL), Idaho Falls, ID (United States), INL/EXT-15-34503, Apr. 2015.\n",
    "\n",
    "#### Operating Regimes\n",
    "* Above the cut-out and below the cut-in speeds, the turbines produce no power. \n",
    "* Between the rated speed and the cut-out speeds the turbines produce a constant rated power.\n",
    "* Between the cut-in speed and the rated speeds the turbines produce power given by \n",
    "\n",
    "$P = 0.5\\eta\\rho U_h^3\\frac{\\pi d^2}{4} [\\text{W}_e]$\n",
    "\n",
    "_(in Baker et. al they claim this formula gives the value in MW, this appears to be untrue)_\n",
    "\n",
    "where \n",
    "* $\\eta$ is the conversion efficiency (not given for these turbines, so we assume 35%)\n",
    "* $\\rho$ is the density of air at the location (based on temperature)\n",
    "* $d$ is the diameter of the turbine (2 x blade length). \n",
    "\n",
    "\n",
    "The density of air, $\\rho$, can be calculated with the following: \n",
    "\n",
    "$\\rho = \\frac{P_{dry}}{R_{dry}T} + \\frac{P_{vapor}}{R_{vapor}T}$\n",
    "\n",
    "The vapor pressure $P_{vapor}$ can be calculated using the Clausius-Clapeyron Equation which gives the saturation vapor pressure over water.\n",
    "\n",
    "$P_{vapor} = e_s * RH$\n",
    "\n",
    "$e_s = 0.6112e^{\\frac{17.67T}{T+243.5}} [\\text{kPa}]$\n",
    ">Iribarne, J. V., and W. L. Godson 1981. Atmospheric Thermodynamics. D. Reidel, . p. 65.\n",
    "\n",
    "* $T$ : Temperature in $^\\circ C$\n",
    "* $R_{dry}$ : 287.058 J/(kg·K)\n",
    "* $R_{vapor}$ : 461.495 J/(kg·K)\n",
    "* $RH$ : Relative Humidity\n"
   ]
  },
  {
   "cell_type": "code",
   "execution_count": 162,
   "metadata": {},
   "outputs": [],
   "source": [
    "# convert the temperature to Celsius\n",
    "to_celsius = lambda T : (T-32)*5/9\n",
    "\n",
    "lincoln_wind['temp'] = lincoln_wind['temp'].apply(to_celsius)"
   ]
  },
  {
   "cell_type": "code",
   "execution_count": 163,
   "metadata": {},
   "outputs": [],
   "source": [
    "# convert pressure to Pascals\n",
    "to_pa = lambda P: P*3386.38867\n",
    "\n",
    "lincoln_wind['pressure'] = lincoln_wind['pressure'].apply(to_pa)"
   ]
  },
  {
   "cell_type": "code",
   "execution_count": 164,
   "metadata": {},
   "outputs": [],
   "source": [
    "# calculate air density in g/m^3\n",
    "\n",
    "# define constants\n",
    "Rv = 461.495\n",
    "Rd = 287.058\n",
    "\n",
    "# define functions\n",
    "es = lambda T: 611.2*np.exp(17.67*T/(T+243.5)) # saturation vapor pressure over water\n",
    "rho = lambda T, P, Rh, Pv: (es(T)*(Rh/100))/(Rv*(T+273.15))+(P-(es(T)*(Rh/100)))/(Rd*(T+273.15)) # density of air \n",
    "\n",
    "\n",
    "density = {'rho':[]}\n",
    "for i in range(len(lincoln_wind)):\n",
    "    T = lincoln_wind.iloc[i]['temp']\n",
    "    P = lincoln_wind.iloc[i]['pressure']\n",
    "    Rh = lincoln_wind.iloc[i]['RH']\n",
    "    Pv = es(T)\n",
    "    density['rho'].append(rho(T, P, Rh, Pv))\n",
    "lincoln_wind['rho'] = density['rho']\n",
    "\n",
    "# lincoln_wind.head(5)"
   ]
  },
  {
   "cell_type": "code",
   "execution_count": 165,
   "metadata": {},
   "outputs": [],
   "source": [
    "# convert windspeed to m/s from mph\n",
    "\n",
    "to_ms = lambda u: u/2.237\n",
    "lincoln_wind['u'] = lincoln_wind['u'].apply(to_ms)"
   ]
  },
  {
   "cell_type": "code",
   "execution_count": 143,
   "metadata": {},
   "outputs": [],
   "source": [
    "# calculate the power generated\n",
    "\n",
    "# define constants\n",
    "N = 67 # the number of wind turbines\n",
    "d = 82.5 # [m]\n",
    "u_in = 3.5 # [m/s]\n",
    "u_out = 20.0 # [m/s]\n",
    "u_ideal = 11.5 # [m/s]\n",
    "eta = 0.3 # efficiency\n",
    "ppa = 0.086 # the percentage of purchased power.\n",
    "pmax = 1.5 # [MW], the rated power for a single turbine\n",
    "\n",
    "P = lambda U, rho: N*0.5*eta*rho*(U**3)*(np.pi*d**2/4) # this is in kW\n",
    "\n",
    "# calculate all values of power\n",
    "power = []\n",
    "for i in range(len(lincoln_wind)):\n",
    "    U = lincoln_wind.iloc[i]['u']\n",
    "    rho = lincoln_wind.iloc[i]['rho']\n",
    "    power.append(P(U, rho))\n",
    "lincoln_wind['power'] = power\n",
    "\n",
    "# fix based on cut in and cut out speeds\n",
    "zero = (lincoln_wind.u <= u_in) | (lincoln_wind.u >= u_out)\n",
    "peak = (lincoln_wind.u > u_ideal) & (lincoln_wind.u < u_out)\n",
    "\n",
    "lincoln_wind['power'].mask(zero, 0, inplace=True)\n",
    "lincoln_wind['power'].mask(peak, N*pmax*1e6, inplace=True)"
   ]
  },
  {
   "cell_type": "markdown",
   "metadata": {},
   "source": [
    "### Solving the Units Problem\n",
    "\n",
    "The model given by Baker et. al is supposedly in MWe. However the results from this do not produce values similar to the values stated by Rail Splitter. \n",
    "\n",
    "\n",
    "Rail Splitter's Claim:\n",
    ">In November 2016, the campus received nearly 2400 MWh based on actual wind farm speeds.\n",
    "\n",
    "Let's nail this down by isolating the wind speed data from November 2016"
   ]
  },
  {
   "cell_type": "code",
   "execution_count": 166,
   "metadata": {},
   "outputs": [
    {
     "name": "stdout",
     "output_type": "stream",
     "text": [
      "The data frame is missing values: True\n",
      "The data frame is missing values: False\n"
     ]
    }
   ],
   "source": [
    "# check if there are NaN values\n",
    "print(\"The data frame is missing values:\", lincoln_wind.isnull().values.any())\n",
    "\n",
    "# interpolate\n",
    "lincoln_interp = lincoln_wind.interpolate(method='linear')\n",
    "\n",
    "# check if there are NaN values\n",
    "print(\"The data frame is missing values:\", lincoln_interp.isnull().values.any())"
   ]
  },
  {
   "cell_type": "code",
   "execution_count": 167,
   "metadata": {},
   "outputs": [
    {
     "data": {
      "text/html": [
       "<div>\n",
       "<style scoped>\n",
       "    .dataframe tbody tr th:only-of-type {\n",
       "        vertical-align: middle;\n",
       "    }\n",
       "\n",
       "    .dataframe tbody tr th {\n",
       "        vertical-align: top;\n",
       "    }\n",
       "\n",
       "    .dataframe thead th {\n",
       "        text-align: right;\n",
       "    }\n",
       "</style>\n",
       "<table border=\"1\" class=\"dataframe\">\n",
       "  <thead>\n",
       "    <tr style=\"text-align: right;\">\n",
       "      <th></th>\n",
       "      <th>temp</th>\n",
       "      <th>RH</th>\n",
       "      <th>pressure</th>\n",
       "      <th>u</th>\n",
       "      <th>rho</th>\n",
       "    </tr>\n",
       "    <tr>\n",
       "      <th>time</th>\n",
       "      <th></th>\n",
       "      <th></th>\n",
       "      <th></th>\n",
       "      <th></th>\n",
       "      <th></th>\n",
       "    </tr>\n",
       "  </thead>\n",
       "  <tbody>\n",
       "    <tr>\n",
       "      <td>2016-11-01 00:00:00</td>\n",
       "      <td>17.222222</td>\n",
       "      <td>93.333333</td>\n",
       "      <td>99018.004711</td>\n",
       "      <td>3.725227</td>\n",
       "      <td>1.179615</td>\n",
       "    </tr>\n",
       "    <tr>\n",
       "      <td>2016-11-01 01:00:00</td>\n",
       "      <td>17.222222</td>\n",
       "      <td>92.666667</td>\n",
       "      <td>99074.444522</td>\n",
       "      <td>3.576218</td>\n",
       "      <td>1.180351</td>\n",
       "    </tr>\n",
       "    <tr>\n",
       "      <td>2016-11-01 02:00:00</td>\n",
       "      <td>17.592593</td>\n",
       "      <td>91.000000</td>\n",
       "      <td>99051.868597</td>\n",
       "      <td>4.023245</td>\n",
       "      <td>1.178534</td>\n",
       "    </tr>\n",
       "    <tr>\n",
       "      <td>2016-11-01 03:00:00</td>\n",
       "      <td>18.148148</td>\n",
       "      <td>88.666667</td>\n",
       "      <td>99040.580635</td>\n",
       "      <td>3.576218</td>\n",
       "      <td>1.176076</td>\n",
       "    </tr>\n",
       "    <tr>\n",
       "      <td>2016-11-01 04:00:00</td>\n",
       "      <td>17.777778</td>\n",
       "      <td>87.666667</td>\n",
       "      <td>99051.868597</td>\n",
       "      <td>3.129191</td>\n",
       "      <td>1.177993</td>\n",
       "    </tr>\n",
       "    <tr>\n",
       "      <td>...</td>\n",
       "      <td>...</td>\n",
       "      <td>...</td>\n",
       "      <td>...</td>\n",
       "      <td>...</td>\n",
       "      <td>...</td>\n",
       "    </tr>\n",
       "    <tr>\n",
       "      <td>2016-11-30 19:00:00</td>\n",
       "      <td>3.518519</td>\n",
       "      <td>71.000000</td>\n",
       "      <td>98574.011530</td>\n",
       "      <td>2.831173</td>\n",
       "      <td>1.239513</td>\n",
       "    </tr>\n",
       "    <tr>\n",
       "      <td>2016-11-30 20:00:00</td>\n",
       "      <td>3.333333</td>\n",
       "      <td>70.333333</td>\n",
       "      <td>98617.282052</td>\n",
       "      <td>3.874236</td>\n",
       "      <td>1.240634</td>\n",
       "    </tr>\n",
       "    <tr>\n",
       "      <td>2016-11-30 21:00:00</td>\n",
       "      <td>3.333333</td>\n",
       "      <td>70.666667</td>\n",
       "      <td>98660.552573</td>\n",
       "      <td>2.682164</td>\n",
       "      <td>1.241756</td>\n",
       "    </tr>\n",
       "    <tr>\n",
       "      <td>2016-11-30 22:00:00</td>\n",
       "      <td>3.333333</td>\n",
       "      <td>71.666667</td>\n",
       "      <td>98703.823095</td>\n",
       "      <td>2.831173</td>\n",
       "      <td>1.242877</td>\n",
       "    </tr>\n",
       "    <tr>\n",
       "      <td>2016-11-30 23:00:00</td>\n",
       "      <td>2.777778</td>\n",
       "      <td>75.666667</td>\n",
       "      <td>98747.093617</td>\n",
       "      <td>2.831173</td>\n",
       "      <td>1.243999</td>\n",
       "    </tr>\n",
       "  </tbody>\n",
       "</table>\n",
       "<p>720 rows × 5 columns</p>\n",
       "</div>"
      ],
      "text/plain": [
       "                          temp         RH      pressure         u       rho\n",
       "time                                                                       \n",
       "2016-11-01 00:00:00  17.222222  93.333333  99018.004711  3.725227  1.179615\n",
       "2016-11-01 01:00:00  17.222222  92.666667  99074.444522  3.576218  1.180351\n",
       "2016-11-01 02:00:00  17.592593  91.000000  99051.868597  4.023245  1.178534\n",
       "2016-11-01 03:00:00  18.148148  88.666667  99040.580635  3.576218  1.176076\n",
       "2016-11-01 04:00:00  17.777778  87.666667  99051.868597  3.129191  1.177993\n",
       "...                        ...        ...           ...       ...       ...\n",
       "2016-11-30 19:00:00   3.518519  71.000000  98574.011530  2.831173  1.239513\n",
       "2016-11-30 20:00:00   3.333333  70.333333  98617.282052  3.874236  1.240634\n",
       "2016-11-30 21:00:00   3.333333  70.666667  98660.552573  2.682164  1.241756\n",
       "2016-11-30 22:00:00   3.333333  71.666667  98703.823095  2.831173  1.242877\n",
       "2016-11-30 23:00:00   2.777778  75.666667  98747.093617  2.831173  1.243999\n",
       "\n",
       "[720 rows x 5 columns]"
      ]
     },
     "execution_count": 167,
     "metadata": {},
     "output_type": "execute_result"
    }
   ],
   "source": [
    "years = lincoln_interp.groupby(lincoln_interp.index.year)\n",
    "data2016 = years.get_group(2016)\n",
    "months = data2016.groupby(data2016.index.month)\n",
    "november16 = months.get_group(11)\n",
    "\n",
    "november16"
   ]
  },
  {
   "cell_type": "code",
   "execution_count": 187,
   "metadata": {},
   "outputs": [
    {
     "name": "stderr",
     "output_type": "stream",
     "text": [
      "/home/dotson/anaconda3/lib/python3.6/site-packages/ipykernel_launcher.py:21: SettingWithCopyWarning: \n",
      "A value is trying to be set on a copy of a slice from a DataFrame.\n",
      "Try using .loc[row_indexer,col_indexer] = value instead\n",
      "\n",
      "See the caveats in the documentation: http://pandas.pydata.org/pandas-docs/stable/user_guide/indexing.html#returning-a-view-versus-a-copy\n"
     ]
    }
   ],
   "source": [
    "# calculate the power generated\n",
    "\n",
    "# define constants\n",
    "N = 67 # the number of wind turbines\n",
    "d = 82.5 # [m]\n",
    "u_in = 3.5 # [m/s]\n",
    "u_out = 20.0 # [m/s]\n",
    "u_ideal = 11.5 # [m/s]\n",
    "eta = 0.3 # efficiency\n",
    "ppa = 0.086 # the percentage of purchased power.\n",
    "pmax = 1.5 # [MW], the rated power for a single turbine\n",
    "\n",
    "P = lambda U, rho: N*0.5*eta*rho*(U**3)*(np.pi*d**2/4)/1e6 # this is in kW?? W??\n",
    "\n",
    "# calculate all values of power\n",
    "power = []\n",
    "for i in range(len(november16)):\n",
    "    U = november16.iloc[i]['u']\n",
    "    rho = november16.iloc[i]['rho']\n",
    "    power.append(P(U, rho))\n",
    "november16['power'] = power\n",
    "\n",
    "# fix based on cut in and cut out speeds\n",
    "zero = (november16.u <= u_in) | (november16.u >= u_out)\n",
    "peak = (november16.u > u_ideal) & (november16.u < u_out)\n",
    "\n",
    "november16['power'].mask(zero, 0, inplace=True)\n",
    "november16['power'].mask(peak, N*pmax, inplace=True)\n",
    "\n",
    "# adjust based on the PPA\n",
    "ppa_adjust = lambda p: p*ppa\n",
    "# november16['power'] = november16['power'].apply(ppa_adjust)"
   ]
  },
  {
   "cell_type": "code",
   "execution_count": 188,
   "metadata": {},
   "outputs": [
    {
     "data": {
      "image/png": "[encoded data removed]",
      "text/plain": [
       "<Figure size 432x288 with 1 Axes>"
      ]
     },
     "metadata": {
      "needs_background": "light"
     },
     "output_type": "display_data"
    }
   ],
   "source": [
    "november16.plot(kind='scatter', x='u', y='power', lw=0.25)\n",
    "plt.show()"
   ]
  },
  {
   "cell_type": "code",
   "execution_count": 189,
   "metadata": {},
   "outputs": [
    {
     "data": {
      "text/plain": [
       "2630.2246528778933"
      ]
     },
     "execution_count": 189,
     "metadata": {},
     "output_type": "execute_result"
    }
   ],
   "source": [
    "november16['power'].sum()"
   ]
  },
  {
   "cell_type": "code",
   "execution_count": 175,
   "metadata": {},
   "outputs": [
    {
     "data": {
      "text/plain": [
       "2630.224652877894"
      ]
     },
     "execution_count": 175,
     "metadata": {},
     "output_type": "execute_result"
    }
   ],
   "source": [
    "november16['power'].mean()*720"
   ]
  },
  {
   "cell_type": "markdown",
   "metadata": {},
   "source": [
    "$\\eta$ was given in Baker et. al and Garcia et. al as 0.35, corresponding to a 35% conversion efficiency. This was too high the the turbines at the Rail Splitter farm because it exceeded the rated power of the individual turbines. _Try it yourself by changing eta to 0.35_.\n",
    "\n",
    "The efficiency for UIUC's particular case is closer to 30% "
   ]
  },
  {
   "cell_type": "code",
   "execution_count": 191,
   "metadata": {},
   "outputs": [
    {
     "data": {
      "text/plain": [
       "Text(0.5, 1.0, 'Power vs. Wind Speed Theoretical Curve')"
      ]
     },
     "execution_count": 191,
     "metadata": {},
     "output_type": "execute_result"
    },
    {
     "data": {
      "image/png": "[encoded data removed]",
      "text/plain": [
       "<Figure size 432x288 with 1 Axes>"
      ]
     },
     "metadata": {
      "needs_background": "light"
     },
     "output_type": "display_data"
    }
   ],
   "source": [
    "u = np.linspace(0, 30, 1000)\n",
    "rho = 1.17\n",
    "n = 0.35\n",
    "d = 90\n",
    "pwr = lambda U: 0.5*n*rho*U**3*(np.pi*d**2/4)/1e6\n",
    "pw = [pwr(s) if s < 14 else 3.6 for s in u]\n",
    "plt.plot(u, pw)\n",
    "plt.xlabel('u [m/s]')\n",
    "plt.ylabel('power [MWe]')\n",
    "plt.title('Power vs. Wind Speed Theoretical Curve')"
   ]
  },
  {
   "cell_type": "code",
   "execution_count": 145,
   "metadata": {},
   "outputs": [
    {
     "data": {
      "text/html": [
       "<div>\n",
       "<style scoped>\n",
       "    .dataframe tbody tr th:only-of-type {\n",
       "        vertical-align: middle;\n",
       "    }\n",
       "\n",
       "    .dataframe tbody tr th {\n",
       "        vertical-align: top;\n",
       "    }\n",
       "\n",
       "    .dataframe thead th {\n",
       "        text-align: right;\n",
       "    }\n",
       "</style>\n",
       "<table border=\"1\" class=\"dataframe\">\n",
       "  <thead>\n",
       "    <tr style=\"text-align: right;\">\n",
       "      <th></th>\n",
       "      <th>temp</th>\n",
       "      <th>RH</th>\n",
       "      <th>pressure</th>\n",
       "      <th>u</th>\n",
       "      <th>rho</th>\n",
       "      <th>power</th>\n",
       "    </tr>\n",
       "    <tr>\n",
       "      <th>time</th>\n",
       "      <th></th>\n",
       "      <th></th>\n",
       "      <th></th>\n",
       "      <th></th>\n",
       "      <th></th>\n",
       "      <th></th>\n",
       "    </tr>\n",
       "  </thead>\n",
       "  <tbody>\n",
       "    <tr>\n",
       "      <td>2010-12-11 00:00:00</td>\n",
       "      <td>1.296296</td>\n",
       "      <td>90.666667</td>\n",
       "      <td>99243.763955</td>\n",
       "      <td>2.682164</td>\n",
       "      <td>1.256807</td>\n",
       "      <td>0.000000e+00</td>\n",
       "    </tr>\n",
       "    <tr>\n",
       "      <td>2010-12-11 01:00:00</td>\n",
       "      <td>0.000000</td>\n",
       "      <td>95.333333</td>\n",
       "      <td>99198.612107</td>\n",
       "      <td>2.533155</td>\n",
       "      <td>1.262320</td>\n",
       "      <td>0.000000e+00</td>\n",
       "    </tr>\n",
       "    <tr>\n",
       "      <td>2010-12-11 02:00:00</td>\n",
       "      <td>0.555556</td>\n",
       "      <td>95.333333</td>\n",
       "      <td>99164.748220</td>\n",
       "      <td>3.725227</td>\n",
       "      <td>1.259212</td>\n",
       "      <td>3.497203e+06</td>\n",
       "    </tr>\n",
       "    <tr>\n",
       "      <td>2010-12-11 03:00:00</td>\n",
       "      <td>1.111111</td>\n",
       "      <td>91.666667</td>\n",
       "      <td>99119.596371</td>\n",
       "      <td>3.427209</td>\n",
       "      <td>1.256085</td>\n",
       "      <td>0.000000e+00</td>\n",
       "    </tr>\n",
       "    <tr>\n",
       "      <td>2010-12-11 04:00:00</td>\n",
       "      <td>1.111111</td>\n",
       "      <td>93.000000</td>\n",
       "      <td>99051.868597</td>\n",
       "      <td>2.980182</td>\n",
       "      <td>1.255182</td>\n",
       "      <td>0.000000e+00</td>\n",
       "    </tr>\n",
       "    <tr>\n",
       "      <td>...</td>\n",
       "      <td>...</td>\n",
       "      <td>...</td>\n",
       "      <td>...</td>\n",
       "      <td>...</td>\n",
       "      <td>...</td>\n",
       "      <td>...</td>\n",
       "    </tr>\n",
       "    <tr>\n",
       "      <td>2019-12-12 22:00:00</td>\n",
       "      <td>4.444444</td>\n",
       "      <td>64.000000</td>\n",
       "      <td>99672.706520</td>\n",
       "      <td>3.278200</td>\n",
       "      <td>1.248276</td>\n",
       "      <td>0.000000e+00</td>\n",
       "    </tr>\n",
       "    <tr>\n",
       "      <td>2019-12-12 23:00:00</td>\n",
       "      <td>5.000000</td>\n",
       "      <td>63.666667</td>\n",
       "      <td>99604.978747</td>\n",
       "      <td>3.576218</td>\n",
       "      <td>1.244848</td>\n",
       "      <td>3.058807e+06</td>\n",
       "    </tr>\n",
       "    <tr>\n",
       "      <td>2019-12-13 00:00:00</td>\n",
       "      <td>4.444444</td>\n",
       "      <td>66.000000</td>\n",
       "      <td>99548.538936</td>\n",
       "      <td>2.682164</td>\n",
       "      <td>1.246638</td>\n",
       "      <td>0.000000e+00</td>\n",
       "    </tr>\n",
       "    <tr>\n",
       "      <td>2019-12-13 01:00:00</td>\n",
       "      <td>4.259259</td>\n",
       "      <td>69.000000</td>\n",
       "      <td>99514.675049</td>\n",
       "      <td>1.639100</td>\n",
       "      <td>1.246961</td>\n",
       "      <td>0.000000e+00</td>\n",
       "    </tr>\n",
       "    <tr>\n",
       "      <td>2019-12-13 02:00:00</td>\n",
       "      <td>3.888889</td>\n",
       "      <td>70.000000</td>\n",
       "      <td>99492.099125</td>\n",
       "      <td>2.235136</td>\n",
       "      <td>1.248376</td>\n",
       "      <td>0.000000e+00</td>\n",
       "    </tr>\n",
       "  </tbody>\n",
       "</table>\n",
       "<p>78939 rows × 6 columns</p>\n",
       "</div>"
      ],
      "text/plain": [
       "                         temp         RH      pressure         u       rho  \\\n",
       "time                                                                         \n",
       "2010-12-11 00:00:00  1.296296  90.666667  99243.763955  2.682164  1.256807   \n",
       "2010-12-11 01:00:00  0.000000  95.333333  99198.612107  2.533155  1.262320   \n",
       "2010-12-11 02:00:00  0.555556  95.333333  99164.748220  3.725227  1.259212   \n",
       "2010-12-11 03:00:00  1.111111  91.666667  99119.596371  3.427209  1.256085   \n",
       "2010-12-11 04:00:00  1.111111  93.000000  99051.868597  2.980182  1.255182   \n",
       "...                       ...        ...           ...       ...       ...   \n",
       "2019-12-12 22:00:00  4.444444  64.000000  99672.706520  3.278200  1.248276   \n",
       "2019-12-12 23:00:00  5.000000  63.666667  99604.978747  3.576218  1.244848   \n",
       "2019-12-13 00:00:00  4.444444  66.000000  99548.538936  2.682164  1.246638   \n",
       "2019-12-13 01:00:00  4.259259  69.000000  99514.675049  1.639100  1.246961   \n",
       "2019-12-13 02:00:00  3.888889  70.000000  99492.099125  2.235136  1.248376   \n",
       "\n",
       "                            power  \n",
       "time                               \n",
       "2010-12-11 00:00:00  0.000000e+00  \n",
       "2010-12-11 01:00:00  0.000000e+00  \n",
       "2010-12-11 02:00:00  3.497203e+06  \n",
       "2010-12-11 03:00:00  0.000000e+00  \n",
       "2010-12-11 04:00:00  0.000000e+00  \n",
       "...                           ...  \n",
       "2019-12-12 22:00:00  0.000000e+00  \n",
       "2019-12-12 23:00:00  3.058807e+06  \n",
       "2019-12-13 00:00:00  0.000000e+00  \n",
       "2019-12-13 01:00:00  0.000000e+00  \n",
       "2019-12-13 02:00:00  0.000000e+00  \n",
       "\n",
       "[78939 rows x 6 columns]"
      ]
     },
     "execution_count": 145,
     "metadata": {},
     "output_type": "execute_result"
    }
   ],
   "source": [
    "lincoln_wind"
   ]
  },
  {
   "cell_type": "code",
   "execution_count": 146,
   "metadata": {},
   "outputs": [
    {
     "data": {
      "image/png": "[encoded data removed]",
      "text/plain": [
       "<Figure size 432x288 with 1 Axes>"
      ]
     },
     "metadata": {
      "needs_background": "light"
     },
     "output_type": "display_data"
    }
   ],
   "source": [
    "lincoln_wind.plot(kind='scatter', x='u', y='power', lw=0.25)\n",
    "plt.show()"
   ]
  },
  {
   "cell_type": "markdown",
   "metadata": {},
   "source": [
    "This is wrong. At any moment the wind farm has the capacity to produce 100.5 MWe _**not**_ 100.5x10$^6$MWe. That is more than the farm can produce in a single year operating at peak power 100% of the time."
   ]
  },
  {
   "cell_type": "code",
   "execution_count": 148,
   "metadata": {},
   "outputs": [],
   "source": [
    "# calculate the power generated\n",
    "\n",
    "# define constants\n",
    "N = 67 # the number of wind turbines\n",
    "d = 82.5 # [m]\n",
    "u_in = 3.5 # [m/s]\n",
    "u_out = 20.0 # [m/s]\n",
    "u_ideal = 11.5 # [m/s]\n",
    "eta = 0.3 # efficiency\n",
    "ppa = 0.086 # the percentage of purchased power.\n",
    "pmax = 1.5 # [MW], the rated power for a single turbine\n",
    "\n",
    "P = lambda U, rho: N*0.5*eta*rho*(U**3)*(np.pi*d**2/4)*1e-6\n",
    "\n",
    "# calculate all values of power\n",
    "power = []\n",
    "for i in range(len(lincoln_wind)):\n",
    "    U = lincoln_wind.iloc[i]['u']\n",
    "    rho = lincoln_wind.iloc[i]['rho']\n",
    "    power.append(P(U, rho))\n",
    "lincoln_wind['power'] = power\n",
    "\n",
    "# fix based on cut in and cut out speeds\n",
    "zero = (lincoln_wind.u <= u_in) | (lincoln_wind.u >= u_out)\n",
    "peak = (lincoln_wind.u > u_ideal) & (lincoln_wind.u < u_out)\n",
    "\n",
    "lincoln_wind['power'].mask(zero, 0, inplace=True)\n",
    "lincoln_wind['power'].mask(peak, N*pmax, inplace=True)"
   ]
  },
  {
   "cell_type": "code",
   "execution_count": 149,
   "metadata": {},
   "outputs": [
    {
     "data": {
      "text/html": [
       "<div>\n",
       "<style scoped>\n",
       "    .dataframe tbody tr th:only-of-type {\n",
       "        vertical-align: middle;\n",
       "    }\n",
       "\n",
       "    .dataframe tbody tr th {\n",
       "        vertical-align: top;\n",
       "    }\n",
       "\n",
       "    .dataframe thead th {\n",
       "        text-align: right;\n",
       "    }\n",
       "</style>\n",
       "<table border=\"1\" class=\"dataframe\">\n",
       "  <thead>\n",
       "    <tr style=\"text-align: right;\">\n",
       "      <th></th>\n",
       "      <th>temp</th>\n",
       "      <th>RH</th>\n",
       "      <th>pressure</th>\n",
       "      <th>u</th>\n",
       "      <th>rho</th>\n",
       "      <th>power</th>\n",
       "    </tr>\n",
       "    <tr>\n",
       "      <th>time</th>\n",
       "      <th></th>\n",
       "      <th></th>\n",
       "      <th></th>\n",
       "      <th></th>\n",
       "      <th></th>\n",
       "      <th></th>\n",
       "    </tr>\n",
       "  </thead>\n",
       "  <tbody>\n",
       "    <tr>\n",
       "      <td>2010-12-11 00:00:00</td>\n",
       "      <td>1.296296</td>\n",
       "      <td>90.666667</td>\n",
       "      <td>99243.763955</td>\n",
       "      <td>2.682164</td>\n",
       "      <td>1.256807</td>\n",
       "      <td>0.000000</td>\n",
       "    </tr>\n",
       "    <tr>\n",
       "      <td>2010-12-11 01:00:00</td>\n",
       "      <td>0.000000</td>\n",
       "      <td>95.333333</td>\n",
       "      <td>99198.612107</td>\n",
       "      <td>2.533155</td>\n",
       "      <td>1.262320</td>\n",
       "      <td>0.000000</td>\n",
       "    </tr>\n",
       "    <tr>\n",
       "      <td>2010-12-11 02:00:00</td>\n",
       "      <td>0.555556</td>\n",
       "      <td>95.333333</td>\n",
       "      <td>99164.748220</td>\n",
       "      <td>3.725227</td>\n",
       "      <td>1.259212</td>\n",
       "      <td>3.497203</td>\n",
       "    </tr>\n",
       "    <tr>\n",
       "      <td>2010-12-11 03:00:00</td>\n",
       "      <td>1.111111</td>\n",
       "      <td>91.666667</td>\n",
       "      <td>99119.596371</td>\n",
       "      <td>3.427209</td>\n",
       "      <td>1.256085</td>\n",
       "      <td>0.000000</td>\n",
       "    </tr>\n",
       "    <tr>\n",
       "      <td>2010-12-11 04:00:00</td>\n",
       "      <td>1.111111</td>\n",
       "      <td>93.000000</td>\n",
       "      <td>99051.868597</td>\n",
       "      <td>2.980182</td>\n",
       "      <td>1.255182</td>\n",
       "      <td>0.000000</td>\n",
       "    </tr>\n",
       "    <tr>\n",
       "      <td>...</td>\n",
       "      <td>...</td>\n",
       "      <td>...</td>\n",
       "      <td>...</td>\n",
       "      <td>...</td>\n",
       "      <td>...</td>\n",
       "      <td>...</td>\n",
       "    </tr>\n",
       "    <tr>\n",
       "      <td>2019-12-12 22:00:00</td>\n",
       "      <td>4.444444</td>\n",
       "      <td>64.000000</td>\n",
       "      <td>99672.706520</td>\n",
       "      <td>3.278200</td>\n",
       "      <td>1.248276</td>\n",
       "      <td>0.000000</td>\n",
       "    </tr>\n",
       "    <tr>\n",
       "      <td>2019-12-12 23:00:00</td>\n",
       "      <td>5.000000</td>\n",
       "      <td>63.666667</td>\n",
       "      <td>99604.978747</td>\n",
       "      <td>3.576218</td>\n",
       "      <td>1.244848</td>\n",
       "      <td>3.058807</td>\n",
       "    </tr>\n",
       "    <tr>\n",
       "      <td>2019-12-13 00:00:00</td>\n",
       "      <td>4.444444</td>\n",
       "      <td>66.000000</td>\n",
       "      <td>99548.538936</td>\n",
       "      <td>2.682164</td>\n",
       "      <td>1.246638</td>\n",
       "      <td>0.000000</td>\n",
       "    </tr>\n",
       "    <tr>\n",
       "      <td>2019-12-13 01:00:00</td>\n",
       "      <td>4.259259</td>\n",
       "      <td>69.000000</td>\n",
       "      <td>99514.675049</td>\n",
       "      <td>1.639100</td>\n",
       "      <td>1.246961</td>\n",
       "      <td>0.000000</td>\n",
       "    </tr>\n",
       "    <tr>\n",
       "      <td>2019-12-13 02:00:00</td>\n",
       "      <td>3.888889</td>\n",
       "      <td>70.000000</td>\n",
       "      <td>99492.099125</td>\n",
       "      <td>2.235136</td>\n",
       "      <td>1.248376</td>\n",
       "      <td>0.000000</td>\n",
       "    </tr>\n",
       "  </tbody>\n",
       "</table>\n",
       "<p>78939 rows × 6 columns</p>\n",
       "</div>"
      ],
      "text/plain": [
       "                         temp         RH      pressure         u       rho  \\\n",
       "time                                                                         \n",
       "2010-12-11 00:00:00  1.296296  90.666667  99243.763955  2.682164  1.256807   \n",
       "2010-12-11 01:00:00  0.000000  95.333333  99198.612107  2.533155  1.262320   \n",
       "2010-12-11 02:00:00  0.555556  95.333333  99164.748220  3.725227  1.259212   \n",
       "2010-12-11 03:00:00  1.111111  91.666667  99119.596371  3.427209  1.256085   \n",
       "2010-12-11 04:00:00  1.111111  93.000000  99051.868597  2.980182  1.255182   \n",
       "...                       ...        ...           ...       ...       ...   \n",
       "2019-12-12 22:00:00  4.444444  64.000000  99672.706520  3.278200  1.248276   \n",
       "2019-12-12 23:00:00  5.000000  63.666667  99604.978747  3.576218  1.244848   \n",
       "2019-12-13 00:00:00  4.444444  66.000000  99548.538936  2.682164  1.246638   \n",
       "2019-12-13 01:00:00  4.259259  69.000000  99514.675049  1.639100  1.246961   \n",
       "2019-12-13 02:00:00  3.888889  70.000000  99492.099125  2.235136  1.248376   \n",
       "\n",
       "                        power  \n",
       "time                           \n",
       "2010-12-11 00:00:00  0.000000  \n",
       "2010-12-11 01:00:00  0.000000  \n",
       "2010-12-11 02:00:00  3.497203  \n",
       "2010-12-11 03:00:00  0.000000  \n",
       "2010-12-11 04:00:00  0.000000  \n",
       "...                       ...  \n",
       "2019-12-12 22:00:00  0.000000  \n",
       "2019-12-12 23:00:00  3.058807  \n",
       "2019-12-13 00:00:00  0.000000  \n",
       "2019-12-13 01:00:00  0.000000  \n",
       "2019-12-13 02:00:00  0.000000  \n",
       "\n",
       "[78939 rows x 6 columns]"
      ]
     },
     "execution_count": 149,
     "metadata": {},
     "output_type": "execute_result"
    }
   ],
   "source": [
    "lincoln_wind"
   ]
  },
  {
   "cell_type": "code",
   "execution_count": 150,
   "metadata": {},
   "outputs": [
    {
     "data": {
      "image/png": "[encoded data removed]",
      "text/plain": [
       "<Figure size 432x288 with 1 Axes>"
      ]
     },
     "metadata": {
      "needs_background": "light"
     },
     "output_type": "display_data"
    }
   ],
   "source": [
    "lincoln_wind.plot(kind='scatter', x='u', y='power', lw=0.25)\n",
    "plt.show()"
   ]
  },
  {
   "cell_type": "code",
   "execution_count": 152,
   "metadata": {},
   "outputs": [
    {
     "data": {
      "text/plain": [
       "247195.51979688197"
      ]
     },
     "execution_count": 152,
     "metadata": {},
     "output_type": "execute_result"
    }
   ],
   "source": [
    "lincoln_wind['power'].sum()"
   ]
  },
  {
   "cell_type": "markdown",
   "metadata": {},
   "source": [
    "### Step 2: Group by year\n",
    "\n",
    "It turns out that the dataframe contains some NaN values (I should have checked first thing!). The missing data will be linearly interpolated. "
   ]
  },
  {
   "cell_type": "code",
   "execution_count": 74,
   "metadata": {},
   "outputs": [],
   "source": [
    "# lincoln_w['time'] = lincoln_wind.index\n",
    "\n",
    "\n",
    "# leap years drop the last day. Each year needs to be the same length.\n",
    "grouped = lincoln_interp.groupby(lincoln_interp.index.year)\n",
    "df11 = grouped.get_group(2011)\n",
    "df12 = grouped.get_group(2012)[:8760]\n",
    "df13 = grouped.get_group(2013)\n",
    "df14 = grouped.get_group(2014)\n",
    "df15 = grouped.get_group(2015)\n",
    "df16 = grouped.get_group(2016)[:8760]\n",
    "df17 = grouped.get_group(2017)\n",
    "df18 = grouped.get_group(2018)\n",
    "\n",
    "# create a column of hours\n",
    "df11 = df11.reset_index(drop=True)\n",
    "df12 = df12.reset_index(drop=True)\n",
    "df13 = df13.reset_index(drop=True)\n",
    "df14 = df14.reset_index(drop=True)\n",
    "df15 = df15.reset_index(drop=True)\n",
    "df16 = df16.reset_index(drop=True)\n",
    "df17 = df17.reset_index(drop=True)\n",
    "df18 = df18.reset_index(drop=True)\n",
    "\n",
    "df11['time'] = df11.index\n",
    "df12['time'] = df12.index\n",
    "df13['time'] = df13.index\n",
    "df14['time'] = df14.index\n",
    "df15['time'] = df15.index\n",
    "df16['time'] = df16.index\n",
    "df17['time'] = df17.index\n",
    "df18['time'] = df18.index\n",
    "\n",
    "df11 = df11[['time','power']]\n",
    "df12 = df12[['time','power']]\n",
    "df13 = df13[['time','power']]\n",
    "df14 = df14[['time','power']]\n",
    "df15 = df15[['time','power']]\n",
    "df16 = df16[['time','power']]\n",
    "df17 = df17[['time','power']]\n",
    "df18 = df18[['time','power']]"
   ]
  },
  {
   "cell_type": "code",
   "execution_count": 87,
   "metadata": {},
   "outputs": [],
   "source": [
    "# =============================================\n",
    "# writes the header file for RAVEN\n",
    "fname = 'annual_wind201'\n",
    "wind_keys = [fname + str(i) + '.csv' for i in range(1,9,1)]\n",
    "header_file = pd.DataFrame({'n':np.zeros(len(wind_keys), dtype=np.int8), 'filename':wind_keys})\n",
    "header_file.to_csv('annual_wind_H.csv')\n",
    "# header_file"
   ]
  },
  {
   "cell_type": "code",
   "execution_count": 76,
   "metadata": {},
   "outputs": [],
   "source": [
    "# save the data frames as files that can be passed to RAVEN.\n",
    "df11.to_csv('annual_wind2011.csv')\n",
    "df12.to_csv('annual_wind2012.csv')\n",
    "df13.to_csv('annual_wind2013.csv')\n",
    "df14.to_csv('annual_wind2014.csv')\n",
    "df15.to_csv('annual_wind2015.csv')\n",
    "df16.to_csv('annual_wind2016.csv')\n",
    "df17.to_csv('annual_wind2017.csv')\n",
    "df18.to_csv('annual_wind2018.csv')"
   ]
  },
  {
   "cell_type": "markdown",
   "metadata": {},
   "source": [
    "## Pass the data to RAVEN\n",
    "\n",
    "RAVEN will return a typical year of wind power production."
   ]
  },
  {
   "cell_type": "code",
   "execution_count": 88,
   "metadata": {},
   "outputs": [
    {
     "name": "stdout",
     "output_type": "stream",
     "text": [
      "annual_wind2011.csv  annual_wind2015.csv  annual_wind_H.csv  TypicalWind_0.csv\r\n",
      "annual_wind2012.csv  annual_wind2016.csv  data_funcs.py      TypicalWind.csv\r\n",
      "annual_wind2013.csv  annual_wind2017.csv  __pycache__\t     TypicalWind.xml\r\n",
      "annual_wind2014.csv  annual_wind2018.csv  tests\t\t     wind_power.ipynb\r\n"
     ]
    }
   ],
   "source": [
    "!ls"
   ]
  },
  {
   "cell_type": "code",
   "execution_count": 89,
   "metadata": {},
   "outputs": [
    {
     "data": {
      "text/html": [
       "<div>\n",
       "<style scoped>\n",
       "    .dataframe tbody tr th:only-of-type {\n",
       "        vertical-align: middle;\n",
       "    }\n",
       "\n",
       "    .dataframe tbody tr th {\n",
       "        vertical-align: top;\n",
       "    }\n",
       "\n",
       "    .dataframe thead th {\n",
       "        text-align: right;\n",
       "    }\n",
       "</style>\n",
       "<table border=\"1\" class=\"dataframe\">\n",
       "  <thead>\n",
       "    <tr style=\"text-align: right;\">\n",
       "      <th></th>\n",
       "      <th>time</th>\n",
       "      <th>power</th>\n",
       "    </tr>\n",
       "  </thead>\n",
       "  <tbody>\n",
       "    <tr>\n",
       "      <td>0</td>\n",
       "      <td>0</td>\n",
       "      <td>0.0</td>\n",
       "    </tr>\n",
       "    <tr>\n",
       "      <td>1</td>\n",
       "      <td>1</td>\n",
       "      <td>0.0</td>\n",
       "    </tr>\n",
       "    <tr>\n",
       "      <td>2</td>\n",
       "      <td>2</td>\n",
       "      <td>0.0</td>\n",
       "    </tr>\n",
       "    <tr>\n",
       "      <td>3</td>\n",
       "      <td>3</td>\n",
       "      <td>0.0</td>\n",
       "    </tr>\n",
       "    <tr>\n",
       "      <td>4</td>\n",
       "      <td>4</td>\n",
       "      <td>0.0</td>\n",
       "    </tr>\n",
       "    <tr>\n",
       "      <td>...</td>\n",
       "      <td>...</td>\n",
       "      <td>...</td>\n",
       "    </tr>\n",
       "    <tr>\n",
       "      <td>8755</td>\n",
       "      <td>8755</td>\n",
       "      <td>0.0</td>\n",
       "    </tr>\n",
       "    <tr>\n",
       "      <td>8756</td>\n",
       "      <td>8756</td>\n",
       "      <td>0.0</td>\n",
       "    </tr>\n",
       "    <tr>\n",
       "      <td>8757</td>\n",
       "      <td>8757</td>\n",
       "      <td>0.0</td>\n",
       "    </tr>\n",
       "    <tr>\n",
       "      <td>8758</td>\n",
       "      <td>8758</td>\n",
       "      <td>0.0</td>\n",
       "    </tr>\n",
       "    <tr>\n",
       "      <td>8759</td>\n",
       "      <td>8759</td>\n",
       "      <td>0.0</td>\n",
       "    </tr>\n",
       "  </tbody>\n",
       "</table>\n",
       "<p>8760 rows × 2 columns</p>\n",
       "</div>"
      ],
      "text/plain": [
       "      time  power\n",
       "0        0    0.0\n",
       "1        1    0.0\n",
       "2        2    0.0\n",
       "3        3    0.0\n",
       "4        4    0.0\n",
       "...    ...    ...\n",
       "8755  8755    0.0\n",
       "8756  8756    0.0\n",
       "8757  8757    0.0\n",
       "8758  8758    0.0\n",
       "8759  8759    0.0\n",
       "\n",
       "[8760 rows x 2 columns]"
      ]
     },
     "execution_count": 89,
     "metadata": {},
     "output_type": "execute_result"
    }
   ],
   "source": [
    "#upload the typical annual wind generation\n",
    "typical_wind = pd.read_csv('TypicalWind_0.csv')\n",
    "typical_wind"
   ]
  },
  {
   "cell_type": "code",
   "execution_count": 95,
   "metadata": {},
   "outputs": [
    {
     "data": {
      "text/html": [
       "<div>\n",
       "<style scoped>\n",
       "    .dataframe tbody tr th:only-of-type {\n",
       "        vertical-align: middle;\n",
       "    }\n",
       "\n",
       "    .dataframe tbody tr th {\n",
       "        vertical-align: top;\n",
       "    }\n",
       "\n",
       "    .dataframe thead th {\n",
       "        text-align: right;\n",
       "    }\n",
       "</style>\n",
       "<table border=\"1\" class=\"dataframe\">\n",
       "  <thead>\n",
       "    <tr style=\"text-align: right;\">\n",
       "      <th></th>\n",
       "      <th>time</th>\n",
       "      <th>power</th>\n",
       "      <th>date</th>\n",
       "    </tr>\n",
       "  </thead>\n",
       "  <tbody>\n",
       "    <tr>\n",
       "      <td>0</td>\n",
       "      <td>0</td>\n",
       "      <td>0.0</td>\n",
       "      <td>2018-01-01 00:00:00</td>\n",
       "    </tr>\n",
       "    <tr>\n",
       "      <td>1</td>\n",
       "      <td>1</td>\n",
       "      <td>0.0</td>\n",
       "      <td>2018-01-01 01:00:00</td>\n",
       "    </tr>\n",
       "    <tr>\n",
       "      <td>2</td>\n",
       "      <td>2</td>\n",
       "      <td>0.0</td>\n",
       "      <td>2018-01-01 02:00:00</td>\n",
       "    </tr>\n",
       "    <tr>\n",
       "      <td>3</td>\n",
       "      <td>3</td>\n",
       "      <td>0.0</td>\n",
       "      <td>2018-01-01 03:00:00</td>\n",
       "    </tr>\n",
       "    <tr>\n",
       "      <td>4</td>\n",
       "      <td>4</td>\n",
       "      <td>0.0</td>\n",
       "      <td>2018-01-01 04:00:00</td>\n",
       "    </tr>\n",
       "    <tr>\n",
       "      <td>...</td>\n",
       "      <td>...</td>\n",
       "      <td>...</td>\n",
       "      <td>...</td>\n",
       "    </tr>\n",
       "    <tr>\n",
       "      <td>8755</td>\n",
       "      <td>8755</td>\n",
       "      <td>0.0</td>\n",
       "      <td>2018-12-31 19:00:00</td>\n",
       "    </tr>\n",
       "    <tr>\n",
       "      <td>8756</td>\n",
       "      <td>8756</td>\n",
       "      <td>0.0</td>\n",
       "      <td>2018-12-31 20:00:00</td>\n",
       "    </tr>\n",
       "    <tr>\n",
       "      <td>8757</td>\n",
       "      <td>8757</td>\n",
       "      <td>0.0</td>\n",
       "      <td>2018-12-31 21:00:00</td>\n",
       "    </tr>\n",
       "    <tr>\n",
       "      <td>8758</td>\n",
       "      <td>8758</td>\n",
       "      <td>0.0</td>\n",
       "      <td>2018-12-31 22:00:00</td>\n",
       "    </tr>\n",
       "    <tr>\n",
       "      <td>8759</td>\n",
       "      <td>8759</td>\n",
       "      <td>0.0</td>\n",
       "      <td>2018-12-31 23:00:00</td>\n",
       "    </tr>\n",
       "  </tbody>\n",
       "</table>\n",
       "<p>8760 rows × 3 columns</p>\n",
       "</div>"
      ],
      "text/plain": [
       "      time  power                date\n",
       "0        0    0.0 2018-01-01 00:00:00\n",
       "1        1    0.0 2018-01-01 01:00:00\n",
       "2        2    0.0 2018-01-01 02:00:00\n",
       "3        3    0.0 2018-01-01 03:00:00\n",
       "4        4    0.0 2018-01-01 04:00:00\n",
       "...    ...    ...                 ...\n",
       "8755  8755    0.0 2018-12-31 19:00:00\n",
       "8756  8756    0.0 2018-12-31 20:00:00\n",
       "8757  8757    0.0 2018-12-31 21:00:00\n",
       "8758  8758    0.0 2018-12-31 22:00:00\n",
       "8759  8759    0.0 2018-12-31 23:00:00\n",
       "\n",
       "[8760 rows x 3 columns]"
      ]
     },
     "execution_count": 95,
     "metadata": {},
     "output_type": "execute_result"
    }
   ],
   "source": [
    "typical_wind['date'] = pd.date_range(start='1/1/2018', end='1/1/2019', freq='H')[:8760]\n",
    "typical_wind"
   ]
  },
  {
   "cell_type": "code",
   "execution_count": 103,
   "metadata": {},
   "outputs": [
    {
     "data": {
      "text/plain": [
       "2111.95481808893"
      ]
     },
     "execution_count": 103,
     "metadata": {},
     "output_type": "execute_result"
    }
   ],
   "source": [
    "# let's calculate the annual power generated\n",
    "\n",
    "power_gen = typical_wind['power'].sum()\n",
    "power_gen"
   ]
  },
  {
   "cell_type": "markdown",
   "metadata": {},
   "source": [
    "#### 2111 MWe seems low... how does it compare to other years?"
   ]
  },
  {
   "cell_type": "code",
   "execution_count": 108,
   "metadata": {},
   "outputs": [
    {
     "name": "stdout",
     "output_type": "stream",
     "text": [
      "2969.215572809362\n",
      "3196.1166240096477\n",
      "2222.5519048420806\n",
      "2612.1456759766706\n",
      "2582.499599989362\n",
      "1869.9016153686896\n",
      "2375.0667534981844\n",
      "2086.7604099181403\n"
     ]
    }
   ],
   "source": [
    "df12_power = df12['power'].sum()\n",
    "print(df12_power)\n",
    "df11_power = df11['power'].sum()\n",
    "print(df11_power)\n",
    "df13_power = df13['power'].sum()\n",
    "print(df13_power)\n",
    "df14_power = df14['power'].sum()\n",
    "print(df14_power)\n",
    "df15_power = df15['power'].sum()\n",
    "print(df15_power)\n",
    "df16_power = df16['power'].sum()\n",
    "print(df16_power)\n",
    "df17_power = df17['power'].sum()\n",
    "print(df17_power)\n",
    "df18_power = df18['power'].sum()\n",
    "print(df18_power)"
   ]
  },
  {
   "cell_type": "markdown",
   "metadata": {},
   "source": [
    "#### We will get to the bottom of this, let's look at the values predicted by Rail Splitter in the PPA"
   ]
  },
  {
   "cell_type": "code",
   "execution_count": 147,
   "metadata": {},
   "outputs": [
    {
     "name": "stdout",
     "output_type": "stream",
     "text": [
      "880380.0\n",
      "75712.68\n"
     ]
    }
   ],
   "source": [
    "# from Rail Splitter Wind Farm\n",
    "\n",
    "max_power = 100.5 #[MW]\n",
    "\n",
    "#if 100% production\n",
    "max_produced = max_power*8760\n",
    "print(max_produced)\n",
    "#UIUC gets 8.6% of produced power\n",
    "uiuc_received = max_produced*0.086\n",
    "\n",
    "print(uiuc_received)"
   ]
  },
  {
   "cell_type": "code",
   "execution_count": null,
   "metadata": {},
   "outputs": [],
   "source": []
  },
  {
   "cell_type": "code",
   "execution_count": 105,
   "metadata": {},
   "outputs": [
    {
     "data": {
      "image/png": "[encoded data removed]",
      "text/plain": [
       "<Figure size 864x648 with 1 Axes>"
      ]
     },
     "metadata": {},
     "output_type": "display_data"
    }
   ],
   "source": [
    "fig = plt.figure(figsize=(12,9), facecolor='w', edgecolor='k')\n",
    "plt.plot(typical_wind['date'], typical_wind['power'])\n",
    "plt.xlabel('Date',fontsize=24)\n",
    "plt.ylabel('Power [MWe]',fontsize=24)\n",
    "plt.title('Typical Wind Power Received by UIUC',fontsize=32)\n",
    "plt.show()"
   ]
  },
  {
   "cell_type": "markdown",
   "metadata": {},
   "source": [
    "When the analysis is finished we can safely delete the built files from the local directory"
   ]
  },
  {
   "cell_type": "code",
   "execution_count": 101,
   "metadata": {},
   "outputs": [],
   "source": [
    "# delete built files\n",
    "!rm -rf *.xml *.csv"
   ]
  },
  {
   "cell_type": "code",
   "execution_count": 102,
   "metadata": {},
   "outputs": [
    {
     "name": "stdout",
     "output_type": "stream",
     "text": [
      "data_funcs.py  __pycache__  tests  wind_power.ipynb\r\n"
     ]
    }
   ],
   "source": [
    "!ls"
   ]
  },
  {
   "cell_type": "code",
   "execution_count": null,
   "metadata": {},
   "outputs": [],
   "source": []
  }
 ],
 "metadata": {
  "kernelspec": {
   "display_name": "Python 3",
   "language": "python",
   "name": "python3"
  },
  "language_info": {
   "codemirror_mode": {
    "name": "ipython",
    "version": 3
   },
   "file_extension": ".py",
   "mimetype": "text/x-python",
   "name": "python",
   "nbconvert_exporter": "python",
   "pygments_lexer": "ipython3",
   "version": "3.6.9"
  }
 },
 "nbformat": 4,
 "nbformat_minor": 2
}
