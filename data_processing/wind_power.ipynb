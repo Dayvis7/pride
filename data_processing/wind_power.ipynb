{
 "cells": [
  {
   "cell_type": "markdown",
   "metadata": {},
   "source": [
    "# Generate Synthetic Time Histories for Wind Power Generation\n",
    "\n",
    "## Background: \n",
    "The University of Illinois has a power purchase agreement with Rail Splitter Wind Farm in Lincoln, IL. \n",
    "\n",
    "* The wind farm has a capacity of 100.5 MW from 67 GE 1.5 MW wind turbines.\n",
    "* UIUC buys 8.6% of power generated at 4 cents/kWh or $\\$4$/MWh\n",
    "* The agreement is for 10 years (2016-2026). \n",
    "* Info about the specific wind turbines is available here: https://en.wind-turbine-models.com/turbines/655-general-electric-ge-1.5sle\n",
    "\n",
    "\n",
    "## About the data\n",
    "\n",
    "The data used in this analysis was obtained from a subdivision of the National Oceanic and Atmospheric Administration (NOAA), National Centers for Environmental Information (NECI). The data was collected by a land-based weather station located at the Lincoln Illinois Airport for the years of 2010-2019. \n",
    "\n",
    "https://www.ncdc.noaa.gov/data-access\n",
    "\n",
    "The data is stored on Box rather than locally. "
   ]
  },
  {
   "cell_type": "markdown",
   "metadata": {},
   "source": [
    "## Set up the Box API to access data\n",
    "\n",
    "These cells with Box API commands have been converted to raw text so they won't accidentally be run. To convert back to runnable cells: \n",
    "\n",
    "``enter`` (enters command mode)\n",
    "\n",
    "``y`` (converts selected cell to code)"
   ]
  },
  {
   "cell_type": "raw",
   "metadata": {},
   "source": [
    "%%capture \n",
    "!pip install boxsdk\n",
    "# %%capture captures the output from pip install... comment out if there are installation issues."
   ]
  },
  {
   "cell_type": "raw",
   "metadata": {},
   "source": [
    "from boxsdk import Client, OAuth2\n",
    "\n",
    "# Defines client ID, secrete, and developer token\n",
    "CLIENT_ID = 'ey8yzp3yxanb3jjujb2s95c1bnouz2o8'\n",
    "CLIENT_SECRET = 'VGGJjHGWfBm0MHq1xIqncxZDolelVIDP'\n",
    "ACCESS_TOKEN = 'RDQLBOw7M8wah5JxZk8Yxm6VLmsjyNM9' # only valid for 60 minutes...?\n",
    "\n",
    "# Creates the client instance\n",
    "oauth2 = OAuth2(CLIENT_ID, CLIENT_SECRET, access_token=ACCESS_TOKEN)\n",
    "\n",
    "client = Client(oauth2)"
   ]
  },
  {
   "cell_type": "raw",
   "metadata": {},
   "source": [
    "# Folder IDs \n",
    "gridload_id = 92229909420\n",
    "solarfarm_id = 92974470362\n",
    "solarmodel_id = 92182116657\n",
    "steam_id = 92620146668\n",
    "weather_id = 90175362988"
   ]
  },
  {
   "cell_type": "raw",
   "metadata": {},
   "source": [
    "weather_folder = client.folder(folder_id=weather_id).get_items()\n",
    "for data in weather_folder:\n",
    "    print('{0} {1} is named \"{2}\"'.format(data.type.capitalize(), data.id, data.name))"
   ]
  },
  {
   "cell_type": "markdown",
   "metadata": {},
   "source": [
    "#### A better way to obtain the data...? \n",
    "Since there is a specific file in Box that I am manipulating here, why not try using ``$curl`` with a shared link?\n",
    "\n",
    "First attempt: nothing downloaded.\n",
    "\n",
    "Solution: add ``-L`` flag to force the download by following redirects.\n",
    "\n",
    "This downloads the links... not the data. Not sure how to resolve at this point. It takes about 30 seconds to obtain a new developer key from box. But I want to be able to run this notebook without that (open source, right?) and I'm not sure how at this point (12/18/2019). "
   ]
  },
  {
   "cell_type": "raw",
   "metadata": {},
   "source": [
    "!rm -rf lincoln_weather.csv\n",
    "\n",
    "# where the data will be downloaded\n",
    "path = './lincoln_weather.csv'\n",
    "\n",
    "# downloads the data\n",
    "!curl -X GET https://uofi.box.com/s/3b4498ua7fziof4ex3fu75zfcvio0h1l --output lincoln_weather.csv \\\n",
    "    -H \"Authorization: BoxAuth api_key=API_KEY&auth_token=AUTH_TOKEN\"\n",
    "\n",
    "# read data as pandas dataframe\n",
    "import pandas as pd\n",
    "lincoln_wind = pd.read_csv(path, usecols=['HourlyWindSpeed', 'HourlyDryBulbTemperature', \n",
    "                                          'HourlyStationPressure','HourlyRelativeHumidity',\n",
    "                                          'DATE'])\n",
    "\n",
    "# Removes the file from the local directory\n",
    "!rm -rf lincoln_weather.csv"
   ]
  },
  {
   "cell_type": "raw",
   "metadata": {},
   "source": [
    "# convert to runnable cell by going to command mode --> y\n",
    "# Gets the file with the data\n",
    "lincoln_file = client.file(file_id=578216725033)\n",
    "\n",
    "# Import to a pandas dataframe\n",
    "import pandas as pd\n",
    "\n",
    "path = './lincoln_weather.csv'\n",
    "with open(path, 'wb') as file:\n",
    "    lincoln_file.download_to(file)\n",
    "\n",
    "lincoln_wind = pd.read_csv(path, usecols=['HourlyWindSpeed', 'HourlyDryBulbTemperature', \n",
    "                                          'HourlyStationPressure','HourlyRelativeHumidity',\n",
    "                                          'DATE'])\n",
    "\n",
    "# Removes the file from the local directory\n",
    "!rm -rf lincoln_weather.csv\n",
    "\n",
    "# when I'm using a windows computer \n",
    "# !del lincoln_weather.csv"
   ]
  },
  {
   "cell_type": "markdown",
   "metadata": {},
   "source": [
    "#### Simplest way to obtain data... download to local computer. "
   ]
  },
  {
   "cell_type": "code",
   "execution_count": 1,
   "metadata": {},
   "outputs": [],
   "source": [
    "# Import necessary libraries\n",
    "import pandas as pd\n",
    "import matplotlib.pyplot as plt\n",
    "import numpy as np\n",
    "from data_funcs import to_float"
   ]
  },
  {
   "cell_type": "code",
   "execution_count": 2,
   "metadata": {},
   "outputs": [
    {
     "name": "stderr",
     "output_type": "stream",
     "text": [
      "/home/dotson/anaconda3/lib/python3.6/site-packages/IPython/core/interactiveshell.py:3058: DtypeWarning: Columns (43,51,56) have mixed types. Specify dtype option on import or set low_memory=False.\n",
      "  interactivity=interactivity, compiler=compiler, result=result)\n"
     ]
    }
   ],
   "source": [
    "path = '../../data/'\n",
    "lincoln_wind = pd.read_csv(path+'lincoln_weather.csv', usecols=['HourlyWindSpeed', 'HourlyDryBulbTemperature', \n",
    "                                          'HourlyStationPressure','HourlyRelativeHumidity',\n",
    "                                          'DATE'])"
   ]
  },
  {
   "cell_type": "code",
   "execution_count": 3,
   "metadata": {},
   "outputs": [],
   "source": [
    "# convert to datetime\n",
    "lincoln_wind.DATE = pd.to_datetime(lincoln_wind.DATE)\n",
    "\n",
    "# rename columns\n",
    "lincoln_wind.rename(columns={'DATE':'time',\n",
    "                             'HourlyDryBulbTemperature': 'temp',\n",
    "                             'HourlyRelativeHumidity':'RH', \n",
    "                             'HourlyStationPressure':'pressure',\n",
    "                             'HourlyWindSpeed': 'u'}, inplace=True)"
   ]
  },
  {
   "cell_type": "code",
   "execution_count": 4,
   "metadata": {},
   "outputs": [],
   "source": [
    "# Verify that the dataframe has float values\n",
    "lincoln_wind = to_float(lincoln_wind, 'temp')\n",
    "lincoln_wind = to_float(lincoln_wind, 'u')\n",
    "lincoln_wind = to_float(lincoln_wind, 'RH')\n",
    "lincoln_wind = to_float(lincoln_wind, 'pressure')\n",
    "\n",
    "lincoln_wind.index = pd.to_datetime(lincoln_wind.time)\n"
   ]
  },
  {
   "cell_type": "code",
   "execution_count": 5,
   "metadata": {},
   "outputs": [
    {
     "name": "stdout",
     "output_type": "stream",
     "text": [
      "The data frame is missing values: True\n",
      "The data frame is missing values: False\n"
     ]
    }
   ],
   "source": [
    "# check if there are NaN values\n",
    "print(\"The data frame is missing values:\", lincoln_wind.isnull().values.any())\n",
    "\n",
    "# interpolate\n",
    "lincoln_wind = lincoln_wind.interpolate(method='linear')\n",
    "\n",
    "# check if there are NaN values\n",
    "print(\"The data frame is missing values:\", lincoln_wind.isnull().values.any())"
   ]
  },
  {
   "cell_type": "code",
   "execution_count": 6,
   "metadata": {},
   "outputs": [],
   "source": [
    "# resample by hour to get single measurements for each hour\n",
    "lincoln_wind = lincoln_wind.resample('H').mean()"
   ]
  },
  {
   "cell_type": "markdown",
   "metadata": {},
   "source": [
    "## Calculate the Power to Campus\n",
    "\n",
    "This analysis will use the following model from \n",
    ">H. E. Garcia et al., “Nuclear Hybrid Energy Systems Regional Studies: West Texas & Northeastern Arizona,” Idaho National Lab. (INL), Idaho Falls, ID (United States), INL/EXT-15-34503, Apr. 2015.\n",
    "\n",
    "#### Operating Regimes\n",
    "* Above the cut-out and below the cut-in speeds, the turbines produce no power. \n",
    "* Between the rated speed and the cut-out speeds the turbines produce a constant rated power.\n",
    "* Between the cut-in speed and the rated speeds the turbines produce power given by \n",
    "\n",
    "$P = 0.5\\eta\\rho U_h^3\\frac{\\pi d^2}{4} [\\text{W}_e]$\n",
    "\n",
    "_(in Baker et. al they claim this formula gives the value in MW, this appears to be untrue)_\n",
    "\n",
    "where \n",
    "* $\\eta$ is the conversion efficiency (not given for these turbines, so we assume 35%)\n",
    "* $\\rho$ is the density of air at the location (based on temperature)\n",
    "* $d$ is the diameter of the turbine (2 x blade length). \n",
    "\n",
    "\n",
    "The density of air, $\\rho$, can be calculated with the following: \n",
    "\n",
    "$\\rho = \\frac{P_{dry}}{R_{dry}T} + \\frac{P_{vapor}}{R_{vapor}T}$\n",
    "\n",
    "The vapor pressure $P_{vapor}$ can be calculated using the Clausius-Clapeyron Equation which gives the saturation vapor pressure over water.\n",
    "\n",
    "$P_{vapor} = e_s * RH$\n",
    "\n",
    "$e_s = 0.6112e^{\\frac{17.67T}{T+243.5}} [\\text{kPa}]$\n",
    ">Iribarne, J. V., and W. L. Godson 1981. Atmospheric Thermodynamics. D. Reidel, . p. 65.\n",
    "\n",
    "* $T$ : Temperature in $^\\circ C$\n",
    "* $R_{dry}$ : 287.058 J/(kg·K)\n",
    "* $R_{vapor}$ : 461.495 J/(kg·K)\n",
    "* $RH$ : Relative Humidity\n"
   ]
  },
  {
   "cell_type": "markdown",
   "metadata": {},
   "source": [
    "### Solving the Units Problem\n",
    "\n",
    "The model given by Baker et. al is supposedly in MWe. However the results from this do not produce values similar to the values stated by Rail Splitter. \n",
    "\n",
    "\n",
    "Rail Splitter's Claim:\n",
    ">In November 2016, the campus received nearly 2400 MWh based on actual wind farm speeds.\n",
    "\n",
    "Let's nail this down by isolating the wind speed data from November 2016\n",
    "\n",
    "\n",
    "The model proposed by Garcia et. al corresponds the kinetic energy of wind to power produced. Start with \n",
    "\n",
    "1. $P = \\frac{1}{2}\\dot{m}U^2$ with units of $[W] = \\frac{[J]}{[s]} = \\frac{[N][m]}{[s]} = \\frac{[kg][m]^2}{[s^3]}$\n",
    "\n",
    "The mass flux through the wind turbines is given by: \n",
    "\n",
    "2. $\\dot{m} = \\rho A_f U$ with units of $\\frac{[kg]}{[m^3]}[m^2]\\frac{[m]}{[s]} = \\frac{[kg]}{[s]}$\n",
    "\n",
    "Plug (2) into (1) \n",
    "\n",
    "3. $P = \\frac{1}{2} (\\rho A_f U)U^2$\n",
    "\n",
    "In order to obtain the model from Garcia et. al we must multiply by a conversion factor, $\\eta$ because we cannot use 100% of the energy stored in wind. We can also replace the flow area, $A_f$, by $\\frac{\\pi d^2}{4}$ because that is the cross section area of the turbine. \n",
    "Finally, \n",
    "\n",
    "4. $P = \\frac{1}{2}\\eta\\rho \\frac{\\pi d^2}{4}U^3$"
   ]
  },
  {
   "cell_type": "markdown",
   "metadata": {},
   "source": [
    "### Solving the mismatch between Rail Splitter's claim and the data from Lincoln Airport\n",
    "\n",
    "At the moment (12/22/19) the largest value for MW from the real data I curated was ~660 MWe. This is in stark contrast to Rail Splitter Wind Farm's stated 2400 MWe in November 2016. It is highly unlikely that there is a criminal conspiracy here so there must be something wrong with either: \n",
    "1. How I'm calculating power\n",
    "2. The wind speeds I am using\n",
    "Initially, I thought that the error must lie with how I was calculating power. After going through the quick derivation above, I am confident my calculations are correct. Thus there must be something wrong with the data. After some thought, there is actually nothing _wrong_ with the data, but it is likely that the wind speed measurements were taken somewhere around 10m above the ground, while the hub height of the wind turbines is around 60m. Wind speeds can be significantly greater at higher altitudes. \n",
    "After much digging, I found a way to extrapolate the wind speed to higher altitudes using a ''log law'' from \n",
    "\n",
    "J. F. Manwell, J. G. McGowan, and A. L. Rogers, Wind Energy Explained: Theory, Design and Application, 2nd ed. Wiley, 2010.\n",
    "\n",
    "and criteria for roughness lengths from the European Wind Atlas, \n",
    "\n",
    "I. Troen and E. L. Petersen, European Wind Atlas. Commission of the European Communities Directorate-General for Science, 1989.\n",
    "\n",
    "The formula is\n",
    "\n",
    "$v \\approx v_{ref}\\frac{\\ln\\left(\\frac{z}{z_0}\\right)}{\\ln\\left(\\frac{z_{ref}}{z_0}\\right)}$\n",
    "\n",
    "where\n",
    "* $z_{ref}$ is the reference height, in our case we are _assuming_ 10m.\n",
    "* $v_{ref}$ is the wind speed at the reference height.\n",
    "* $z_0$ is the roughness length for a certain terrain type as outlined in the Europen Wind Atlas (EWA).\n",
    "* $z$ is the height of interest. In this case we are interested in 50-60m. \n",
    "\n",
    "Because the wind speed measurements were taken at an airport, we will start by using $z_0 = 0.0024$ from EWA. "
   ]
  },
  {
   "cell_type": "code",
   "execution_count": 7,
   "metadata": {},
   "outputs": [],
   "source": [
    "# convert windspeed to m/s from mph\n",
    "\n",
    "to_ms = lambda u: u/2.237\n",
    "lincoln_wind['u'] = lincoln_wind['u'].apply(to_ms)"
   ]
  },
  {
   "cell_type": "code",
   "execution_count": 8,
   "metadata": {},
   "outputs": [
    {
     "data": {
      "text/html": [
       "<div>\n",
       "<style scoped>\n",
       "    .dataframe tbody tr th:only-of-type {\n",
       "        vertical-align: middle;\n",
       "    }\n",
       "\n",
       "    .dataframe tbody tr th {\n",
       "        vertical-align: top;\n",
       "    }\n",
       "\n",
       "    .dataframe thead th {\n",
       "        text-align: right;\n",
       "    }\n",
       "</style>\n",
       "<table border=\"1\" class=\"dataframe\">\n",
       "  <thead>\n",
       "    <tr style=\"text-align: right;\">\n",
       "      <th></th>\n",
       "      <th>temp</th>\n",
       "      <th>RH</th>\n",
       "      <th>pressure</th>\n",
       "      <th>u</th>\n",
       "      <th>u_ex</th>\n",
       "    </tr>\n",
       "    <tr>\n",
       "      <th>time</th>\n",
       "      <th></th>\n",
       "      <th></th>\n",
       "      <th></th>\n",
       "      <th></th>\n",
       "      <th></th>\n",
       "    </tr>\n",
       "  </thead>\n",
       "  <tbody>\n",
       "    <tr>\n",
       "      <td>2010-12-11 00:00:00</td>\n",
       "      <td>34.333333</td>\n",
       "      <td>90.666667</td>\n",
       "      <td>29.306667</td>\n",
       "      <td>2.682164</td>\n",
       "      <td>9.205223</td>\n",
       "    </tr>\n",
       "    <tr>\n",
       "      <td>2010-12-11 01:00:00</td>\n",
       "      <td>32.000000</td>\n",
       "      <td>95.333333</td>\n",
       "      <td>29.293333</td>\n",
       "      <td>2.533155</td>\n",
       "      <td>8.693822</td>\n",
       "    </tr>\n",
       "    <tr>\n",
       "      <td>2010-12-11 02:00:00</td>\n",
       "      <td>33.000000</td>\n",
       "      <td>95.333333</td>\n",
       "      <td>29.283333</td>\n",
       "      <td>3.725227</td>\n",
       "      <td>12.785032</td>\n",
       "    </tr>\n",
       "    <tr>\n",
       "      <td>2010-12-11 03:00:00</td>\n",
       "      <td>34.000000</td>\n",
       "      <td>91.666667</td>\n",
       "      <td>29.270000</td>\n",
       "      <td>3.427209</td>\n",
       "      <td>11.762229</td>\n",
       "    </tr>\n",
       "    <tr>\n",
       "      <td>2010-12-11 04:00:00</td>\n",
       "      <td>34.000000</td>\n",
       "      <td>93.000000</td>\n",
       "      <td>29.250000</td>\n",
       "      <td>2.980182</td>\n",
       "      <td>10.228026</td>\n",
       "    </tr>\n",
       "  </tbody>\n",
       "</table>\n",
       "</div>"
      ],
      "text/plain": [
       "                          temp         RH   pressure         u       u_ex\n",
       "time                                                                     \n",
       "2010-12-11 00:00:00  34.333333  90.666667  29.306667  2.682164   9.205223\n",
       "2010-12-11 01:00:00  32.000000  95.333333  29.293333  2.533155   8.693822\n",
       "2010-12-11 02:00:00  33.000000  95.333333  29.283333  3.725227  12.785032\n",
       "2010-12-11 03:00:00  34.000000  91.666667  29.270000  3.427209  11.762229\n",
       "2010-12-11 04:00:00  34.000000  93.000000  29.250000  2.980182  10.228026"
      ]
     },
     "execution_count": 8,
     "metadata": {},
     "output_type": "execute_result"
    }
   ],
   "source": [
    "# extrapolate windspeeds to a height of 50m\n",
    "# z0 = 0.0024 # [m]\n",
    "z0 = 0.165 # changing the roughness class to see if it improves the data\n",
    "z = 80 # [m] increased the height from 50 --> 80, 50 gave 365 MW\n",
    "zref = 1 # [m] lowered the ref height from 10 --> 5 to improve the difference... \n",
    "speed_extrap = lambda v: v*(np.log(z/z0)/np.log(zref/z0))\n",
    "lincoln_wind['u_ex'] = lincoln_wind['u'].apply(speed_extrap)\n",
    "\n",
    "lincoln_wind.head(5)"
   ]
  },
  {
   "cell_type": "code",
   "execution_count": 9,
   "metadata": {},
   "outputs": [],
   "source": [
    "# lincoln_wind[lincoln_wind['u'] >= 11.5]"
   ]
  },
  {
   "cell_type": "code",
   "execution_count": 10,
   "metadata": {},
   "outputs": [],
   "source": [
    "# convert the temperature to Celsius\n",
    "to_celsius = lambda T : (T-32)*5/9\n",
    "\n",
    "lincoln_wind['temp'] = lincoln_wind['temp'].apply(to_celsius)\n",
    "\n",
    "# lincoln_wind"
   ]
  },
  {
   "cell_type": "code",
   "execution_count": 11,
   "metadata": {},
   "outputs": [],
   "source": [
    "# convert pressure to Pascals\n",
    "to_pa = lambda P: P*3386.38867\n",
    "\n",
    "lincoln_wind['pressure'] = lincoln_wind['pressure'].apply(to_pa)\n",
    "\n",
    "# lincoln_wind"
   ]
  },
  {
   "cell_type": "code",
   "execution_count": 12,
   "metadata": {},
   "outputs": [],
   "source": [
    "# calculate air density in g/m^3 --> wrong units.\n",
    "# 12/20/19: Divide by 1000 to get kg/m^3\n",
    "# 12/20/19: Edit 2, the density was already in kg/m^3. \n",
    "\n",
    "# define constants\n",
    "Rv = 461.495\n",
    "Rd = 287.058\n",
    "\n",
    "# define functions\n",
    "es = lambda T: 611.2*np.exp(17.67*T/(T+243.5)) # saturation vapor pressure over water\n",
    "rho = lambda T, P, Rh, Pv: (es(T)*(Rh/100))/(Rv*(T+273.15))+(P-(es(T)*(Rh/100)))/(Rd*(T+273.15)) # density of air \n",
    "\n",
    "\n",
    "density = {'rho':[]}\n",
    "for i in range(len(lincoln_wind)):\n",
    "    T = lincoln_wind.iloc[i]['temp']\n",
    "    P = lincoln_wind.iloc[i]['pressure']\n",
    "    Rh = lincoln_wind.iloc[i]['RH']\n",
    "    Pv = es(T)\n",
    "    density['rho'].append(rho(T, P, Rh, Pv))\n",
    "lincoln_wind['rho'] = density['rho']\n",
    "\n",
    "# lincoln_wind"
   ]
  },
  {
   "cell_type": "code",
   "execution_count": 13,
   "metadata": {},
   "outputs": [],
   "source": [
    "# calculate the power generated\n",
    "\n",
    "# define constants\n",
    "N = 67 # the number of wind turbines\n",
    "d = 77 # [m]\n",
    "r = d/2 # [m]\n",
    "u_in = 3.5 # [m/s]\n",
    "u_out = 25.0 # [m/s]\n",
    "u_ideal = 12 # [m/s]\n",
    "eta = 0.31 # efficiency\n",
    "ppa = 8.6/100 # the percentage of purchased power.\n",
    "pmax = 1.5 # [MW], the rated power for a single turbine\n",
    "\n",
    "P = lambda U, rho: N*ppa*(0.5*eta*rho*(U**3)*(np.pi*r**2))/1e6 # this is in Watts, dividing by 1e6 gives MW\n",
    "\n",
    "# calculate all values of power\n",
    "power = []\n",
    "for i in range(len(lincoln_wind)):\n",
    "    U = lincoln_wind.iloc[i]['u_ex']\n",
    "    rho = lincoln_wind.iloc[i]['rho']\n",
    "    power.append(P(U, rho))\n",
    "lincoln_wind['power'] = power\n",
    "\n",
    "# fix based on cut in and cut out speeds\n",
    "zero = (lincoln_wind.u_ex <= u_in) | (lincoln_wind.u_ex >= u_out)\n",
    "peak = (lincoln_wind.u_ex > u_ideal) & (lincoln_wind.u_ex < u_out)\n",
    "\n",
    "lincoln_wind['power'].mask(zero, 0, inplace=True)\n",
    "lincoln_wind['power'].mask(peak, N*ppa*pmax, inplace=True)"
   ]
  },
  {
   "cell_type": "code",
   "execution_count": 14,
   "metadata": {},
   "outputs": [
    {
     "data": {
      "image/png": "[encoded data removed]",
      "text/plain": [
       "<Figure size 864x648 with 1 Axes>"
      ]
     },
     "metadata": {},
     "output_type": "display_data"
    }
   ],
   "source": [
    "fig = plt.figure(figsize=(12,9), edgecolor='k', facecolor='w')\n",
    "plt.scatter(lincoln_wind['u_ex'], lincoln_wind['power'], lw=0.25, label='calculated power')\n",
    "plt.axvline(x=12,color='r', linestyle='--', label='ideal speed : 12 m/s')\n",
    "plt.xlabel('wind speed (u) [m/s]')\n",
    "plt.ylabel('power [MW]')\n",
    "plt.legend()\n",
    "plt.title(\"Power generated as a function of extrapolated windspeed\")\n",
    "plt.show()"
   ]
  },
  {
   "cell_type": "code",
   "execution_count": 15,
   "metadata": {},
   "outputs": [],
   "source": [
    "over_max = lincoln_wind['power'] > N*ppa*pmax\n",
    "\n",
    "lincoln_wind['power'].mask(over_max, N*ppa*pmax, inplace=True)"
   ]
  },
  {
   "cell_type": "code",
   "execution_count": 16,
   "metadata": {},
   "outputs": [
    {
     "data": {
      "image/png": "[encoded data removed]",
      "text/plain": [
       "<Figure size 864x648 with 1 Axes>"
      ]
     },
     "metadata": {},
     "output_type": "display_data"
    }
   ],
   "source": [
    "fig = plt.figure(figsize=(12,9), edgecolor='k', facecolor='w')\n",
    "plt.scatter(lincoln_wind['u_ex'], lincoln_wind['power'], lw=0.25, label='calculated power')\n",
    "plt.axvline(x=12,color='r', linestyle='--', label='ideal speed : 12 m/s')\n",
    "plt.xlabel('wind speed (u) [m/s]')\n",
    "plt.ylabel('power [MW]')\n",
    "plt.legend()\n",
    "plt.title(\"Power generated as a function of extrapolated windspeed\")\n",
    "plt.show()"
   ]
  },
  {
   "cell_type": "code",
   "execution_count": 17,
   "metadata": {},
   "outputs": [],
   "source": [
    "years = lincoln_wind.groupby(lincoln_wind.index.year)\n",
    "data2016 = years.get_group(2016)\n",
    "months = data2016.groupby(data2016.index.month)\n",
    "november16 = months.get_group(11)\n",
    "\n",
    "# november16"
   ]
  },
  {
   "cell_type": "code",
   "execution_count": 18,
   "metadata": {},
   "outputs": [
    {
     "data": {
      "text/plain": [
       "2402.0302119808935"
      ]
     },
     "execution_count": 18,
     "metadata": {},
     "output_type": "execute_result"
    }
   ],
   "source": [
    "november16['power'].sum()"
   ]
  },
  {
   "cell_type": "code",
   "execution_count": 19,
   "metadata": {},
   "outputs": [
    {
     "data": {
      "image/png": "[encoded data removed]",
      "text/plain": [
       "<Figure size 432x288 with 1 Axes>"
      ]
     },
     "metadata": {
      "needs_background": "light"
     },
     "output_type": "display_data"
    }
   ],
   "source": [
    "november16.plot(kind='scatter', x='u', y='power', lw=0.25)\n",
    "plt.show()"
   ]
  },
  {
   "cell_type": "markdown",
   "metadata": {},
   "source": [
    "## The ''solution'' to the wind speed problem\n",
    "\n",
    "I found a helpful method to extrapolate wind speed to different heights based on a measured velocity and a terrain roughness measure (roughness length). \n",
    "\n",
    "I found that a\n",
    "* $Z_0 = 0.165$ meters\n",
    "* $Z_{ref} = 1$ meter\n",
    "* $Z = 80$ meters\n",
    "gives a reasonable sounding value for the power produced in November 2016 (~2400 MWe). Comparable to the number given by data from Rail Splitter (I am not sure who made the calculation, if it was Rail Splitter or F&S). \n",
    "\n",
    "This ''solution'' has obvious problems. \n",
    "1. It's an approximation\n",
    "2. The roughness length of the measurement site and the wind farm are unknown (and thus a ''best guess''). \n",
    "3. A reference height of one meter is almost totally unrealistic, but that quantity has the largest impact on the speed calculation thus it can't be increased much. \n",
    "It is necessary to strike a balance between the reference height and the roughness length. "
   ]
  },
  {
   "cell_type": "markdown",
   "metadata": {},
   "source": [
    "### Step 2: Group by year"
   ]
  },
  {
   "cell_type": "code",
   "execution_count": 20,
   "metadata": {},
   "outputs": [
    {
     "name": "stdout",
     "output_type": "stream",
     "text": [
      "The data frame is missing values: True\n",
      "The data frame is missing values: False\n"
     ]
    }
   ],
   "source": [
    "# check if there are NaN values\n",
    "print(\"The data frame is missing values:\", lincoln_wind.isnull().values.any())\n",
    "\n",
    "# interpolate\n",
    "lincoln_wind = lincoln_wind.interpolate(method='linear')\n",
    "\n",
    "# check if there are NaN values\n",
    "print(\"The data frame is missing values:\", lincoln_wind.isnull().values.any())"
   ]
  },
  {
   "cell_type": "code",
   "execution_count": 21,
   "metadata": {},
   "outputs": [],
   "source": [
    "# lincoln_w['time'] = lincoln_wind.index\n",
    "\n",
    "\n",
    "# leap years drop the last day. Each year needs to be the same length.\n",
    "grouped = lincoln_wind.groupby(lincoln_wind.index.year)\n",
    "df11 = grouped.get_group(2011)\n",
    "df12 = grouped.get_group(2012)[:8760]\n",
    "df13 = grouped.get_group(2013)\n",
    "df14 = grouped.get_group(2014)\n",
    "df15 = grouped.get_group(2015)\n",
    "df16 = grouped.get_group(2016)[:8760]\n",
    "df17 = grouped.get_group(2017)\n",
    "df18 = grouped.get_group(2018)\n",
    "\n",
    "# create a column of hours\n",
    "df11 = df11.reset_index(drop=True)\n",
    "df12 = df12.reset_index(drop=True)\n",
    "df13 = df13.reset_index(drop=True)\n",
    "df14 = df14.reset_index(drop=True)\n",
    "df15 = df15.reset_index(drop=True)\n",
    "df16 = df16.reset_index(drop=True)\n",
    "df17 = df17.reset_index(drop=True)\n",
    "df18 = df18.reset_index(drop=True)\n",
    "\n",
    "df11['time'] = df11.index\n",
    "df12['time'] = df12.index\n",
    "df13['time'] = df13.index\n",
    "df14['time'] = df14.index\n",
    "df15['time'] = df15.index\n",
    "df16['time'] = df16.index\n",
    "df17['time'] = df17.index\n",
    "df18['time'] = df18.index\n",
    "\n",
    "df11 = df11[['time','power']]\n",
    "df12 = df12[['time','power']]\n",
    "df13 = df13[['time','power']]\n",
    "df14 = df14[['time','power']]\n",
    "df15 = df15[['time','power']]\n",
    "df16 = df16[['time','power']]\n",
    "df17 = df17[['time','power']]\n",
    "df18 = df18[['time','power']]"
   ]
  },
  {
   "cell_type": "code",
   "execution_count": 22,
   "metadata": {},
   "outputs": [],
   "source": [
    "# converts from MW to kW\n",
    "df11['power']=df11['power']*1000 \n",
    "df12['power']=df12['power']*1000 \n",
    "df13['power']=df13['power']*1000 \n",
    "df14['power']=df14['power']*1000 \n",
    "df15['power']=df15['power']*1000 \n",
    "df16['power']=df16['power']*1000 \n",
    "df17['power']=df17['power']*1000 \n",
    "df18['power']=df18['power']*1000 "
   ]
  },
  {
   "cell_type": "code",
   "execution_count": 23,
   "metadata": {},
   "outputs": [],
   "source": [
    "# =============================================\n",
    "# writes the header file for RAVEN\n",
    "fname = 'annual_wind201'\n",
    "wind_keys = [fname + str(i) + '.csv' for i in range(1,9,1)]\n",
    "header_file = pd.DataFrame({'n':np.zeros(len(wind_keys), dtype=np.int8), 'filename':wind_keys})\n",
    "header_file.to_csv(path+'annual_wind_H.csv')\n",
    "# header_file"
   ]
  },
  {
   "cell_type": "code",
   "execution_count": 24,
   "metadata": {},
   "outputs": [],
   "source": [
    "# save the data frames as files that can be passed to RAVEN.\n",
    "df11.to_csv(path+'annual_wind2011.csv')\n",
    "df12.to_csv(path+'annual_wind2012.csv')\n",
    "df13.to_csv(path+'annual_wind2013.csv')\n",
    "df14.to_csv(path+'annual_wind2014.csv')\n",
    "df15.to_csv(path+'annual_wind2015.csv')\n",
    "df16.to_csv(path+'annual_wind2016.csv')\n",
    "df17.to_csv(path+'annual_wind2017.csv')\n",
    "df18.to_csv(path+'annual_wind2018.csv')"
   ]
  },
  {
   "cell_type": "markdown",
   "metadata": {},
   "source": [
    "## Pass the data to RAVEN\n",
    "\n",
    "RAVEN will return a typical year of wind power production."
   ]
  },
  {
   "cell_type": "code",
   "execution_count": 25,
   "metadata": {},
   "outputs": [
    {
     "name": "stdout",
     "output_type": "stream",
     "text": [
      "data_funcs.py\t   __pycache__\t      steam_demand.ipynb  wind_power.ipynb\r\n",
      "grid_demand.ipynb  solar_power.ipynb  tests\r\n"
     ]
    }
   ],
   "source": [
    "!ls"
   ]
  },
  {
   "cell_type": "code",
   "execution_count": 26,
   "metadata": {},
   "outputs": [
    {
     "name": "stdout",
     "output_type": "stream",
     "text": [
      "CONDA\n",
      "raven_libraries          /home/dotson/anaconda3/envs/raven_libraries\n",
      "Running RAVEN in \"opt\" mode.\n",
      "/home/dotson/Research/raven/framework/utils/utils.py:579: DeprecationWarning: the imp module is deprecated in favour of importlib; see the module's documentation for alternative uses\n",
      "  import imp, os.path\n",
      "/home/dotson/anaconda3/envs/raven_libraries/lib/python3.7/site-packages/patsy/constraint.py:13: DeprecationWarning: Using or importing the ABCs from 'collections' instead of from 'collections.abc' is deprecated, and in 3.8 it will stop working\n",
      "  from collections import Mapping\n",
      "/home/dotson/anaconda3/envs/raven_libraries/lib/python3.7/site-packages/statsmodels/base/wrapper.py:100: DeprecationWarning: `formatargspec` is deprecated since Python 3.5. Use `signature` and the `Signature` object directly\n",
      "  defaults=argspec[3])\n",
      "/home/dotson/anaconda3/envs/raven_libraries/lib/python3.7/site-packages/google/protobuf/descriptor.py:47: DeprecationWarning: Using or importing the ABCs from 'collections' instead of from 'collections.abc' is deprecated, and in 3.8 it will stop working\n",
      "  from google.protobuf.pyext import _message\n",
      "/home/dotson/anaconda3/envs/raven_libraries/lib/python3.7/site-packages/tensorflow/python/util/nest.py:824: DeprecationWarning: Using or importing the ABCs from 'collections' instead of from 'collections.abc' is deprecated, and in 3.8 it will stop working\n",
      "  _pywrap_tensorflow.RegisterType(\"Sequence\", _collections.Sequence)\n",
      "/home/dotson/anaconda3/envs/raven_libraries/lib/python3.7/site-packages/tensorflow/python/training/checkpointable/data_structures.py:546: DeprecationWarning: Using or importing the ABCs from 'collections' instead of from 'collections.abc' is deprecated, and in 3.8 it will stop working\n",
      "  class _DictWrapper(Mapping, collections.MutableMapping):\n",
      "/home/dotson/anaconda3/envs/raven_libraries/lib/python3.7/site-packages/tensorflow/python/training/checkpointable/util.py:448: DeprecationWarning: Using or importing the ABCs from 'collections' instead of from 'collections.abc' is deprecated, and in 3.8 it will stop working\n",
      "  class _ObjectIdentitySet(collections.MutableSet):\n",
      "\n",
      "~~~~~~~~~~~~~~~~~~~~~~~~~~~~~~~~~~~~~~~~~~~~~~~~~~~~~~~~~~~~~~~~~~~~~~~~~~~~~~~~\n",
      "\n",
      "      .---.        .------######       #####     ###   ###  ########  ###    ###\n",
      "     /     \\  __  /    --###  ###    ###  ###   ###   ###  ###       #####  ###\n",
      "    / /     \\(  )/    --###  ###    ###   ###  ###   ###  ######    ### ######\n",
      "   //////   ' \\/ `   --#######     #########  ###   ###  ###       ###  #####\n",
      "  //// / // :    :   -###   ###   ###   ###    ######   ####      ###   ####\n",
      " // /   /  /`    '---###    ###  ###   ###      ###    ########  ###    ###\n",
      "//          //..\\\n",
      "===========UU====UU=============================================================\n",
      "           '//||\\`\n",
      "             ''``\n",
      "    \n",
      "\n",
      "Copyright 2017 Battelle Energy Alliance, LLC\n",
      "\n",
      "Licensed under the Apache License, Version 2.0 (the \"License\");\n",
      "you may not use this file except in compliance with the License.\n",
      "You may obtain a copy of the License at\n",
      "\n",
      "http://www.apache.org/licenses/LICENSE-2.0\n",
      "\n",
      "Unless required by applicable law or agreed to in writing, software\n",
      "distributed under the License is distributed on an \"AS IS\" BASIS,\n",
      "WITHOUT WARRANTIES OR CONDITIONS OF ANY KIND, either express or implied.\n",
      "See the License for the specific language governing permissions and\n",
      "limitations under the License.\n",
      "  \n",
      "(    0.00 sec) SIMULATION               : Message         -> Simulation started at 2020-01-17 10:31:54\n",
      "(    0.00 sec) SIMULATION               : Message         -> Global verbosity level is \" debug \"\n",
      "(    0.00 sec) SIMULATION               : DEBUG           -> -- Reading the block: RunInfo        --\n",
      "(    0.00 sec) SIMULATION               : DEBUG           -> -- Reading the block: Files          --\n",
      "(    0.00 sec) SIMULATION               : DEBUG           -> Reading type Input with name power_data\n",
      "(    0.00 sec) UserGenerated File       : DEBUG           -> ------Reading Completed for:\n",
      "(    0.00 sec) UserGenerated File       : DEBUG           ->        Class          : UserGenerated   from <class 'Files.File'>\n",
      "(    0.00 sec) UserGenerated File       : DEBUG           ->        Type           : UserGenerated\n",
      "(    0.00 sec) UserGenerated File       : DEBUG           ->        Name           : power_data\n",
      "(    0.00 sec) UserGenerated File       : DEBUG           ->        Initialization Parameters:\n",
      "(    0.00 sec) UserGenerated File       : DEBUG           ->        Current Setting:\n",
      "(    0.00 sec) SIMULATION               : DEBUG           -> -- Reading the block: Models         --\n",
      "(    0.00 sec) SIMULATION               : DEBUG           -> Reading type PostProcessor with name typicalHistory\n",
      "(    0.00 sec) PostProcessor            : DEBUG           -> ------Reading Completed for:\n",
      "(    0.00 sec) PostProcessor            : DEBUG           ->        Class          : PostProcessor   from <class 'Models.Model.Model'>\n",
      "(    0.00 sec) PostProcessor            : DEBUG           ->        Type           : PostProcessor\n",
      "(    0.00 sec) PostProcessor            : DEBUG           ->        Name           : typicalHistory\n",
      "(    0.00 sec) PostProcessor            : DEBUG           ->        Initialization Parameters:\n",
      "(    0.00 sec) PostProcessor            : DEBUG           ->        subType        : InterfacedPostProcessor\n",
      "(    0.00 sec) PostProcessor            : DEBUG           ->        Current Setting:\n",
      "(    0.00 sec) SIMULATION               : DEBUG           -> -- Reading the block: OutStreams     --\n",
      "(    0.00 sec) SIMULATION               : DEBUG           -> Reading type Print with name TypicalWind\n",
      "(    0.00 sec) OUTSTREAM MANAGER        : DEBUG           -> ------Reading Completed for:\n",
      "(    0.00 sec) OUTSTREAM MANAGER        : DEBUG           ->        Class          : OutStreamPrint  from <class 'OutStreams.OutStreamManager.OutStreamManager'>\n",
      "(    0.00 sec) OUTSTREAM MANAGER        : DEBUG           ->        Type           : OutStreamPrint\n",
      "(    0.00 sec) OUTSTREAM MANAGER        : DEBUG           ->        Name           : TypicalWind\n",
      "(    0.00 sec) OUTSTREAM MANAGER        : DEBUG           ->        Initialization Parameters:\n",
      "(    0.00 sec) OUTSTREAM MANAGER        : DEBUG           ->        Global Class Type                 : OutStreamManager\n",
      "(    0.00 sec) OUTSTREAM MANAGER        : DEBUG           ->        Specialized Class Type            : OutStreamPrint\n",
      "(    0.00 sec) OUTSTREAM MANAGER        : DEBUG           ->        Overwrite output everytime called : True\n",
      "(    0.00 sec) OUTSTREAM MANAGER        : DEBUG           ->        Source Name 0 :: typicalWindPower\n",
      "(    0.00 sec) OUTSTREAM MANAGER        : DEBUG           ->        Current Setting:\n",
      "(    0.00 sec) SIMULATION               : DEBUG           -> -- Reading the block: DataObjects    --\n",
      "(    0.00 sec) SIMULATION               : DEBUG           -> Reading type HistorySet with name raw_power\n",
      "Using param spec \"DataSet\" to read XML node \"HistorySet.\n",
      "(    0.00 sec) HistorySet               : DEBUG           -> ------Reading Completed for:\n",
      "(    0.00 sec) HistorySet               : DEBUG           ->        Class          : HistorySet      from <class 'DataObjects.DataSet.DataSet'>\n",
      "(    0.00 sec) HistorySet               : DEBUG           ->        Type           : HistorySet\n",
      "(    0.00 sec) HistorySet               : DEBUG           ->        Name           : raw_power\n",
      "(    0.00 sec) HistorySet               : DEBUG           ->        Initialization Parameters:\n",
      "(    0.00 sec) HistorySet               : DEBUG           ->        Current Setting:\n",
      "(    0.00 sec) SIMULATION               : DEBUG           -> Reading type HistorySet with name typicalWindPower\n",
      "Using param spec \"DataSet\" to read XML node \"HistorySet.\n",
      "(    0.01 sec) HistorySet               : DEBUG           -> ------Reading Completed for:\n",
      "(    0.01 sec) HistorySet               : DEBUG           ->        Class          : HistorySet      from <class 'DataObjects.DataSet.DataSet'>\n",
      "(    0.01 sec) HistorySet               : DEBUG           ->        Type           : HistorySet\n",
      "(    0.01 sec) HistorySet               : DEBUG           ->        Name           : typicalWindPower\n",
      "(    0.01 sec) HistorySet               : DEBUG           ->        Initialization Parameters:\n",
      "(    0.01 sec) HistorySet               : DEBUG           ->        Current Setting:\n",
      "(    0.01 sec) SIMULATION               : DEBUG           -> -- Reading the block: Steps          --\n",
      "(    0.01 sec) SIMULATION               : DEBUG           -> Reading type IOStep with name read\n",
      "(    0.01 sec) STEP IOCOMBINED          : DEBUG           -> move this tests to base class when it is ready for all the classes\n",
      "(    0.01 sec) STEP IOCOMBINED          : DEBUG           -> ------Reading Completed for:\n",
      "(    0.01 sec) STEP IOCOMBINED          : DEBUG           ->        Class          : IOStep          from <class 'Steps.Step'>\n",
      "(    0.01 sec) STEP IOCOMBINED          : DEBUG           ->        Type           : IOStep\n",
      "(    0.01 sec) STEP IOCOMBINED          : DEBUG           ->        Name           : read\n",
      "(    0.01 sec) STEP IOCOMBINED          : DEBUG           ->        Initialization Parameters:\n",
      "(    0.01 sec) STEP IOCOMBINED          : DEBUG           ->        Sleep time     : 0.005\n",
      "(    0.01 sec) STEP IOCOMBINED          : DEBUG           ->        Initial seed   : None\n",
      "(    0.01 sec) STEP IOCOMBINED          : DEBUG           ->        Output         : Class: DataObjects Type: HistorySet  Global name: raw_power\n",
      "(    0.01 sec) STEP IOCOMBINED          : DEBUG           ->        Input          : Class: Files Type:   Global name: power_data\n",
      "(    0.01 sec) STEP IOCOMBINED          : DEBUG           ->        Current Setting:\n",
      "(    0.01 sec) SIMULATION               : DEBUG           -> Reading type PostProcess with name get_history\n",
      "(    0.01 sec) STEP SINGLERUN           : DEBUG           -> move this tests to base class when it is ready for all the classes\n",
      "(    0.01 sec) STEP SINGLERUN           : DEBUG           -> the mapping used in the model for checking the compatibility of usage should be more similar to self.parList to avoid the double mapping below FIXME\n",
      "(    0.01 sec) STEP SINGLERUN           : DEBUG           -> reactivate check on Input as soon as loadCsv gets out from the PostProcessor models!\n",
      "(    0.01 sec) STEP SINGLERUN           : DEBUG           -> ------Reading Completed for:\n",
      "(    0.01 sec) STEP SINGLERUN           : DEBUG           ->        Class          : PostProcess     from <class 'Steps.SingleRun'>\n",
      "(    0.01 sec) STEP SINGLERUN           : DEBUG           ->        Type           : PostProcess\n",
      "(    0.01 sec) STEP SINGLERUN           : DEBUG           ->        Name           : get_history\n",
      "(    0.01 sec) STEP SINGLERUN           : DEBUG           ->        Initialization Parameters:\n",
      "(    0.01 sec) STEP SINGLERUN           : DEBUG           ->        Sleep time     : 0.005\n",
      "(    0.01 sec) STEP SINGLERUN           : DEBUG           ->        Initial seed   : None\n",
      "(    0.01 sec) STEP SINGLERUN           : DEBUG           ->        Model          : Class: Models Type: PostProcessor  Global name: typicalHistory\n",
      "(    0.01 sec) STEP SINGLERUN           : DEBUG           ->        Input          : Class: DataObjects Type: HistorySet  Global name: raw_power\n",
      "(    0.01 sec) STEP SINGLERUN           : DEBUG           ->        Output         : Class: DataObjects Type: HistorySet  Global name: typicalWindPower\n",
      "(    0.01 sec) STEP SINGLERUN           : DEBUG           ->        Current Setting:\n",
      "(    0.01 sec) SIMULATION               : DEBUG           -> Reading type IOStep with name write\n",
      "(    0.01 sec) STEP IOCOMBINED          : DEBUG           -> move this tests to base class when it is ready for all the classes\n",
      "(    0.01 sec) STEP IOCOMBINED          : DEBUG           -> ------Reading Completed for:\n",
      "(    0.01 sec) STEP IOCOMBINED          : DEBUG           ->        Class          : IOStep          from <class 'Steps.Step'>\n",
      "(    0.01 sec) STEP IOCOMBINED          : DEBUG           ->        Type           : IOStep\n",
      "(    0.01 sec) STEP IOCOMBINED          : DEBUG           ->        Name           : write\n",
      "(    0.01 sec) STEP IOCOMBINED          : DEBUG           ->        Initialization Parameters:\n",
      "(    0.01 sec) STEP IOCOMBINED          : DEBUG           ->        Sleep time     : 0.005\n",
      "(    0.01 sec) STEP IOCOMBINED          : DEBUG           ->        Initial seed   : None\n",
      "(    0.01 sec) STEP IOCOMBINED          : DEBUG           ->        Input          : Class: DataObjects Type: HistorySet  Global name: typicalWindPower\n",
      "(    0.01 sec) STEP IOCOMBINED          : DEBUG           ->        Output         : Class: OutStreams Type: Print  Global name: TypicalWind\n",
      "(    0.01 sec) STEP IOCOMBINED          : DEBUG           ->        Current Setting:\n",
      "(    0.01 sec) SIMULATION               : DEBUG           -> Moving to working directory: /home/dotson/Research/2020-dotson-optimal-sizing/inputfiles/../../data/\n",
      "(    0.01 sec) Job Handler              : DEBUG           -> Setting maxQueueSize to 1\n",
      "(    0.01 sec) SIMULATION               : DEBUG           -> entering the run\n",
      "(    0.01 sec) SIMULATION               : Message         -> -- Beginning step read of type: IOStep                              --\n",
      "(    0.01 sec) STEP IOCOMBINED          : Message         -> ***  Beginning initialization ***\n",
      "(    0.01 sec) STEP IOCOMBINED          : DEBUG           -> jobHandler initialized\n",
      "(    0.01 sec) STEP IOCOMBINED          : Message         -> ***    Initialization done    ***\n",
      "(    0.01 sec) STEP IOCOMBINED          : Message         -> ***       Beginning run       ***\n",
      "(    0.01 sec) HistorySet               : DEBUG           -> Reading data from \"/home/dotson/Research/data/annual_wind_H.csv.csv\"\n"
     ]
    },
    {
     "name": "stdout",
     "output_type": "stream",
     "text": [
      "(    0.02 sec) HistorySet               : DEBUG           -> Reading data from \"/home/dotson/Research/data/annual_wind2011.csv.csv\"\n",
      "(    0.03 sec) HistorySet               : DEBUG           -> Reading data from \"/home/dotson/Research/data/annual_wind2012.csv.csv\"\n",
      "(    0.04 sec) HistorySet               : DEBUG           -> Reading data from \"/home/dotson/Research/data/annual_wind2013.csv.csv\"\n",
      "(    0.05 sec) HistorySet               : DEBUG           -> Reading data from \"/home/dotson/Research/data/annual_wind2014.csv.csv\"\n",
      "(    0.06 sec) HistorySet               : DEBUG           -> Reading data from \"/home/dotson/Research/data/annual_wind2015.csv.csv\"\n",
      "(    0.07 sec) HistorySet               : DEBUG           -> Reading data from \"/home/dotson/Research/data/annual_wind2016.csv.csv\"\n",
      "(    0.08 sec) HistorySet               : DEBUG           -> Reading data from \"/home/dotson/Research/data/annual_wind2017.csv.csv\"\n",
      "(    0.08 sec) HistorySet               : DEBUG           -> Reading data from \"/home/dotson/Research/data/annual_wind2018.csv.csv\"\n",
      "(    0.09 sec) STEP IOCOMBINED          : Message         -> ***       Run finished        ***\n",
      "(    0.09 sec) STEP IOCOMBINED          : Message         -> ***     Closing the step      ***\n",
      "(    0.09 sec) STEP IOCOMBINED          : Message         -> ***        Step closed        ***\n",
      "(    0.09 sec) SIMULATION               : Message         -> -- End step read of type: IOStep                               --\n",
      "\n",
      "(    0.09 sec) SIMULATION               : Message         -> -- Beginning step get_history of type: PostProcess                  --\n",
      "(    0.09 sec) STEP SINGLERUN           : Message         -> ***  Beginning initialization ***\n",
      "(    0.09 sec) STEP SINGLERUN           : DEBUG           -> jobHandler initialized\n",
      "(    0.09 sec) STEP SINGLERUN           : DEBUG           -> for the role Model  the item of class PostProcessor   and name typicalHistory  has been initialized\n",
      "(    0.09 sec) STEP SINGLERUN           : DEBUG           -> for the role Output the item of class HistorySet      and name typicalWindPower has been initialized\n",
      "(    0.09 sec) STEP SINGLERUN           : Message         -> ***    Initialization done    ***\n",
      "(    0.09 sec) STEP SINGLERUN           : Message         -> ***       Beginning run       ***\n",
      "(    0.10 sec) HistorySet               : Warning         -> DataObject._convertToDict can be a slow operation and should be avoided where possible!\n",
      "(    0.11 sec) PostProcessor            : DEBUG           -> InterfacedPostProcessor Post-Processor typicalHistory : start to run\n",
      "/home/dotson/Research/raven/framework/PostProcessorFunctions/TypicalHistoryFromHistorySet.py:271: VisibleDeprecationWarning: Passing `normed=True` on non-uniform bins has always been broken, and computes neither the probability density function nor the probability mass function. The result is only correct if the bins are uniform, when density=True will produce the same result anyway. The argument will be removed in a future version of numpy.\n",
      "  (counts, _) = np.histogram(data,bins=binEdgesIn,normed=True)\n",
      "/home/dotson/Research/raven/framework/PostProcessorFunctions/TypicalHistoryFromHistorySet.py:271: VisibleDeprecationWarning: Passing `normed=True` on non-uniform bins has always been broken, and computes neither the probability density function nor the probability mass function. The result is only correct if the bins are uniform, when density=True will produce the same result anyway. The argument will be removed in a future version of numpy.\n",
      "  (counts, _) = np.histogram(data,bins=binEdgesIn,normed=True)\n",
      "/home/dotson/Research/raven/framework/PostProcessorFunctions/TypicalHistoryFromHistorySet.py:271: VisibleDeprecationWarning: Passing `normed=True` on non-uniform bins has always been broken, and computes neither the probability density function nor the probability mass function. The result is only correct if the bins are uniform, when density=True will produce the same result anyway. The argument will be removed in a future version of numpy.\n",
      "  (counts, _) = np.histogram(data,bins=binEdgesIn,normed=True)\n",
      "/home/dotson/Research/raven/framework/PostProcessorFunctions/TypicalHistoryFromHistorySet.py:271: VisibleDeprecationWarning: Passing `normed=True` on non-uniform bins has always been broken, and computes neither the probability density function nor the probability mass function. The result is only correct if the bins are uniform, when density=True will produce the same result anyway. The argument will be removed in a future version of numpy.\n",
      "  (counts, _) = np.histogram(data,bins=binEdgesIn,normed=True)\n",
      "/home/dotson/Research/raven/framework/PostProcessorFunctions/TypicalHistoryFromHistorySet.py:271: VisibleDeprecationWarning: Passing `normed=True` on non-uniform bins has always been broken, and computes neither the probability density function nor the probability mass function. The result is only correct if the bins are uniform, when density=True will produce the same result anyway. The argument will be removed in a future version of numpy.\n",
      "  (counts, _) = np.histogram(data,bins=binEdgesIn,normed=True)\n",
      "/home/dotson/Research/raven/framework/PostProcessorFunctions/TypicalHistoryFromHistorySet.py:271: VisibleDeprecationWarning: Passing `normed=True` on non-uniform bins has always been broken, and computes neither the probability density function nor the probability mass function. The result is only correct if the bins are uniform, when density=True will produce the same result anyway. The argument will be removed in a future version of numpy.\n",
      "  (counts, _) = np.histogram(data,bins=binEdgesIn,normed=True)\n",
      "/home/dotson/Research/raven/framework/PostProcessorFunctions/TypicalHistoryFromHistorySet.py:271: VisibleDeprecationWarning: Passing `normed=True` on non-uniform bins has always been broken, and computes neither the probability density function nor the probability mass function. The result is only correct if the bins are uniform, when density=True will produce the same result anyway. The argument will be removed in a future version of numpy.\n",
      "  (counts, _) = np.histogram(data,bins=binEdgesIn,normed=True)\n",
      "/home/dotson/Research/raven/framework/PostProcessorFunctions/TypicalHistoryFromHistorySet.py:271: VisibleDeprecationWarning: Passing `normed=True` on non-uniform bins has always been broken, and computes neither the probability density function nor the probability mass function. The result is only correct if the bins are uniform, when density=True will produce the same result anyway. The argument will be removed in a future version of numpy.\n",
      "  (counts, _) = np.histogram(data,bins=binEdgesIn,normed=True)\n",
      "/home/dotson/Research/raven/framework/PostProcessorFunctions/TypicalHistoryFromHistorySet.py:271: VisibleDeprecationWarning: Passing `normed=True` on non-uniform bins has always been broken, and computes neither the probability density function nor the probability mass function. The result is only correct if the bins are uniform, when density=True will produce the same result anyway. The argument will be removed in a future version of numpy.\n",
      "  (counts, _) = np.histogram(data,bins=binEdgesIn,normed=True)\n",
      "/home/dotson/Research/raven/framework/PostProcessorFunctions/TypicalHistoryFromHistorySet.py:271: VisibleDeprecationWarning: Passing `normed=True` on non-uniform bins has always been broken, and computes neither the probability density function nor the probability mass function. The result is only correct if the bins are uniform, when density=True will produce the same result anyway. The argument will be removed in a future version of numpy.\n",
      "  (counts, _) = np.histogram(data,bins=binEdgesIn,normed=True)\n",
      "/home/dotson/Research/raven/framework/PostProcessorFunctions/TypicalHistoryFromHistorySet.py:271: VisibleDeprecationWarning: Passing `normed=True` on non-uniform bins has always been broken, and computes neither the probability density function nor the probability mass function. The result is only correct if the bins are uniform, when density=True will produce the same result anyway. The argument will be removed in a future version of numpy.\n",
      "  (counts, _) = np.histogram(data,bins=binEdgesIn,normed=True)\n",
      "/home/dotson/Research/raven/framework/PostProcessorFunctions/TypicalHistoryFromHistorySet.py:271: VisibleDeprecationWarning: Passing `normed=True` on non-uniform bins has always been broken, and computes neither the probability density function nor the probability mass function. The result is only correct if the bins are uniform, when density=True will produce the same result anyway. The argument will be removed in a future version of numpy.\n",
      "  (counts, _) = np.histogram(data,bins=binEdgesIn,normed=True)\n",
      "/home/dotson/Research/raven/framework/PostProcessorFunctions/TypicalHistoryFromHistorySet.py:271: VisibleDeprecationWarning: Passing `normed=True` on non-uniform bins has always been broken, and computes neither the probability density function nor the probability mass function. The result is only correct if the bins are uniform, when density=True will produce the same result anyway. The argument will be removed in a future version of numpy.\n",
      "  (counts, _) = np.histogram(data,bins=binEdgesIn,normed=True)\n",
      "/home/dotson/Research/raven/framework/PostProcessorFunctions/TypicalHistoryFromHistorySet.py:271: VisibleDeprecationWarning: Passing `normed=True` on non-uniform bins has always been broken, and computes neither the probability density function nor the probability mass function. The result is only correct if the bins are uniform, when density=True will produce the same result anyway. The argument will be removed in a future version of numpy.\n",
      "  (counts, _) = np.histogram(data,bins=binEdgesIn,normed=True)\n",
      "/home/dotson/Research/raven/framework/PostProcessorFunctions/TypicalHistoryFromHistorySet.py:271: VisibleDeprecationWarning: Passing `normed=True` on non-uniform bins has always been broken, and computes neither the probability density function nor the probability mass function. The result is only correct if the bins are uniform, when density=True will produce the same result anyway. The argument will be removed in a future version of numpy.\n",
      "  (counts, _) = np.histogram(data,bins=binEdgesIn,normed=True)\n",
      "/home/dotson/Research/raven/framework/PostProcessorFunctions/TypicalHistoryFromHistorySet.py:271: VisibleDeprecationWarning: Passing `normed=True` on non-uniform bins has always been broken, and computes neither the probability density function nor the probability mass function. The result is only correct if the bins are uniform, when density=True will produce the same result anyway. The argument will be removed in a future version of numpy.\n",
      "  (counts, _) = np.histogram(data,bins=binEdgesIn,normed=True)\n",
      "/home/dotson/Research/raven/framework/PostProcessorFunctions/TypicalHistoryFromHistorySet.py:271: VisibleDeprecationWarning: Passing `normed=True` on non-uniform bins has always been broken, and computes neither the probability density function nor the probability mass function. The result is only correct if the bins are uniform, when density=True will produce the same result anyway. The argument will be removed in a future version of numpy.\n",
      "  (counts, _) = np.histogram(data,bins=binEdgesIn,normed=True)\n",
      "/home/dotson/Research/raven/framework/PostProcessorFunctions/TypicalHistoryFromHistorySet.py:271: VisibleDeprecationWarning: Passing `normed=True` on non-uniform bins has always been broken, and computes neither the probability density function nor the probability mass function. The result is only correct if the bins are uniform, when density=True will produce the same result anyway. The argument will be removed in a future version of numpy.\n",
      "  (counts, _) = np.histogram(data,bins=binEdgesIn,normed=True)\n",
      "/home/dotson/Research/raven/framework/PostProcessorFunctions/TypicalHistoryFromHistorySet.py:271: VisibleDeprecationWarning: Passing `normed=True` on non-uniform bins has always been broken, and computes neither the probability density function nor the probability mass function. The result is only correct if the bins are uniform, when density=True will produce the same result anyway. The argument will be removed in a future version of numpy.\n",
      "  (counts, _) = np.histogram(data,bins=binEdgesIn,normed=True)\n",
      "/home/dotson/Research/raven/framework/PostProcessorFunctions/TypicalHistoryFromHistorySet.py:271: VisibleDeprecationWarning: Passing `normed=True` on non-uniform bins has always been broken, and computes neither the probability density function nor the probability mass function. The result is only correct if the bins are uniform, when density=True will produce the same result anyway. The argument will be removed in a future version of numpy.\n",
      "  (counts, _) = np.histogram(data,bins=binEdgesIn,normed=True)\n",
      "/home/dotson/Research/raven/framework/PostProcessorFunctions/TypicalHistoryFromHistorySet.py:271: VisibleDeprecationWarning: Passing `normed=True` on non-uniform bins has always been broken, and computes neither the probability density function nor the probability mass function. The result is only correct if the bins are uniform, when density=True will produce the same result anyway. The argument will be removed in a future version of numpy.\n",
      "  (counts, _) = np.histogram(data,bins=binEdgesIn,normed=True)\n",
      "/home/dotson/Research/raven/framework/PostProcessorFunctions/TypicalHistoryFromHistorySet.py:271: VisibleDeprecationWarning: Passing `normed=True` on non-uniform bins has always been broken, and computes neither the probability density function nor the probability mass function. The result is only correct if the bins are uniform, when density=True will produce the same result anyway. The argument will be removed in a future version of numpy.\n",
      "  (counts, _) = np.histogram(data,bins=binEdgesIn,normed=True)\n",
      "/home/dotson/Research/raven/framework/PostProcessorFunctions/TypicalHistoryFromHistorySet.py:271: VisibleDeprecationWarning: Passing `normed=True` on non-uniform bins has always been broken, and computes neither the probability density function nor the probability mass function. The result is only correct if the bins are uniform, when density=True will produce the same result anyway. The argument will be removed in a future version of numpy.\n",
      "  (counts, _) = np.histogram(data,bins=binEdgesIn,normed=True)\n",
      "/home/dotson/Research/raven/framework/PostProcessorFunctions/TypicalHistoryFromHistorySet.py:271: VisibleDeprecationWarning: Passing `normed=True` on non-uniform bins has always been broken, and computes neither the probability density function nor the probability mass function. The result is only correct if the bins are uniform, when density=True will produce the same result anyway. The argument will be removed in a future version of numpy.\n",
      "  (counts, _) = np.histogram(data,bins=binEdgesIn,normed=True)\n",
      "/home/dotson/Research/raven/framework/PostProcessorFunctions/TypicalHistoryFromHistorySet.py:271: VisibleDeprecationWarning: Passing `normed=True` on non-uniform bins has always been broken, and computes neither the probability density function nor the probability mass function. The result is only correct if the bins are uniform, when density=True will produce the same result anyway. The argument will be removed in a future version of numpy.\n",
      "  (counts, _) = np.histogram(data,bins=binEdgesIn,normed=True)\n",
      "/home/dotson/Research/raven/framework/PostProcessorFunctions/TypicalHistoryFromHistorySet.py:271: VisibleDeprecationWarning: Passing `normed=True` on non-uniform bins has always been broken, and computes neither the probability density function nor the probability mass function. The result is only correct if the bins are uniform, when density=True will produce the same result anyway. The argument will be removed in a future version of numpy.\n",
      "  (counts, _) = np.histogram(data,bins=binEdgesIn,normed=True)\n",
      "/home/dotson/Research/raven/framework/PostProcessorFunctions/TypicalHistoryFromHistorySet.py:271: VisibleDeprecationWarning: Passing `normed=True` on non-uniform bins has always been broken, and computes neither the probability density function nor the probability mass function. The result is only correct if the bins are uniform, when density=True will produce the same result anyway. The argument will be removed in a future version of numpy.\n",
      "  (counts, _) = np.histogram(data,bins=binEdgesIn,normed=True)\n",
      "/home/dotson/Research/raven/framework/PostProcessorFunctions/TypicalHistoryFromHistorySet.py:271: VisibleDeprecationWarning: Passing `normed=True` on non-uniform bins has always been broken, and computes neither the probability density function nor the probability mass function. The result is only correct if the bins are uniform, when density=True will produce the same result anyway. The argument will be removed in a future version of numpy.\n",
      "  (counts, _) = np.histogram(data,bins=binEdgesIn,normed=True)\n",
      "/home/dotson/Research/raven/framework/PostProcessorFunctions/TypicalHistoryFromHistorySet.py:271: VisibleDeprecationWarning: Passing `normed=True` on non-uniform bins has always been broken, and computes neither the probability density function nor the probability mass function. The result is only correct if the bins are uniform, when density=True will produce the same result anyway. The argument will be removed in a future version of numpy.\n",
      "  (counts, _) = np.histogram(data,bins=binEdgesIn,normed=True)\n",
      "/home/dotson/Research/raven/framework/PostProcessorFunctions/TypicalHistoryFromHistorySet.py:271: VisibleDeprecationWarning: Passing `normed=True` on non-uniform bins has always been broken, and computes neither the probability density function nor the probability mass function. The result is only correct if the bins are uniform, when density=True will produce the same result anyway. The argument will be removed in a future version of numpy.\n",
      "  (counts, _) = np.histogram(data,bins=binEdgesIn,normed=True)\n",
      "/home/dotson/Research/raven/framework/PostProcessorFunctions/TypicalHistoryFromHistorySet.py:271: VisibleDeprecationWarning: Passing `normed=True` on non-uniform bins has always been broken, and computes neither the probability density function nor the probability mass function. The result is only correct if the bins are uniform, when density=True will produce the same result anyway. The argument will be removed in a future version of numpy.\n",
      "  (counts, _) = np.histogram(data,bins=binEdgesIn,normed=True)\n",
      "/home/dotson/Research/raven/framework/PostProcessorFunctions/TypicalHistoryFromHistorySet.py:271: VisibleDeprecationWarning: Passing `normed=True` on non-uniform bins has always been broken, and computes neither the probability density function nor the probability mass function. The result is only correct if the bins are uniform, when density=True will produce the same result anyway. The argument will be removed in a future version of numpy.\n",
      "  (counts, _) = np.histogram(data,bins=binEdgesIn,normed=True)\n",
      "/home/dotson/Research/raven/framework/PostProcessorFunctions/TypicalHistoryFromHistorySet.py:271: VisibleDeprecationWarning: Passing `normed=True` on non-uniform bins has always been broken, and computes neither the probability density function nor the probability mass function. The result is only correct if the bins are uniform, when density=True will produce the same result anyway. The argument will be removed in a future version of numpy.\n",
      "  (counts, _) = np.histogram(data,bins=binEdgesIn,normed=True)\n",
      "/home/dotson/Research/raven/framework/PostProcessorFunctions/TypicalHistoryFromHistorySet.py:271: VisibleDeprecationWarning: Passing `normed=True` on non-uniform bins has always been broken, and computes neither the probability density function nor the probability mass function. The result is only correct if the bins are uniform, when density=True will produce the same result anyway. The argument will be removed in a future version of numpy.\n",
      "  (counts, _) = np.histogram(data,bins=binEdgesIn,normed=True)\n",
      "/home/dotson/Research/raven/framework/PostProcessorFunctions/TypicalHistoryFromHistorySet.py:271: VisibleDeprecationWarning: Passing `normed=True` on non-uniform bins has always been broken, and computes neither the probability density function nor the probability mass function. The result is only correct if the bins are uniform, when density=True will produce the same result anyway. The argument will be removed in a future version of numpy.\n",
      "  (counts, _) = np.histogram(data,bins=binEdgesIn,normed=True)\n",
      "/home/dotson/Research/raven/framework/PostProcessorFunctions/TypicalHistoryFromHistorySet.py:271: VisibleDeprecationWarning: Passing `normed=True` on non-uniform bins has always been broken, and computes neither the probability density function nor the probability mass function. The result is only correct if the bins are uniform, when density=True will produce the same result anyway. The argument will be removed in a future version of numpy.\n",
      "  (counts, _) = np.histogram(data,bins=binEdgesIn,normed=True)\n",
      "/home/dotson/Research/raven/framework/PostProcessorFunctions/TypicalHistoryFromHistorySet.py:271: VisibleDeprecationWarning: Passing `normed=True` on non-uniform bins has always been broken, and computes neither the probability density function nor the probability mass function. The result is only correct if the bins are uniform, when density=True will produce the same result anyway. The argument will be removed in a future version of numpy.\n",
      "  (counts, _) = np.histogram(data,bins=binEdgesIn,normed=True)\n",
      "/home/dotson/Research/raven/framework/PostProcessorFunctions/TypicalHistoryFromHistorySet.py:271: VisibleDeprecationWarning: Passing `normed=True` on non-uniform bins has always been broken, and computes neither the probability density function nor the probability mass function. The result is only correct if the bins are uniform, when density=True will produce the same result anyway. The argument will be removed in a future version of numpy.\n",
      "  (counts, _) = np.histogram(data,bins=binEdgesIn,normed=True)\n",
      "/home/dotson/Research/raven/framework/PostProcessorFunctions/TypicalHistoryFromHistorySet.py:271: VisibleDeprecationWarning: Passing `normed=True` on non-uniform bins has always been broken, and computes neither the probability density function nor the probability mass function. The result is only correct if the bins are uniform, when density=True will produce the same result anyway. The argument will be removed in a future version of numpy.\n",
      "  (counts, _) = np.histogram(data,bins=binEdgesIn,normed=True)\n",
      "/home/dotson/Research/raven/framework/PostProcessorFunctions/TypicalHistoryFromHistorySet.py:271: VisibleDeprecationWarning: Passing `normed=True` on non-uniform bins has always been broken, and computes neither the probability density function nor the probability mass function. The result is only correct if the bins are uniform, when density=True will produce the same result anyway. The argument will be removed in a future version of numpy.\n",
      "  (counts, _) = np.histogram(data,bins=binEdgesIn,normed=True)\n",
      "/home/dotson/Research/raven/framework/PostProcessorFunctions/TypicalHistoryFromHistorySet.py:271: VisibleDeprecationWarning: Passing `normed=True` on non-uniform bins has always been broken, and computes neither the probability density function nor the probability mass function. The result is only correct if the bins are uniform, when density=True will produce the same result anyway. The argument will be removed in a future version of numpy.\n",
      "  (counts, _) = np.histogram(data,bins=binEdgesIn,normed=True)\n",
      "/home/dotson/Research/raven/framework/PostProcessorFunctions/TypicalHistoryFromHistorySet.py:271: VisibleDeprecationWarning: Passing `normed=True` on non-uniform bins has always been broken, and computes neither the probability density function nor the probability mass function. The result is only correct if the bins are uniform, when density=True will produce the same result anyway. The argument will be removed in a future version of numpy.\n",
      "  (counts, _) = np.histogram(data,bins=binEdgesIn,normed=True)\n",
      "/home/dotson/Research/raven/framework/PostProcessorFunctions/TypicalHistoryFromHistorySet.py:271: VisibleDeprecationWarning: Passing `normed=True` on non-uniform bins has always been broken, and computes neither the probability density function nor the probability mass function. The result is only correct if the bins are uniform, when density=True will produce the same result anyway. The argument will be removed in a future version of numpy.\n",
      "  (counts, _) = np.histogram(data,bins=binEdgesIn,normed=True)\n",
      "/home/dotson/Research/raven/framework/PostProcessorFunctions/TypicalHistoryFromHistorySet.py:271: VisibleDeprecationWarning: Passing `normed=True` on non-uniform bins has always been broken, and computes neither the probability density function nor the probability mass function. The result is only correct if the bins are uniform, when density=True will produce the same result anyway. The argument will be removed in a future version of numpy.\n",
      "  (counts, _) = np.histogram(data,bins=binEdgesIn,normed=True)\n",
      "/home/dotson/Research/raven/framework/PostProcessorFunctions/TypicalHistoryFromHistorySet.py:271: VisibleDeprecationWarning: Passing `normed=True` on non-uniform bins has always been broken, and computes neither the probability density function nor the probability mass function. The result is only correct if the bins are uniform, when density=True will produce the same result anyway. The argument will be removed in a future version of numpy.\n",
      "  (counts, _) = np.histogram(data,bins=binEdgesIn,normed=True)\n",
      "/home/dotson/Research/raven/framework/PostProcessorFunctions/TypicalHistoryFromHistorySet.py:271: VisibleDeprecationWarning: Passing `normed=True` on non-uniform bins has always been broken, and computes neither the probability density function nor the probability mass function. The result is only correct if the bins are uniform, when density=True will produce the same result anyway. The argument will be removed in a future version of numpy.\n",
      "  (counts, _) = np.histogram(data,bins=binEdgesIn,normed=True)\n",
      "/home/dotson/Research/raven/framework/PostProcessorFunctions/TypicalHistoryFromHistorySet.py:271: VisibleDeprecationWarning: Passing `normed=True` on non-uniform bins has always been broken, and computes neither the probability density function nor the probability mass function. The result is only correct if the bins are uniform, when density=True will produce the same result anyway. The argument will be removed in a future version of numpy.\n",
      "  (counts, _) = np.histogram(data,bins=binEdgesIn,normed=True)\n",
      "/home/dotson/Research/raven/framework/PostProcessorFunctions/TypicalHistoryFromHistorySet.py:271: VisibleDeprecationWarning: Passing `normed=True` on non-uniform bins has always been broken, and computes neither the probability density function nor the probability mass function. The result is only correct if the bins are uniform, when density=True will produce the same result anyway. The argument will be removed in a future version of numpy.\n",
      "  (counts, _) = np.histogram(data,bins=binEdgesIn,normed=True)\n",
      "/home/dotson/Research/raven/framework/PostProcessorFunctions/TypicalHistoryFromHistorySet.py:271: VisibleDeprecationWarning: Passing `normed=True` on non-uniform bins has always been broken, and computes neither the probability density function nor the probability mass function. The result is only correct if the bins are uniform, when density=True will produce the same result anyway. The argument will be removed in a future version of numpy.\n",
      "  (counts, _) = np.histogram(data,bins=binEdgesIn,normed=True)\n",
      "/home/dotson/Research/raven/framework/PostProcessorFunctions/TypicalHistoryFromHistorySet.py:271: VisibleDeprecationWarning: Passing `normed=True` on non-uniform bins has always been broken, and computes neither the probability density function nor the probability mass function. The result is only correct if the bins are uniform, when density=True will produce the same result anyway. The argument will be removed in a future version of numpy.\n",
      "  (counts, _) = np.histogram(data,bins=binEdgesIn,normed=True)\n",
      "/home/dotson/Research/raven/framework/PostProcessorFunctions/TypicalHistoryFromHistorySet.py:271: VisibleDeprecationWarning: Passing `normed=True` on non-uniform bins has always been broken, and computes neither the probability density function nor the probability mass function. The result is only correct if the bins are uniform, when density=True will produce the same result anyway. The argument will be removed in a future version of numpy.\n",
      "  (counts, _) = np.histogram(data,bins=binEdgesIn,normed=True)\n",
      "/home/dotson/Research/raven/framework/PostProcessorFunctions/TypicalHistoryFromHistorySet.py:271: VisibleDeprecationWarning: Passing `normed=True` on non-uniform bins has always been broken, and computes neither the probability density function nor the probability mass function. The result is only correct if the bins are uniform, when density=True will produce the same result anyway. The argument will be removed in a future version of numpy.\n",
      "  (counts, _) = np.histogram(data,bins=binEdgesIn,normed=True)\n",
      "/home/dotson/Research/raven/framework/PostProcessorFunctions/TypicalHistoryFromHistorySet.py:271: VisibleDeprecationWarning: Passing `normed=True` on non-uniform bins has always been broken, and computes neither the probability density function nor the probability mass function. The result is only correct if the bins are uniform, when density=True will produce the same result anyway. The argument will be removed in a future version of numpy.\n",
      "  (counts, _) = np.histogram(data,bins=binEdgesIn,normed=True)\n",
      "/home/dotson/Research/raven/framework/PostProcessorFunctions/TypicalHistoryFromHistorySet.py:271: VisibleDeprecationWarning: Passing `normed=True` on non-uniform bins has always been broken, and computes neither the probability density function nor the probability mass function. The result is only correct if the bins are uniform, when density=True will produce the same result anyway. The argument will be removed in a future version of numpy.\n",
      "  (counts, _) = np.histogram(data,bins=binEdgesIn,normed=True)\n",
      "/home/dotson/Research/raven/framework/PostProcessorFunctions/TypicalHistoryFromHistorySet.py:271: VisibleDeprecationWarning: Passing `normed=True` on non-uniform bins has always been broken, and computes neither the probability density function nor the probability mass function. The result is only correct if the bins are uniform, when density=True will produce the same result anyway. The argument will be removed in a future version of numpy.\n",
      "  (counts, _) = np.histogram(data,bins=binEdgesIn,normed=True)\n",
      "/home/dotson/Research/raven/framework/PostProcessorFunctions/TypicalHistoryFromHistorySet.py:271: VisibleDeprecationWarning: Passing `normed=True` on non-uniform bins has always been broken, and computes neither the probability density function nor the probability mass function. The result is only correct if the bins are uniform, when density=True will produce the same result anyway. The argument will be removed in a future version of numpy.\n",
      "  (counts, _) = np.histogram(data,bins=binEdgesIn,normed=True)\n",
      "/home/dotson/Research/raven/framework/PostProcessorFunctions/TypicalHistoryFromHistorySet.py:271: VisibleDeprecationWarning: Passing `normed=True` on non-uniform bins has always been broken, and computes neither the probability density function nor the probability mass function. The result is only correct if the bins are uniform, when density=True will produce the same result anyway. The argument will be removed in a future version of numpy.\n",
      "  (counts, _) = np.histogram(data,bins=binEdgesIn,normed=True)\n",
      "/home/dotson/Research/raven/framework/PostProcessorFunctions/TypicalHistoryFromHistorySet.py:271: VisibleDeprecationWarning: Passing `normed=True` on non-uniform bins has always been broken, and computes neither the probability density function nor the probability mass function. The result is only correct if the bins are uniform, when density=True will produce the same result anyway. The argument will be removed in a future version of numpy.\n",
      "  (counts, _) = np.histogram(data,bins=binEdgesIn,normed=True)\n",
      "/home/dotson/Research/raven/framework/PostProcessorFunctions/TypicalHistoryFromHistorySet.py:271: VisibleDeprecationWarning: Passing `normed=True` on non-uniform bins has always been broken, and computes neither the probability density function nor the probability mass function. The result is only correct if the bins are uniform, when density=True will produce the same result anyway. The argument will be removed in a future version of numpy.\n",
      "  (counts, _) = np.histogram(data,bins=binEdgesIn,normed=True)\n",
      "/home/dotson/Research/raven/framework/PostProcessorFunctions/TypicalHistoryFromHistorySet.py:271: VisibleDeprecationWarning: Passing `normed=True` on non-uniform bins has always been broken, and computes neither the probability density function nor the probability mass function. The result is only correct if the bins are uniform, when density=True will produce the same result anyway. The argument will be removed in a future version of numpy.\n",
      "  (counts, _) = np.histogram(data,bins=binEdgesIn,normed=True)\n",
      "/home/dotson/Research/raven/framework/PostProcessorFunctions/TypicalHistoryFromHistorySet.py:271: VisibleDeprecationWarning: Passing `normed=True` on non-uniform bins has always been broken, and computes neither the probability density function nor the probability mass function. The result is only correct if the bins are uniform, when density=True will produce the same result anyway. The argument will be removed in a future version of numpy.\n",
      "  (counts, _) = np.histogram(data,bins=binEdgesIn,normed=True)\n",
      "/home/dotson/Research/raven/framework/PostProcessorFunctions/TypicalHistoryFromHistorySet.py:271: VisibleDeprecationWarning: Passing `normed=True` on non-uniform bins has always been broken, and computes neither the probability density function nor the probability mass function. The result is only correct if the bins are uniform, when density=True will produce the same result anyway. The argument will be removed in a future version of numpy.\n",
      "  (counts, _) = np.histogram(data,bins=binEdgesIn,normed=True)\n",
      "/home/dotson/Research/raven/framework/PostProcessorFunctions/TypicalHistoryFromHistorySet.py:271: VisibleDeprecationWarning: Passing `normed=True` on non-uniform bins has always been broken, and computes neither the probability density function nor the probability mass function. The result is only correct if the bins are uniform, when density=True will produce the same result anyway. The argument will be removed in a future version of numpy.\n",
      "  (counts, _) = np.histogram(data,bins=binEdgesIn,normed=True)\n",
      "/home/dotson/Research/raven/framework/PostProcessorFunctions/TypicalHistoryFromHistorySet.py:271: VisibleDeprecationWarning: Passing `normed=True` on non-uniform bins has always been broken, and computes neither the probability density function nor the probability mass function. The result is only correct if the bins are uniform, when density=True will produce the same result anyway. The argument will be removed in a future version of numpy.\n",
      "  (counts, _) = np.histogram(data,bins=binEdgesIn,normed=True)\n",
      "/home/dotson/Research/raven/framework/PostProcessorFunctions/TypicalHistoryFromHistorySet.py:271: VisibleDeprecationWarning: Passing `normed=True` on non-uniform bins has always been broken, and computes neither the probability density function nor the probability mass function. The result is only correct if the bins are uniform, when density=True will produce the same result anyway. The argument will be removed in a future version of numpy.\n",
      "  (counts, _) = np.histogram(data,bins=binEdgesIn,normed=True)\n",
      "/home/dotson/Research/raven/framework/PostProcessorFunctions/TypicalHistoryFromHistorySet.py:271: VisibleDeprecationWarning: Passing `normed=True` on non-uniform bins has always been broken, and computes neither the probability density function nor the probability mass function. The result is only correct if the bins are uniform, when density=True will produce the same result anyway. The argument will be removed in a future version of numpy.\n",
      "  (counts, _) = np.histogram(data,bins=binEdgesIn,normed=True)\n",
      "/home/dotson/Research/raven/framework/PostProcessorFunctions/TypicalHistoryFromHistorySet.py:271: VisibleDeprecationWarning: Passing `normed=True` on non-uniform bins has always been broken, and computes neither the probability density function nor the probability mass function. The result is only correct if the bins are uniform, when density=True will produce the same result anyway. The argument will be removed in a future version of numpy.\n",
      "  (counts, _) = np.histogram(data,bins=binEdgesIn,normed=True)\n",
      "/home/dotson/Research/raven/framework/PostProcessorFunctions/TypicalHistoryFromHistorySet.py:271: VisibleDeprecationWarning: Passing `normed=True` on non-uniform bins has always been broken, and computes neither the probability density function nor the probability mass function. The result is only correct if the bins are uniform, when density=True will produce the same result anyway. The argument will be removed in a future version of numpy.\n",
      "  (counts, _) = np.histogram(data,bins=binEdgesIn,normed=True)\n",
      "/home/dotson/Research/raven/framework/PostProcessorFunctions/TypicalHistoryFromHistorySet.py:271: VisibleDeprecationWarning: Passing `normed=True` on non-uniform bins has always been broken, and computes neither the probability density function nor the probability mass function. The result is only correct if the bins are uniform, when density=True will produce the same result anyway. The argument will be removed in a future version of numpy.\n",
      "  (counts, _) = np.histogram(data,bins=binEdgesIn,normed=True)\n",
      "/home/dotson/Research/raven/framework/PostProcessorFunctions/TypicalHistoryFromHistorySet.py:271: VisibleDeprecationWarning: Passing `normed=True` on non-uniform bins has always been broken, and computes neither the probability density function nor the probability mass function. The result is only correct if the bins are uniform, when density=True will produce the same result anyway. The argument will be removed in a future version of numpy.\n",
      "  (counts, _) = np.histogram(data,bins=binEdgesIn,normed=True)\n",
      "/home/dotson/Research/raven/framework/PostProcessorFunctions/TypicalHistoryFromHistorySet.py:271: VisibleDeprecationWarning: Passing `normed=True` on non-uniform bins has always been broken, and computes neither the probability density function nor the probability mass function. The result is only correct if the bins are uniform, when density=True will produce the same result anyway. The argument will be removed in a future version of numpy.\n",
      "  (counts, _) = np.histogram(data,bins=binEdgesIn,normed=True)\n",
      "/home/dotson/Research/raven/framework/PostProcessorFunctions/TypicalHistoryFromHistorySet.py:271: VisibleDeprecationWarning: Passing `normed=True` on non-uniform bins has always been broken, and computes neither the probability density function nor the probability mass function. The result is only correct if the bins are uniform, when density=True will produce the same result anyway. The argument will be removed in a future version of numpy.\n",
      "  (counts, _) = np.histogram(data,bins=binEdgesIn,normed=True)\n",
      "/home/dotson/Research/raven/framework/PostProcessorFunctions/TypicalHistoryFromHistorySet.py:271: VisibleDeprecationWarning: Passing `normed=True` on non-uniform bins has always been broken, and computes neither the probability density function nor the probability mass function. The result is only correct if the bins are uniform, when density=True will produce the same result anyway. The argument will be removed in a future version of numpy.\n",
      "  (counts, _) = np.histogram(data,bins=binEdgesIn,normed=True)\n",
      "/home/dotson/Research/raven/framework/PostProcessorFunctions/TypicalHistoryFromHistorySet.py:271: VisibleDeprecationWarning: Passing `normed=True` on non-uniform bins has always been broken, and computes neither the probability density function nor the probability mass function. The result is only correct if the bins are uniform, when density=True will produce the same result anyway. The argument will be removed in a future version of numpy.\n",
      "  (counts, _) = np.histogram(data,bins=binEdgesIn,normed=True)\n",
      "/home/dotson/Research/raven/framework/PostProcessorFunctions/TypicalHistoryFromHistorySet.py:271: VisibleDeprecationWarning: Passing `normed=True` on non-uniform bins has always been broken, and computes neither the probability density function nor the probability mass function. The result is only correct if the bins are uniform, when density=True will produce the same result anyway. The argument will be removed in a future version of numpy.\n",
      "  (counts, _) = np.histogram(data,bins=binEdgesIn,normed=True)\n",
      "/home/dotson/Research/raven/framework/PostProcessorFunctions/TypicalHistoryFromHistorySet.py:271: VisibleDeprecationWarning: Passing `normed=True` on non-uniform bins has always been broken, and computes neither the probability density function nor the probability mass function. The result is only correct if the bins are uniform, when density=True will produce the same result anyway. The argument will be removed in a future version of numpy.\n",
      "  (counts, _) = np.histogram(data,bins=binEdgesIn,normed=True)\n",
      "/home/dotson/Research/raven/framework/PostProcessorFunctions/TypicalHistoryFromHistorySet.py:271: VisibleDeprecationWarning: Passing `normed=True` on non-uniform bins has always been broken, and computes neither the probability density function nor the probability mass function. The result is only correct if the bins are uniform, when density=True will produce the same result anyway. The argument will be removed in a future version of numpy.\n",
      "  (counts, _) = np.histogram(data,bins=binEdgesIn,normed=True)\n",
      "/home/dotson/Research/raven/framework/PostProcessorFunctions/TypicalHistoryFromHistorySet.py:271: VisibleDeprecationWarning: Passing `normed=True` on non-uniform bins has always been broken, and computes neither the probability density function nor the probability mass function. The result is only correct if the bins are uniform, when density=True will produce the same result anyway. The argument will be removed in a future version of numpy.\n",
      "  (counts, _) = np.histogram(data,bins=binEdgesIn,normed=True)\n",
      "/home/dotson/Research/raven/framework/PostProcessorFunctions/TypicalHistoryFromHistorySet.py:271: VisibleDeprecationWarning: Passing `normed=True` on non-uniform bins has always been broken, and computes neither the probability density function nor the probability mass function. The result is only correct if the bins are uniform, when density=True will produce the same result anyway. The argument will be removed in a future version of numpy.\n",
      "  (counts, _) = np.histogram(data,bins=binEdgesIn,normed=True)\n",
      "/home/dotson/Research/raven/framework/PostProcessorFunctions/TypicalHistoryFromHistorySet.py:271: VisibleDeprecationWarning: Passing `normed=True` on non-uniform bins has always been broken, and computes neither the probability density function nor the probability mass function. The result is only correct if the bins are uniform, when density=True will produce the same result anyway. The argument will be removed in a future version of numpy.\n",
      "  (counts, _) = np.histogram(data,bins=binEdgesIn,normed=True)\n",
      "/home/dotson/Research/raven/framework/PostProcessorFunctions/TypicalHistoryFromHistorySet.py:271: VisibleDeprecationWarning: Passing `normed=True` on non-uniform bins has always been broken, and computes neither the probability density function nor the probability mass function. The result is only correct if the bins are uniform, when density=True will produce the same result anyway. The argument will be removed in a future version of numpy.\n",
      "  (counts, _) = np.histogram(data,bins=binEdgesIn,normed=True)\n",
      "/home/dotson/Research/raven/framework/PostProcessorFunctions/TypicalHistoryFromHistorySet.py:271: VisibleDeprecationWarning: Passing `normed=True` on non-uniform bins has always been broken, and computes neither the probability density function nor the probability mass function. The result is only correct if the bins are uniform, when density=True will produce the same result anyway. The argument will be removed in a future version of numpy.\n",
      "  (counts, _) = np.histogram(data,bins=binEdgesIn,normed=True)\n",
      "/home/dotson/Research/raven/framework/PostProcessorFunctions/TypicalHistoryFromHistorySet.py:271: VisibleDeprecationWarning: Passing `normed=True` on non-uniform bins has always been broken, and computes neither the probability density function nor the probability mass function. The result is only correct if the bins are uniform, when density=True will produce the same result anyway. The argument will be removed in a future version of numpy.\n",
      "  (counts, _) = np.histogram(data,bins=binEdgesIn,normed=True)\n",
      "/home/dotson/Research/raven/framework/PostProcessorFunctions/TypicalHistoryFromHistorySet.py:271: VisibleDeprecationWarning: Passing `normed=True` on non-uniform bins has always been broken, and computes neither the probability density function nor the probability mass function. The result is only correct if the bins are uniform, when density=True will produce the same result anyway. The argument will be removed in a future version of numpy.\n",
      "  (counts, _) = np.histogram(data,bins=binEdgesIn,normed=True)\n",
      "/home/dotson/Research/raven/framework/PostProcessorFunctions/TypicalHistoryFromHistorySet.py:271: VisibleDeprecationWarning: Passing `normed=True` on non-uniform bins has always been broken, and computes neither the probability density function nor the probability mass function. The result is only correct if the bins are uniform, when density=True will produce the same result anyway. The argument will be removed in a future version of numpy.\n",
      "  (counts, _) = np.histogram(data,bins=binEdgesIn,normed=True)\n",
      "/home/dotson/Research/raven/framework/PostProcessorFunctions/TypicalHistoryFromHistorySet.py:271: VisibleDeprecationWarning: Passing `normed=True` on non-uniform bins has always been broken, and computes neither the probability density function nor the probability mass function. The result is only correct if the bins are uniform, when density=True will produce the same result anyway. The argument will be removed in a future version of numpy.\n",
      "  (counts, _) = np.histogram(data,bins=binEdgesIn,normed=True)\n",
      "/home/dotson/Research/raven/framework/PostProcessorFunctions/TypicalHistoryFromHistorySet.py:271: VisibleDeprecationWarning: Passing `normed=True` on non-uniform bins has always been broken, and computes neither the probability density function nor the probability mass function. The result is only correct if the bins are uniform, when density=True will produce the same result anyway. The argument will be removed in a future version of numpy.\n",
      "  (counts, _) = np.histogram(data,bins=binEdgesIn,normed=True)\n",
      "/home/dotson/Research/raven/framework/PostProcessorFunctions/TypicalHistoryFromHistorySet.py:271: VisibleDeprecationWarning: Passing `normed=True` on non-uniform bins has always been broken, and computes neither the probability density function nor the probability mass function. The result is only correct if the bins are uniform, when density=True will produce the same result anyway. The argument will be removed in a future version of numpy.\n",
      "  (counts, _) = np.histogram(data,bins=binEdgesIn,normed=True)\n",
      "/home/dotson/Research/raven/framework/PostProcessorFunctions/TypicalHistoryFromHistorySet.py:271: VisibleDeprecationWarning: Passing `normed=True` on non-uniform bins has always been broken, and computes neither the probability density function nor the probability mass function. The result is only correct if the bins are uniform, when density=True will produce the same result anyway. The argument will be removed in a future version of numpy.\n",
      "  (counts, _) = np.histogram(data,bins=binEdgesIn,normed=True)\n",
      "/home/dotson/Research/raven/framework/PostProcessorFunctions/TypicalHistoryFromHistorySet.py:271: VisibleDeprecationWarning: Passing `normed=True` on non-uniform bins has always been broken, and computes neither the probability density function nor the probability mass function. The result is only correct if the bins are uniform, when density=True will produce the same result anyway. The argument will be removed in a future version of numpy.\n",
      "  (counts, _) = np.histogram(data,bins=binEdgesIn,normed=True)\n",
      "/home/dotson/Research/raven/framework/PostProcessorFunctions/TypicalHistoryFromHistorySet.py:271: VisibleDeprecationWarning: Passing `normed=True` on non-uniform bins has always been broken, and computes neither the probability density function nor the probability mass function. The result is only correct if the bins are uniform, when density=True will produce the same result anyway. The argument will be removed in a future version of numpy.\n",
      "  (counts, _) = np.histogram(data,bins=binEdgesIn,normed=True)\n",
      "/home/dotson/Research/raven/framework/PostProcessorFunctions/TypicalHistoryFromHistorySet.py:271: VisibleDeprecationWarning: Passing `normed=True` on non-uniform bins has always been broken, and computes neither the probability density function nor the probability mass function. The result is only correct if the bins are uniform, when density=True will produce the same result anyway. The argument will be removed in a future version of numpy.\n",
      "  (counts, _) = np.histogram(data,bins=binEdgesIn,normed=True)\n",
      "/home/dotson/Research/raven/framework/PostProcessorFunctions/TypicalHistoryFromHistorySet.py:271: VisibleDeprecationWarning: Passing `normed=True` on non-uniform bins has always been broken, and computes neither the probability density function nor the probability mass function. The result is only correct if the bins are uniform, when density=True will produce the same result anyway. The argument will be removed in a future version of numpy.\n",
      "  (counts, _) = np.histogram(data,bins=binEdgesIn,normed=True)\n",
      "/home/dotson/Research/raven/framework/PostProcessorFunctions/TypicalHistoryFromHistorySet.py:271: VisibleDeprecationWarning: Passing `normed=True` on non-uniform bins has always been broken, and computes neither the probability density function nor the probability mass function. The result is only correct if the bins are uniform, when density=True will produce the same result anyway. The argument will be removed in a future version of numpy.\n",
      "  (counts, _) = np.histogram(data,bins=binEdgesIn,normed=True)\n",
      "/home/dotson/Research/raven/framework/PostProcessorFunctions/TypicalHistoryFromHistorySet.py:271: VisibleDeprecationWarning: Passing `normed=True` on non-uniform bins has always been broken, and computes neither the probability density function nor the probability mass function. The result is only correct if the bins are uniform, when density=True will produce the same result anyway. The argument will be removed in a future version of numpy.\n",
      "  (counts, _) = np.histogram(data,bins=binEdgesIn,normed=True)\n",
      "/home/dotson/Research/raven/framework/PostProcessorFunctions/TypicalHistoryFromHistorySet.py:271: VisibleDeprecationWarning: Passing `normed=True` on non-uniform bins has always been broken, and computes neither the probability density function nor the probability mass function. The result is only correct if the bins are uniform, when density=True will produce the same result anyway. The argument will be removed in a future version of numpy.\n",
      "  (counts, _) = np.histogram(data,bins=binEdgesIn,normed=True)\n",
      "/home/dotson/Research/raven/framework/PostProcessorFunctions/TypicalHistoryFromHistorySet.py:271: VisibleDeprecationWarning: Passing `normed=True` on non-uniform bins has always been broken, and computes neither the probability density function nor the probability mass function. The result is only correct if the bins are uniform, when density=True will produce the same result anyway. The argument will be removed in a future version of numpy.\n",
      "  (counts, _) = np.histogram(data,bins=binEdgesIn,normed=True)\n",
      "(    0.30 sec) STEP SINGLERUN           : Message         -> ***       Run finished        ***\n",
      "(    0.30 sec) STEP SINGLERUN           : Message         -> ***     Closing the step      ***\n",
      "(    0.30 sec) STEP SINGLERUN           : Message         -> ***        Step closed        ***\n",
      "(    0.30 sec) SIMULATION               : Message         -> -- End step get_history of type: PostProcess                   --\n",
      "\n",
      "(    0.30 sec) SIMULATION               : Message         -> -- Beginning step write of type: IOStep                             --\n",
      "(    0.30 sec) STEP IOCOMBINED          : Message         -> ***  Beginning initialization ***\n",
      "(    0.30 sec) STEP IOCOMBINED          : DEBUG           -> jobHandler initialized\n",
      "(    0.30 sec) STEP IOCOMBINED          : DEBUG           -> for the role Output the item of class OutStreamPrint  and name TypicalWind     has been initialized\n",
      "(    0.30 sec) STEP IOCOMBINED          : Message         -> ***    Initialization done    ***\n",
      "(    0.30 sec) STEP IOCOMBINED          : Message         -> ***       Beginning run       ***\n",
      "(    0.30 sec) HistorySet               : DEBUG           -> Printing data to CSV: \"TypicalWind.csv\"\n"
     ]
    },
    {
     "name": "stdout",
     "output_type": "stream",
     "text": [
      "(    0.33 sec) HistorySet               : DEBUG           -> Printing metadata XML: \"TypicalWind.xml\"\r\n",
      "(    0.33 sec) STEP IOCOMBINED          : Message         -> ***       Run finished        ***\r\n",
      "(    0.33 sec) STEP IOCOMBINED          : Message         -> ***     Closing the step      ***\r\n",
      "(    0.33 sec) STEP IOCOMBINED          : Message         -> ***        Step closed        ***\r\n",
      "(    0.33 sec) SIMULATION               : Message         -> -- End step write of type: IOStep                              --\r\n",
      "\r\n",
      "--------------------------------------------------\r\n",
      "There were 1 warnings during the simulation run:\r\n",
      "(1 time) DataObject._convertToDict can be a slow operation and should be avoided where possible!\r\n",
      "--------------------------------------------------\r\n",
      "(    0.33 sec) SIMULATION               : Message         -> Run complete!\r\n"
     ]
    }
   ],
   "source": [
    "!~/Research/raven/raven_framework ~/Research/2020-dotson-optimal-sizing/inputfiles/typical_wind.xml"
   ]
  },
  {
   "cell_type": "code",
   "execution_count": 27,
   "metadata": {},
   "outputs": [],
   "source": [
    "#upload the typical annual wind generation\n",
    "typical_wind = pd.read_csv(path+\"TypicalWind_0.csv\")\n",
    "\n",
    "typical_wind['date'] = pd.date_range(start='1/1/2018', end='1/1/2019', freq='H')[:8760]"
   ]
  },
  {
   "cell_type": "code",
   "execution_count": 37,
   "metadata": {},
   "outputs": [
    {
     "data": {
      "image/png": "[encoded data removed]",
      "text/plain": [
       "<Figure size 864x648 with 1 Axes>"
      ]
     },
     "metadata": {},
     "output_type": "display_data"
    }
   ],
   "source": [
    "import matplotlib.dates as mdates\n",
    "\n",
    "\n",
    "# Set the locator\n",
    "locator = mdates.MonthLocator()  # every month\n",
    "# Specify the format - %b gives us Jan, Feb...\n",
    "fmt = mdates.DateFormatter('%b')\n",
    "\n",
    "fig = plt.figure(figsize=(12,9), facecolor='w', edgecolor='k')\n",
    "plt.plot(typical_wind['date'], typical_wind['power'])\n",
    "plt.xlabel('Date',fontsize=24)\n",
    "plt.ylabel('Power [kW]',fontsize=24)\n",
    "plt.title('Typical Wind Power Received by UIUC',fontsize=32)\n",
    "plt.ylim(top=12000)\n",
    "\n",
    "X = plt.gca().xaxis\n",
    "X.set_major_locator(locator)\n",
    "# Specify formatter\n",
    "X.set_major_formatter(fmt)\n",
    "plt.show()"
   ]
  },
  {
   "cell_type": "code",
   "execution_count": 29,
   "metadata": {},
   "outputs": [
    {
     "data": {
      "text/plain": [
       "31586253.371819198"
      ]
     },
     "execution_count": 29,
     "metadata": {},
     "output_type": "execute_result"
    }
   ],
   "source": [
    "# let's calculate the annual power generated\n",
    "\n",
    "power_gen = typical_wind['power'].sum()\n",
    "power_gen"
   ]
  },
  {
   "cell_type": "markdown",
   "metadata": {},
   "source": [
    "#### We will get to the bottom of this, let's look at the values predicted by Rail Splitter in the PPA"
   ]
  },
  {
   "cell_type": "code",
   "execution_count": 30,
   "metadata": {},
   "outputs": [
    {
     "name": "stdout",
     "output_type": "stream",
     "text": [
      "880380.0\n",
      "75712.68\n"
     ]
    }
   ],
   "source": [
    "# from Rail Splitter Wind Farm\n",
    "\n",
    "max_power = 100.5 #[MW]\n",
    "\n",
    "#if 100% production\n",
    "max_produced = max_power*8760\n",
    "print(max_produced)\n",
    "#UIUC gets 8.6% of produced power\n",
    "uiuc_received = max_produced*0.086\n",
    "\n",
    "print(uiuc_received)"
   ]
  },
  {
   "cell_type": "markdown",
   "metadata": {},
   "source": [
    "When the analysis is finished we can safely delete the built files from the local directory"
   ]
  },
  {
   "cell_type": "code",
   "execution_count": 31,
   "metadata": {},
   "outputs": [],
   "source": [
    "# delete built files\n",
    "# !rm -rf *.xml *.csv"
   ]
  },
  {
   "cell_type": "code",
   "execution_count": 32,
   "metadata": {},
   "outputs": [
    {
     "name": "stdout",
     "output_type": "stream",
     "text": [
      "data_funcs.py\t   __pycache__\t      steam_demand.ipynb  wind_power.ipynb\r\n",
      "grid_demand.ipynb  solar_power.ipynb  tests\r\n"
     ]
    }
   ],
   "source": [
    "!ls"
   ]
  },
  {
   "cell_type": "code",
   "execution_count": 33,
   "metadata": {},
   "outputs": [
    {
     "data": {
      "text/html": [
       "<div>\n",
       "<style scoped>\n",
       "    .dataframe tbody tr th:only-of-type {\n",
       "        vertical-align: middle;\n",
       "    }\n",
       "\n",
       "    .dataframe tbody tr th {\n",
       "        vertical-align: top;\n",
       "    }\n",
       "\n",
       "    .dataframe thead th {\n",
       "        text-align: right;\n",
       "    }\n",
       "</style>\n",
       "<table border=\"1\" class=\"dataframe\">\n",
       "  <thead>\n",
       "    <tr style=\"text-align: right;\">\n",
       "      <th></th>\n",
       "      <th>temp</th>\n",
       "      <th>RH</th>\n",
       "      <th>pressure</th>\n",
       "      <th>u</th>\n",
       "      <th>u_ex</th>\n",
       "      <th>rho</th>\n",
       "      <th>power</th>\n",
       "    </tr>\n",
       "    <tr>\n",
       "      <th>time</th>\n",
       "      <th></th>\n",
       "      <th></th>\n",
       "      <th></th>\n",
       "      <th></th>\n",
       "      <th></th>\n",
       "      <th></th>\n",
       "      <th></th>\n",
       "    </tr>\n",
       "  </thead>\n",
       "  <tbody>\n",
       "    <tr>\n",
       "      <td>2010-12-11 00:00:00</td>\n",
       "      <td>1.296296</td>\n",
       "      <td>90.666667</td>\n",
       "      <td>99243.763955</td>\n",
       "      <td>2.682164</td>\n",
       "      <td>9.205223</td>\n",
       "      <td>1.256807</td>\n",
       "      <td>4.077066</td>\n",
       "    </tr>\n",
       "    <tr>\n",
       "      <td>2010-12-11 01:00:00</td>\n",
       "      <td>0.000000</td>\n",
       "      <td>95.333333</td>\n",
       "      <td>99198.612107</td>\n",
       "      <td>2.533155</td>\n",
       "      <td>8.693822</td>\n",
       "      <td>1.262320</td>\n",
       "      <td>3.449673</td>\n",
       "    </tr>\n",
       "    <tr>\n",
       "      <td>2010-12-11 02:00:00</td>\n",
       "      <td>0.555556</td>\n",
       "      <td>95.333333</td>\n",
       "      <td>99164.748220</td>\n",
       "      <td>3.725227</td>\n",
       "      <td>12.785032</td>\n",
       "      <td>1.259212</td>\n",
       "      <td>8.643000</td>\n",
       "    </tr>\n",
       "    <tr>\n",
       "      <td>2010-12-11 03:00:00</td>\n",
       "      <td>1.111111</td>\n",
       "      <td>91.666667</td>\n",
       "      <td>99119.596371</td>\n",
       "      <td>3.427209</td>\n",
       "      <td>11.762229</td>\n",
       "      <td>1.256085</td>\n",
       "      <td>8.500888</td>\n",
       "    </tr>\n",
       "    <tr>\n",
       "      <td>2010-12-11 04:00:00</td>\n",
       "      <td>1.111111</td>\n",
       "      <td>93.000000</td>\n",
       "      <td>99051.868597</td>\n",
       "      <td>2.980182</td>\n",
       "      <td>10.228026</td>\n",
       "      <td>1.255182</td>\n",
       "      <td>5.585455</td>\n",
       "    </tr>\n",
       "    <tr>\n",
       "      <td>...</td>\n",
       "      <td>...</td>\n",
       "      <td>...</td>\n",
       "      <td>...</td>\n",
       "      <td>...</td>\n",
       "      <td>...</td>\n",
       "      <td>...</td>\n",
       "      <td>...</td>\n",
       "    </tr>\n",
       "    <tr>\n",
       "      <td>2019-12-12 22:00:00</td>\n",
       "      <td>4.444444</td>\n",
       "      <td>64.000000</td>\n",
       "      <td>99672.706520</td>\n",
       "      <td>3.278200</td>\n",
       "      <td>11.250828</td>\n",
       "      <td>1.248276</td>\n",
       "      <td>7.393335</td>\n",
       "    </tr>\n",
       "    <tr>\n",
       "      <td>2019-12-12 23:00:00</td>\n",
       "      <td>5.000000</td>\n",
       "      <td>63.666667</td>\n",
       "      <td>99604.978747</td>\n",
       "      <td>3.576218</td>\n",
       "      <td>12.273631</td>\n",
       "      <td>1.244848</td>\n",
       "      <td>8.643000</td>\n",
       "    </tr>\n",
       "    <tr>\n",
       "      <td>2019-12-13 00:00:00</td>\n",
       "      <td>4.444444</td>\n",
       "      <td>66.000000</td>\n",
       "      <td>99548.538936</td>\n",
       "      <td>2.682164</td>\n",
       "      <td>9.205223</td>\n",
       "      <td>1.246638</td>\n",
       "      <td>4.044079</td>\n",
       "    </tr>\n",
       "    <tr>\n",
       "      <td>2019-12-13 01:00:00</td>\n",
       "      <td>4.259259</td>\n",
       "      <td>69.000000</td>\n",
       "      <td>99514.675049</td>\n",
       "      <td>1.639100</td>\n",
       "      <td>5.625414</td>\n",
       "      <td>1.246961</td>\n",
       "      <td>0.923193</td>\n",
       "    </tr>\n",
       "    <tr>\n",
       "      <td>2019-12-13 02:00:00</td>\n",
       "      <td>3.888889</td>\n",
       "      <td>70.000000</td>\n",
       "      <td>99492.099125</td>\n",
       "      <td>2.235136</td>\n",
       "      <td>7.671019</td>\n",
       "      <td>1.248376</td>\n",
       "      <td>2.343585</td>\n",
       "    </tr>\n",
       "  </tbody>\n",
       "</table>\n",
       "<p>78939 rows × 7 columns</p>\n",
       "</div>"
      ],
      "text/plain": [
       "                         temp         RH      pressure         u       u_ex  \\\n",
       "time                                                                          \n",
       "2010-12-11 00:00:00  1.296296  90.666667  99243.763955  2.682164   9.205223   \n",
       "2010-12-11 01:00:00  0.000000  95.333333  99198.612107  2.533155   8.693822   \n",
       "2010-12-11 02:00:00  0.555556  95.333333  99164.748220  3.725227  12.785032   \n",
       "2010-12-11 03:00:00  1.111111  91.666667  99119.596371  3.427209  11.762229   \n",
       "2010-12-11 04:00:00  1.111111  93.000000  99051.868597  2.980182  10.228026   \n",
       "...                       ...        ...           ...       ...        ...   \n",
       "2019-12-12 22:00:00  4.444444  64.000000  99672.706520  3.278200  11.250828   \n",
       "2019-12-12 23:00:00  5.000000  63.666667  99604.978747  3.576218  12.273631   \n",
       "2019-12-13 00:00:00  4.444444  66.000000  99548.538936  2.682164   9.205223   \n",
       "2019-12-13 01:00:00  4.259259  69.000000  99514.675049  1.639100   5.625414   \n",
       "2019-12-13 02:00:00  3.888889  70.000000  99492.099125  2.235136   7.671019   \n",
       "\n",
       "                          rho     power  \n",
       "time                                     \n",
       "2010-12-11 00:00:00  1.256807  4.077066  \n",
       "2010-12-11 01:00:00  1.262320  3.449673  \n",
       "2010-12-11 02:00:00  1.259212  8.643000  \n",
       "2010-12-11 03:00:00  1.256085  8.500888  \n",
       "2010-12-11 04:00:00  1.255182  5.585455  \n",
       "...                       ...       ...  \n",
       "2019-12-12 22:00:00  1.248276  7.393335  \n",
       "2019-12-12 23:00:00  1.244848  8.643000  \n",
       "2019-12-13 00:00:00  1.246638  4.044079  \n",
       "2019-12-13 01:00:00  1.246961  0.923193  \n",
       "2019-12-13 02:00:00  1.248376  2.343585  \n",
       "\n",
       "[78939 rows x 7 columns]"
      ]
     },
     "execution_count": 33,
     "metadata": {},
     "output_type": "execute_result"
    }
   ],
   "source": [
    "lincoln_wind"
   ]
  },
  {
   "cell_type": "code",
   "execution_count": 34,
   "metadata": {},
   "outputs": [
    {
     "data": {
      "image/png": "[encoded data removed]",
      "text/plain": [
       "<Figure size 864x648 with 1 Axes>"
      ]
     },
     "metadata": {},
     "output_type": "display_data"
    }
   ],
   "source": [
    "fig = plt.figure(figsize=(12,9), edgecolor='k', facecolor='w')\n",
    "plt.plot(lincoln_wind.index, lincoln_wind['u_ex'], lw=0.25, label='extrapolated windspeed')\n",
    "plt.xlabel('Date')\n",
    "plt.ylabel('wind speed [m/s]')\n",
    "plt.legend()\n",
    "plt.title(\"Wind Speed at 80m for 2011-2018\")\n",
    "plt.show()"
   ]
  },
  {
   "cell_type": "code",
   "execution_count": 35,
   "metadata": {},
   "outputs": [
    {
     "data": {
      "text/plain": [
       "8.887954249671393"
      ]
     },
     "execution_count": 35,
     "metadata": {},
     "output_type": "execute_result"
    }
   ],
   "source": [
    "lincoln_wind['u_ex'].mean()"
   ]
  },
  {
   "cell_type": "markdown",
   "metadata": {},
   "source": [
    ":### The wind speed and power is much improved, but it's still not quite right\n",
    "\n",
    "According to this group\n",
    "https://web.stanford.edu/group/efmh/winds/global_winds.html\n",
    "\n",
    "Central Illinois had an average wind speed at 80m of _at most_ 7.5 m/s (class 3). This calculation puts Illinois firmly 3 classes higher (it's windy but not that windy). "
   ]
  }
 ],
 "metadata": {
  "kernelspec": {
   "display_name": "Python 3",
   "language": "python",
   "name": "python3"
  },
  "language_info": {
   "codemirror_mode": {
    "name": "ipython",
    "version": 3
   },
   "file_extension": ".py",
   "mimetype": "text/x-python",
   "name": "python",
   "nbconvert_exporter": "python",
   "pygments_lexer": "ipython3",
   "version": "3.6.9"
  }
 },
 "nbformat": 4,
 "nbformat_minor": 2
}
