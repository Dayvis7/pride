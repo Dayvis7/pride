{
 "cells": [
  {
   "cell_type": "markdown",
   "metadata": {},
   "source": [
    "# Energy in the Chilled Water System\n",
    "\n",
    "The chilled water system (CWS) at UIUC is analogous to battery storage because the grid demand on campus feels it like a decrease in load because the chilled water is discharged from the tank before the electric chillers are turned on. To calculate the stored energy value in MWh, we can use:\n",
    "\n",
    "$Q = mc_p\\Delta T$ [J]\n"
   ]
  },
  {
   "cell_type": "code",
   "execution_count": 1,
   "metadata": {},
   "outputs": [],
   "source": [
    "import matplotlib.pyplot as plt\n",
    "import numpy as np"
   ]
  },
  {
   "cell_type": "code",
   "execution_count": 2,
   "metadata": {},
   "outputs": [],
   "source": [
    "def Q (m, c, delta_T):\n",
    "    \"\"\"\n",
    "    This function calculates the energy stored in joules. \n",
    "    \n",
    "    Parameters:\n",
    "    -----------\n",
    "    m : float\n",
    "        This is the mass of the heated/cooled substance in [kg]\n",
    "    c : float\n",
    "        This is the specific heat capacity of the substance in \n",
    "        [J/kg C]\n",
    "    delta_T : float\n",
    "        This is the change in temperature of the substance. \n",
    "    \n",
    "    Returns:\n",
    "    --------\n",
    "    q : float\n",
    "        The energy stored in the substance. \n",
    "    \"\"\"\n",
    "    q = m*c*delta_T\n",
    "    return q\n"
   ]
  },
  {
   "cell_type": "code",
   "execution_count": 3,
   "metadata": {},
   "outputs": [
    {
     "name": "stdout",
     "output_type": "stream",
     "text": [
      "The energy stored in the full CWS tank is 935072326893.9393 joules\n"
     ]
    }
   ],
   "source": [
    "tank_vol = 6.5e6 # gallons\n",
    "\n",
    "# convert gallons to cubic meters\n",
    "tank_vol = tank_vol/264\n",
    "\n",
    "rho_w = 997 # kg/m^3\n",
    "cp_w = 4186 # j/kg C\n",
    "dT = 9.1 # C\n",
    "mass_w = rho_w*tank_vol # kg\n",
    "Q_cws = Q(mass_w, cp_w, dT)\n",
    "print(\"The energy stored in the full CWS tank is {} joules\".format(Q_cws))"
   ]
  },
  {
   "cell_type": "markdown",
   "metadata": {},
   "source": [
    "#### Converting Joules to MWh\n",
    "\n",
    "We can convert Joules to MWh by the following:\n",
    "\n",
    "$1 W = 1 J/s$ <br>\n",
    "$1 Wh = 1 J/s * 3600 s/hour$<br>\n",
    "$1 MWh = 1x10^6 Wh$\n",
    "\n",
    "So\n",
    "\n",
    "$ # MWh = # J / (1e6 * 3600)$"
   ]
  },
  {
   "cell_type": "code",
   "execution_count": 4,
   "metadata": {},
   "outputs": [
    {
     "name": "stdout",
     "output_type": "stream",
     "text": [
      "The MWh equivalent in energy storage is 259.7423130260943 MWh\n"
     ]
    }
   ],
   "source": [
    "Q_MWh = Q_cws / 3.6e9\n",
    "\n",
    "print(\"The MWh equivalent in energy storage is {} MWh (thermal)\".format(Q_MWh))"
   ]
  },
  {
   "cell_type": "markdown",
   "metadata": {},
   "source": [
    "#### Conversion Efficiency\n",
    "\n",
    "Chilled water is a form of thermal energy storage. To get the equivalent energy storage in electric energy, a factor of 1/3 is multiplied as an assumption ($\\eta = 33\\%$)"
   ]
  },
  {
   "cell_type": "code",
   "execution_count": 5,
   "metadata": {},
   "outputs": [
    {
     "name": "stdout",
     "output_type": "stream",
     "text": [
      "The battery energy equivalent (BEE) is 86.5807710086981 MWh (electric)\n"
     ]
    }
   ],
   "source": [
    "print(\"The battery energy equivalent (BEE) is {} MWh (electric)\".format(Q_MWh/3))"
   ]
  },
  {
   "cell_type": "markdown",
   "metadata": {},
   "source": [
    "#### Question\n",
    "\n",
    "This battery equivalent is only true to a certain extent. I probably have to cap the outflow at a certain level, but how much is the question. \n",
    "\n",
    "This document give some indication of a solution but the reality is I need data from eDNA (enter Mike Marquissee) about the chilled water use on campus. \n"
   ]
  },
  {
   "cell_type": "code",
   "execution_count": null,
   "metadata": {},
   "outputs": [],
   "source": []
  }
 ],
 "metadata": {
  "kernelspec": {
   "display_name": "Python 3",
   "language": "python",
   "name": "python3"
  },
  "language_info": {
   "codemirror_mode": {
    "name": "ipython",
    "version": 3
   },
   "file_extension": ".py",
   "mimetype": "text/x-python",
   "name": "python",
   "nbconvert_exporter": "python",
   "pygments_lexer": "ipython3",
   "version": "3.6.9"
  }
 },
 "nbformat": 4,
 "nbformat_minor": 2
}
